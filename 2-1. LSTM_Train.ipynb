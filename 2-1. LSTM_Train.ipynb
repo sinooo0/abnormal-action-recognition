{
 "cells": [
  {
   "cell_type": "code",
   "execution_count": 1,
   "metadata": {
    "executionInfo": {
     "elapsed": 6344,
     "status": "ok",
     "timestamp": 1736816975834,
     "user": {
      "displayName": "신호용",
      "userId": "04424386186383145760"
     },
     "user_tz": -540
    },
    "id": "RcPpb0t6yau8"
   },
   "outputs": [],
   "source": [
    "import os\n",
    "import shutil\n",
    "import re\n",
    "import pandas as pd\n",
    "import numpy as np\n",
    "import matplotlib.pyplot as plt\n",
    "from keras.models import Sequential\n",
    "from keras.layers import LSTM, Dense\n",
    "from keras.utils import to_categorical\n",
    "from keras.optimizers import Adam\n",
    "from keras.callbacks import EarlyStopping\n",
    "from sklearn.model_selection import train_test_split"
   ]
  },
  {
   "cell_type": "code",
   "execution_count": 5,
   "metadata": {
    "executionInfo": {
     "elapsed": 948,
     "status": "ok",
     "timestamp": 1736816979723,
     "user": {
      "displayName": "신호용",
      "userId": "04424386186383145760"
     },
     "user_tz": -540
    },
    "id": "F56DvJR2yavA"
   },
   "outputs": [],
   "source": [
    "# LSTM_Live 폴더의 모든 CSV 파일 병합\n",
    "def LSTM_Live_Merge(folder_path):\n",
    "    \n",
    "    csv_files = []\n",
    "\n",
    "    # 하위 폴더까지 탐색\n",
    "    for root, _, files in os.walk(folder_path):\n",
    "        for file in files:\n",
    "            if file.endswith('.csv'):\n",
    "                csv_path = os.path.join(root, file)\n",
    "                \n",
    "                # CSV 불러오기\n",
    "                df = pd.read_csv(csv_path)\n",
    "                csv_files.append(df)\n",
    "\n",
    "    # 모든 CSV 파일 병합\n",
    "    if csv_files:\n",
    "        combined_df = pd.concat(csv_files, ignore_index=True)\n",
    "        print(f\"총 {len(csv_files)}개의 CSV 파일을 병합했습니다. 데이터 크기: {combined_df.shape}\")\n",
    "        return combined_df\n",
    "    else:\n",
    "        print(\"병합할 CSV 파일이 없습니다.\")\n",
    "        return pd.DataFrame()\n"
   ]
  },
  {
   "cell_type": "code",
   "execution_count": 6,
   "metadata": {},
   "outputs": [],
   "source": [
    "# 정렬을 위한 자연 정렬 키 함수\n",
    "def natural_sort_key(s):\n",
    "    return [int(text) if text.isdigit() else text.lower() for text in re.split(r'(\\d+)', s)]\n",
    "\n",
    "# CSV 파일 개수가 6의 배수가 아닌 경우 폴더 삭제하는 함수 (29개인 경우 경로 출력)\n",
    "def delete_invalid_csv_folders(folder_path, sequence=6):\n",
    "    \"\"\"폴더 내 CSV 파일 개수가 sequence(6)의 배수가 아닌 경우 폴더 삭제하고, 29개인 경우 경로 출력\"\"\"\n",
    "    for root, _, files in sorted(os.walk(folder_path), key=lambda x: natural_sort_key(x[0])):\n",
    "        sorted_files = sorted([file for file in files if file.endswith('.csv')], key=natural_sort_key)\n",
    "        file_count = len(sorted_files)\n",
    "\n",
    "        if file_count == 0:\n",
    "            continue  # CSV 파일이 없는 폴더는 건너뜀\n",
    "\n",
    "        # CSV 파일 개수가 29개인 폴더는 경로 출력\n",
    "        if file_count == 29:\n",
    "            print(f\"[CSV 29개] {root}\")\n",
    "\n",
    "        # CSV 파일 개수가 6의 배수가 아니면 폴더 삭제\n",
    "        if file_count % sequence != 0:\n",
    "            print(f\"[삭제] {root}: CSV 파일 수 {file_count}개는 {sequence}의 배수가 아닙니다. 폴더를 삭제합니다.\")\n",
    "\n",
    "            # 폴더 삭제\n",
    "            try:\n",
    "                shutil.rmtree(root)  # 폴더 삭제\n",
    "                print(f\"삭제됨: {root}\")\n",
    "            except Exception as e:\n",
    "                print(f\"폴더 삭제 오류: {root} - {e}\")\n",
    "\n",
    "# 폴더 내 CSV 파일 병합\n",
    "def LSTM_Capture_Merge(folder_path, sequence):\n",
    "    \n",
    "    csv_files = []\n",
    "\n",
    "    for root, _, files in sorted(os.walk(folder_path), key=lambda x: natural_sort_key(x[0])):\n",
    "        sorted_files = sorted([file for file in files if file.endswith('.csv')], key=natural_sort_key)\n",
    "        file_count = len(sorted_files)\n",
    "        \n",
    "        if file_count == 0:\n",
    "            continue  # CSV 파일이 없는 폴더는 건너뜀\n",
    "        \n",
    "        if file_count % sequence != 0:\n",
    "            print(f\"[제외] {root}: CSV 파일 수 {file_count}개는 {sequence}의 배수가 아닙니다.\")\n",
    "            continue  # sequence의 배수가 아니면 병합 제외\n",
    "\n",
    "        for file in sorted_files:\n",
    "            csv_path = os.path.join(root, file)\n",
    "            csv_files.append(csv_path)\n",
    "\n",
    "    if not csv_files:\n",
    "        print(\"병합할 CSV 파일이 없습니다.\")\n",
    "        return pd.DataFrame()\n",
    "    \n",
    "    # CSV 파일 병합 (float_precision 추가)\n",
    "    dataframes = [pd.read_csv(file, float_precision='round_trip') for file in csv_files]\n",
    "    combined_df = pd.concat(dataframes, ignore_index=True)\n",
    "    print(f\"총 {len(csv_files)}개의 CSV 파일을 병합했습니다. 데이터 크기: {combined_df.shape}\")\n",
    "    return combined_df"
   ]
  },
  {
   "cell_type": "code",
   "execution_count": 7,
   "metadata": {
    "executionInfo": {
     "elapsed": 2,
     "status": "ok",
     "timestamp": 1736816981402,
     "user": {
      "displayName": "신호용",
      "userId": "04424386186383145760"
     },
     "user_tz": -540
    },
    "id": "XCctZO0JEt3_"
   },
   "outputs": [],
   "source": [
    "# 데이터 시퀀스별로 변환\n",
    "def reshape_to_sequences(data, labels, seq_length):\n",
    "    sequences = []\n",
    "    sequence_labels = []\n",
    "    for i in range(len(data) - seq_length + 1):\n",
    "        sequences.append(data[i:i + seq_length])\n",
    "        sequence_labels.append(labels[i + seq_length - 1])  # 시퀀스의 마지막 레이블 사용\n",
    "    return np.array(sequences), np.array(sequence_labels)"
   ]
  },
  {
   "cell_type": "code",
   "execution_count": 8,
   "metadata": {},
   "outputs": [],
   "source": [
    "# 클래스 균등하게 정리\n",
    "def balance_classes(df, class_column, target_samples):\n",
    "\n",
    "    # 그룹화하여 각 클래스에서 샘플링\n",
    "    balanced_df = df.groupby(class_column).apply(\n",
    "        lambda x: x.sample(n=target_samples, random_state=42) if len(x) >= target_samples else x\n",
    "    )\n",
    "    \n",
    "    # 인덱스 초기화\n",
    "    balanced_df = balanced_df.reset_index(drop=True)\n",
    "    return balanced_df"
   ]
  },
  {
   "cell_type": "code",
   "execution_count": 9,
   "metadata": {},
   "outputs": [],
   "source": [
    "# 6의 배수가 아닌 CSV 파일이 있는 폴더 삭제 + 29개인 폴더 출력\n",
    "delete_invalid_csv_folders('./Data' + '/LSTM_Capture/2. danger', sequence=6)"
   ]
  },
  {
   "cell_type": "code",
   "execution_count": 12,
   "metadata": {
    "colab": {
     "base_uri": "https://localhost:8080/"
    },
    "executionInfo": {
     "elapsed": 7399,
     "status": "ok",
     "timestamp": 1736816993226,
     "user": {
      "displayName": "신호용",
      "userId": "04424386186383145760"
     },
     "user_tz": -540
    },
    "id": "v9lYaWtICsyN",
    "outputId": "5674cacd-ed53-49a6-8117-5ae8b539a54f"
   },
   "outputs": [
    {
     "name": "stdout",
     "output_type": "stream",
     "text": [
      "병합할 CSV 파일이 없습니다.\n",
      "총 9636개의 CSV 파일을 병합했습니다. 데이터 크기: (9636, 35)\n"
     ]
    }
   ],
   "source": [
    "# 데이터 불러오기 및 병합\n",
    "folder_path = './Data'  # 데이터 폴더 경로\n",
    "\n",
    "df_live = LSTM_Live_Merge(folder_path + '/LSTM_Live') # LSTM_Live 폴더 병합\n",
    "df_capture = LSTM_Capture_Merge(folder_path + '/LSTM_Capture', sequence=6) # LSTM_Capture 폴더 병합\n",
    "df= pd.concat([df_live, df_capture], ignore_index=True) # 전체 폴더 병합"
   ]
  },
  {
   "cell_type": "code",
   "execution_count": 13,
   "metadata": {},
   "outputs": [
    {
     "name": "stdout",
     "output_type": "stream",
     "text": [
      "action_class\n",
      "0    3318\n",
      "2    3306\n",
      "1    3012\n",
      "Name: count, dtype: int64\n"
     ]
    }
   ],
   "source": [
    "# 정리 전 클래스별 갯수 확인\n",
    "print(df['action_class'].value_counts())"
   ]
  },
  {
   "cell_type": "code",
   "execution_count": 41,
   "metadata": {},
   "outputs": [
    {
     "name": "stderr",
     "output_type": "stream",
     "text": [
      "C:\\Users\\User\\AppData\\Local\\Temp\\ipykernel_9396\\2504395227.py:5: DeprecationWarning: DataFrameGroupBy.apply operated on the grouping columns. This behavior is deprecated, and in a future version of pandas the grouping columns will be excluded from the operation. Either pass `include_groups=False` to exclude the groupings or explicitly select the grouping columns after groupby to silence this warning.\n",
      "  balanced_df = df.groupby(class_column).apply(\n"
     ]
    }
   ],
   "source": [
    "# 클래스 균등하게 정리\n",
    "df = balance_classes(df, class_column='action_class', target_samples=96)"
   ]
  },
  {
   "cell_type": "code",
   "execution_count": 14,
   "metadata": {},
   "outputs": [
    {
     "name": "stdout",
     "output_type": "stream",
     "text": [
      "action_class\n",
      "0    3318\n",
      "2    3306\n",
      "1    3012\n",
      "Name: count, dtype: int64\n"
     ]
    },
    {
     "data": {
      "text/html": [
       "<div>\n",
       "<style scoped>\n",
       "    .dataframe tbody tr th:only-of-type {\n",
       "        vertical-align: middle;\n",
       "    }\n",
       "\n",
       "    .dataframe tbody tr th {\n",
       "        vertical-align: top;\n",
       "    }\n",
       "\n",
       "    .dataframe thead th {\n",
       "        text-align: right;\n",
       "    }\n",
       "</style>\n",
       "<table border=\"1\" class=\"dataframe\">\n",
       "  <thead>\n",
       "    <tr style=\"text-align: right;\">\n",
       "      <th></th>\n",
       "      <th>kp0_x</th>\n",
       "      <th>kp0_y</th>\n",
       "      <th>kp1_x</th>\n",
       "      <th>kp1_y</th>\n",
       "      <th>kp2_x</th>\n",
       "      <th>kp2_y</th>\n",
       "      <th>kp3_x</th>\n",
       "      <th>kp3_y</th>\n",
       "      <th>kp4_x</th>\n",
       "      <th>kp4_y</th>\n",
       "      <th>...</th>\n",
       "      <th>kp12_y</th>\n",
       "      <th>kp13_x</th>\n",
       "      <th>kp13_y</th>\n",
       "      <th>kp14_x</th>\n",
       "      <th>kp14_y</th>\n",
       "      <th>kp15_x</th>\n",
       "      <th>kp15_y</th>\n",
       "      <th>kp16_x</th>\n",
       "      <th>kp16_y</th>\n",
       "      <th>action_class</th>\n",
       "    </tr>\n",
       "  </thead>\n",
       "  <tbody>\n",
       "    <tr>\n",
       "      <th>0</th>\n",
       "      <td>0.465898</td>\n",
       "      <td>0.155171</td>\n",
       "      <td>0.523347</td>\n",
       "      <td>0.132365</td>\n",
       "      <td>0.417312</td>\n",
       "      <td>0.132064</td>\n",
       "      <td>0.626188</td>\n",
       "      <td>0.141910</td>\n",
       "      <td>0.356054</td>\n",
       "      <td>0.138935</td>\n",
       "      <td>...</td>\n",
       "      <td>0.554828</td>\n",
       "      <td>0.676381</td>\n",
       "      <td>0.744417</td>\n",
       "      <td>0.457153</td>\n",
       "      <td>0.733534</td>\n",
       "      <td>0.704138</td>\n",
       "      <td>0.895645</td>\n",
       "      <td>0.498265</td>\n",
       "      <td>0.871101</td>\n",
       "      <td>0</td>\n",
       "    </tr>\n",
       "    <tr>\n",
       "      <th>1</th>\n",
       "      <td>0.458163</td>\n",
       "      <td>0.158859</td>\n",
       "      <td>0.520402</td>\n",
       "      <td>0.135390</td>\n",
       "      <td>0.406434</td>\n",
       "      <td>0.134199</td>\n",
       "      <td>0.629726</td>\n",
       "      <td>0.142295</td>\n",
       "      <td>0.338418</td>\n",
       "      <td>0.138697</td>\n",
       "      <td>...</td>\n",
       "      <td>0.568725</td>\n",
       "      <td>0.698195</td>\n",
       "      <td>0.744871</td>\n",
       "      <td>0.454175</td>\n",
       "      <td>0.739981</td>\n",
       "      <td>0.700019</td>\n",
       "      <td>0.893639</td>\n",
       "      <td>0.510552</td>\n",
       "      <td>0.870637</td>\n",
       "      <td>0</td>\n",
       "    </tr>\n",
       "    <tr>\n",
       "      <th>2</th>\n",
       "      <td>0.427069</td>\n",
       "      <td>0.165217</td>\n",
       "      <td>0.493218</td>\n",
       "      <td>0.143255</td>\n",
       "      <td>0.376026</td>\n",
       "      <td>0.140980</td>\n",
       "      <td>0.611417</td>\n",
       "      <td>0.148885</td>\n",
       "      <td>0.311441</td>\n",
       "      <td>0.143064</td>\n",
       "      <td>...</td>\n",
       "      <td>0.569011</td>\n",
       "      <td>0.689467</td>\n",
       "      <td>0.747847</td>\n",
       "      <td>0.420788</td>\n",
       "      <td>0.738906</td>\n",
       "      <td>0.686374</td>\n",
       "      <td>0.887316</td>\n",
       "      <td>0.483228</td>\n",
       "      <td>0.865632</td>\n",
       "      <td>0</td>\n",
       "    </tr>\n",
       "    <tr>\n",
       "      <th>3</th>\n",
       "      <td>0.397619</td>\n",
       "      <td>0.166994</td>\n",
       "      <td>0.455787</td>\n",
       "      <td>0.142228</td>\n",
       "      <td>0.345399</td>\n",
       "      <td>0.141774</td>\n",
       "      <td>0.571732</td>\n",
       "      <td>0.146189</td>\n",
       "      <td>0.285154</td>\n",
       "      <td>0.144422</td>\n",
       "      <td>...</td>\n",
       "      <td>0.570573</td>\n",
       "      <td>0.637093</td>\n",
       "      <td>0.758206</td>\n",
       "      <td>0.394131</td>\n",
       "      <td>0.740048</td>\n",
       "      <td>0.644034</td>\n",
       "      <td>0.891922</td>\n",
       "      <td>0.443403</td>\n",
       "      <td>0.857245</td>\n",
       "      <td>0</td>\n",
       "    </tr>\n",
       "    <tr>\n",
       "      <th>4</th>\n",
       "      <td>0.451159</td>\n",
       "      <td>0.161358</td>\n",
       "      <td>0.513140</td>\n",
       "      <td>0.135386</td>\n",
       "      <td>0.397743</td>\n",
       "      <td>0.136171</td>\n",
       "      <td>0.619379</td>\n",
       "      <td>0.144817</td>\n",
       "      <td>0.333507</td>\n",
       "      <td>0.144677</td>\n",
       "      <td>...</td>\n",
       "      <td>0.576974</td>\n",
       "      <td>0.695167</td>\n",
       "      <td>0.753620</td>\n",
       "      <td>0.404994</td>\n",
       "      <td>0.746226</td>\n",
       "      <td>0.659274</td>\n",
       "      <td>0.893565</td>\n",
       "      <td>0.494259</td>\n",
       "      <td>0.859216</td>\n",
       "      <td>0</td>\n",
       "    </tr>\n",
       "    <tr>\n",
       "      <th>...</th>\n",
       "      <td>...</td>\n",
       "      <td>...</td>\n",
       "      <td>...</td>\n",
       "      <td>...</td>\n",
       "      <td>...</td>\n",
       "      <td>...</td>\n",
       "      <td>...</td>\n",
       "      <td>...</td>\n",
       "      <td>...</td>\n",
       "      <td>...</td>\n",
       "      <td>...</td>\n",
       "      <td>...</td>\n",
       "      <td>...</td>\n",
       "      <td>...</td>\n",
       "      <td>...</td>\n",
       "      <td>...</td>\n",
       "      <td>...</td>\n",
       "      <td>...</td>\n",
       "      <td>...</td>\n",
       "      <td>...</td>\n",
       "      <td>...</td>\n",
       "    </tr>\n",
       "    <tr>\n",
       "      <th>9631</th>\n",
       "      <td>-1.190265</td>\n",
       "      <td>-0.930612</td>\n",
       "      <td>-1.190265</td>\n",
       "      <td>-0.930612</td>\n",
       "      <td>-1.190265</td>\n",
       "      <td>-0.930612</td>\n",
       "      <td>0.197161</td>\n",
       "      <td>0.249063</td>\n",
       "      <td>-1.190265</td>\n",
       "      <td>-0.930612</td>\n",
       "      <td>...</td>\n",
       "      <td>0.374881</td>\n",
       "      <td>0.469176</td>\n",
       "      <td>0.665744</td>\n",
       "      <td>0.416124</td>\n",
       "      <td>0.428203</td>\n",
       "      <td>0.437671</td>\n",
       "      <td>0.923040</td>\n",
       "      <td>0.457467</td>\n",
       "      <td>0.715041</td>\n",
       "      <td>2</td>\n",
       "    </tr>\n",
       "    <tr>\n",
       "      <th>9632</th>\n",
       "      <td>-1.234234</td>\n",
       "      <td>-0.942623</td>\n",
       "      <td>-1.234234</td>\n",
       "      <td>-0.942623</td>\n",
       "      <td>-1.234234</td>\n",
       "      <td>-0.942623</td>\n",
       "      <td>0.172746</td>\n",
       "      <td>0.220374</td>\n",
       "      <td>-1.234234</td>\n",
       "      <td>-0.942623</td>\n",
       "      <td>...</td>\n",
       "      <td>0.362826</td>\n",
       "      <td>0.447607</td>\n",
       "      <td>0.642000</td>\n",
       "      <td>0.403804</td>\n",
       "      <td>0.417638</td>\n",
       "      <td>0.438476</td>\n",
       "      <td>0.886301</td>\n",
       "      <td>0.457338</td>\n",
       "      <td>0.660545</td>\n",
       "      <td>2</td>\n",
       "    </tr>\n",
       "    <tr>\n",
       "      <th>9633</th>\n",
       "      <td>-1.336449</td>\n",
       "      <td>-0.888446</td>\n",
       "      <td>-1.336449</td>\n",
       "      <td>-0.888446</td>\n",
       "      <td>-1.336449</td>\n",
       "      <td>-0.888446</td>\n",
       "      <td>0.197650</td>\n",
       "      <td>0.234722</td>\n",
       "      <td>-1.336449</td>\n",
       "      <td>-0.888446</td>\n",
       "      <td>...</td>\n",
       "      <td>0.401725</td>\n",
       "      <td>0.469864</td>\n",
       "      <td>0.702058</td>\n",
       "      <td>0.377485</td>\n",
       "      <td>0.470216</td>\n",
       "      <td>0.379870</td>\n",
       "      <td>0.920516</td>\n",
       "      <td>0.387616</td>\n",
       "      <td>0.700421</td>\n",
       "      <td>2</td>\n",
       "    </tr>\n",
       "    <tr>\n",
       "      <th>9634</th>\n",
       "      <td>-1.325581</td>\n",
       "      <td>-0.899598</td>\n",
       "      <td>-1.325581</td>\n",
       "      <td>-0.899598</td>\n",
       "      <td>-1.325581</td>\n",
       "      <td>-0.899598</td>\n",
       "      <td>0.205407</td>\n",
       "      <td>0.236843</td>\n",
       "      <td>-1.325581</td>\n",
       "      <td>-0.899598</td>\n",
       "      <td>...</td>\n",
       "      <td>0.393664</td>\n",
       "      <td>0.452201</td>\n",
       "      <td>0.682473</td>\n",
       "      <td>0.403982</td>\n",
       "      <td>0.426828</td>\n",
       "      <td>0.402386</td>\n",
       "      <td>0.885464</td>\n",
       "      <td>0.387802</td>\n",
       "      <td>0.647328</td>\n",
       "      <td>2</td>\n",
       "    </tr>\n",
       "    <tr>\n",
       "      <th>9635</th>\n",
       "      <td>-1.369668</td>\n",
       "      <td>-0.903226</td>\n",
       "      <td>-1.369668</td>\n",
       "      <td>-0.903226</td>\n",
       "      <td>-1.369668</td>\n",
       "      <td>-0.903226</td>\n",
       "      <td>0.139462</td>\n",
       "      <td>0.240106</td>\n",
       "      <td>-1.369668</td>\n",
       "      <td>-0.903226</td>\n",
       "      <td>...</td>\n",
       "      <td>0.368277</td>\n",
       "      <td>0.403023</td>\n",
       "      <td>0.732606</td>\n",
       "      <td>0.383070</td>\n",
       "      <td>0.430722</td>\n",
       "      <td>0.387625</td>\n",
       "      <td>0.940782</td>\n",
       "      <td>0.392523</td>\n",
       "      <td>0.672898</td>\n",
       "      <td>2</td>\n",
       "    </tr>\n",
       "  </tbody>\n",
       "</table>\n",
       "<p>9636 rows × 35 columns</p>\n",
       "</div>"
      ],
      "text/plain": [
       "         kp0_x     kp0_y     kp1_x     kp1_y     kp2_x     kp2_y     kp3_x  \\\n",
       "0     0.465898  0.155171  0.523347  0.132365  0.417312  0.132064  0.626188   \n",
       "1     0.458163  0.158859  0.520402  0.135390  0.406434  0.134199  0.629726   \n",
       "2     0.427069  0.165217  0.493218  0.143255  0.376026  0.140980  0.611417   \n",
       "3     0.397619  0.166994  0.455787  0.142228  0.345399  0.141774  0.571732   \n",
       "4     0.451159  0.161358  0.513140  0.135386  0.397743  0.136171  0.619379   \n",
       "...        ...       ...       ...       ...       ...       ...       ...   \n",
       "9631 -1.190265 -0.930612 -1.190265 -0.930612 -1.190265 -0.930612  0.197161   \n",
       "9632 -1.234234 -0.942623 -1.234234 -0.942623 -1.234234 -0.942623  0.172746   \n",
       "9633 -1.336449 -0.888446 -1.336449 -0.888446 -1.336449 -0.888446  0.197650   \n",
       "9634 -1.325581 -0.899598 -1.325581 -0.899598 -1.325581 -0.899598  0.205407   \n",
       "9635 -1.369668 -0.903226 -1.369668 -0.903226 -1.369668 -0.903226  0.139462   \n",
       "\n",
       "         kp3_y     kp4_x     kp4_y  ...    kp12_y    kp13_x    kp13_y  \\\n",
       "0     0.141910  0.356054  0.138935  ...  0.554828  0.676381  0.744417   \n",
       "1     0.142295  0.338418  0.138697  ...  0.568725  0.698195  0.744871   \n",
       "2     0.148885  0.311441  0.143064  ...  0.569011  0.689467  0.747847   \n",
       "3     0.146189  0.285154  0.144422  ...  0.570573  0.637093  0.758206   \n",
       "4     0.144817  0.333507  0.144677  ...  0.576974  0.695167  0.753620   \n",
       "...        ...       ...       ...  ...       ...       ...       ...   \n",
       "9631  0.249063 -1.190265 -0.930612  ...  0.374881  0.469176  0.665744   \n",
       "9632  0.220374 -1.234234 -0.942623  ...  0.362826  0.447607  0.642000   \n",
       "9633  0.234722 -1.336449 -0.888446  ...  0.401725  0.469864  0.702058   \n",
       "9634  0.236843 -1.325581 -0.899598  ...  0.393664  0.452201  0.682473   \n",
       "9635  0.240106 -1.369668 -0.903226  ...  0.368277  0.403023  0.732606   \n",
       "\n",
       "        kp14_x    kp14_y    kp15_x    kp15_y    kp16_x    kp16_y  action_class  \n",
       "0     0.457153  0.733534  0.704138  0.895645  0.498265  0.871101             0  \n",
       "1     0.454175  0.739981  0.700019  0.893639  0.510552  0.870637             0  \n",
       "2     0.420788  0.738906  0.686374  0.887316  0.483228  0.865632             0  \n",
       "3     0.394131  0.740048  0.644034  0.891922  0.443403  0.857245             0  \n",
       "4     0.404994  0.746226  0.659274  0.893565  0.494259  0.859216             0  \n",
       "...        ...       ...       ...       ...       ...       ...           ...  \n",
       "9631  0.416124  0.428203  0.437671  0.923040  0.457467  0.715041             2  \n",
       "9632  0.403804  0.417638  0.438476  0.886301  0.457338  0.660545             2  \n",
       "9633  0.377485  0.470216  0.379870  0.920516  0.387616  0.700421             2  \n",
       "9634  0.403982  0.426828  0.402386  0.885464  0.387802  0.647328             2  \n",
       "9635  0.383070  0.430722  0.387625  0.940782  0.392523  0.672898             2  \n",
       "\n",
       "[9636 rows x 35 columns]"
      ]
     },
     "execution_count": 14,
     "metadata": {},
     "output_type": "execute_result"
    }
   ],
   "source": [
    "# 데이터프레임 확인\n",
    "print(df['action_class'].value_counts())\n",
    "df"
   ]
  },
  {
   "cell_type": "code",
   "execution_count": 15,
   "metadata": {
    "executionInfo": {
     "elapsed": 428,
     "status": "ok",
     "timestamp": 1736817010142,
     "user": {
      "displayName": "신호용",
      "userId": "04424386186383145760"
     },
     "user_tz": -540
    },
    "id": "vbBXiHUyyavB"
   },
   "outputs": [],
   "source": [
    "# X, y 분리\n",
    "X = df.iloc[:, :-1].values # 키포인트\n",
    "y = df.iloc[:, -1].values # 클래스"
   ]
  },
  {
   "cell_type": "code",
   "execution_count": 16,
   "metadata": {},
   "outputs": [],
   "source": [
    "# 레이블 원-핫 인코딩\n",
    "y = to_categorical(y)"
   ]
  },
  {
   "cell_type": "code",
   "execution_count": 17,
   "metadata": {
    "executionInfo": {
     "elapsed": 419,
     "status": "ok",
     "timestamp": 1736817034025,
     "user": {
      "displayName": "신호용",
      "userId": "04424386186383145760"
     },
     "user_tz": -540
    },
    "id": "lX9vCsAb1ZHn"
   },
   "outputs": [],
   "source": [
    "# 데이터 시퀀스 길이 지정\n",
    "seq_length = 6  # 시퀀스 길이\n",
    "\n",
    "# 데이터를 시퀀스 형태로 변환\n",
    "X_seq, y_seq = reshape_to_sequences(X, y, seq_length)"
   ]
  },
  {
   "cell_type": "code",
   "execution_count": 18,
   "metadata": {
    "executionInfo": {
     "elapsed": 575,
     "status": "ok",
     "timestamp": 1736817040984,
     "user": {
      "displayName": "신호용",
      "userId": "04424386186383145760"
     },
     "user_tz": -540
    },
    "id": "0aLSjL8nyavB"
   },
   "outputs": [],
   "source": [
    "# 데이터 분할\n",
    "X_train, X_val, y_train, y_val = train_test_split(X_seq, y_seq, test_size=0.2, random_state=42)"
   ]
  },
  {
   "cell_type": "code",
   "execution_count": 19,
   "metadata": {
    "colab": {
     "base_uri": "https://localhost:8080/"
    },
    "executionInfo": {
     "elapsed": 410,
     "status": "ok",
     "timestamp": 1736817068598,
     "user": {
      "displayName": "신호용",
      "userId": "04424386186383145760"
     },
     "user_tz": -540
    },
    "id": "ddZ5tAf5yavC",
    "outputId": "54f66270-21d4-45c9-ee91-9470d50a51db"
   },
   "outputs": [
    {
     "name": "stderr",
     "output_type": "stream",
     "text": [
      "c:\\Users\\User\\anaconda3\\envs\\action_recognition\\Lib\\site-packages\\keras\\src\\layers\\rnn\\rnn.py:200: UserWarning: Do not pass an `input_shape`/`input_dim` argument to a layer. When using Sequential models, prefer using an `Input(shape)` object as the first layer in the model instead.\n",
      "  super().__init__(**kwargs)\n"
     ]
    }
   ],
   "source": [
    "# LSTM 모델 정의\n",
    "model = Sequential([\n",
    "    LSTM(128, input_shape=(seq_length, X_train.shape[2]), return_sequences=True),\n",
    "    LSTM(64),\n",
    "    Dense(32, activation=\"relu\"),\n",
    "    Dense(y_train.shape[1], activation=\"softmax\")\n",
    "    ])"
   ]
  },
  {
   "cell_type": "code",
   "execution_count": 20,
   "metadata": {
    "colab": {
     "base_uri": "https://localhost:8080/"
    },
    "executionInfo": {
     "elapsed": 14658,
     "status": "ok",
     "timestamp": 1736817088559,
     "user": {
      "displayName": "신호용",
      "userId": "04424386186383145760"
     },
     "user_tz": -540
    },
    "id": "DYMwh9xXyavC",
    "outputId": "e7df7203-1de3-450a-c62a-ce8337c8c321"
   },
   "outputs": [
    {
     "name": "stdout",
     "output_type": "stream",
     "text": [
      "Epoch 1/300\n",
      "\u001b[1m241/241\u001b[0m \u001b[32m━━━━━━━━━━━━━━━━━━━━\u001b[0m\u001b[37m\u001b[0m \u001b[1m5s\u001b[0m 8ms/step - accuracy: 0.5366 - loss: 0.9363 - val_accuracy: 0.7265 - val_loss: 0.6239\n",
      "Epoch 2/300\n",
      "\u001b[1m241/241\u001b[0m \u001b[32m━━━━━━━━━━━━━━━━━━━━\u001b[0m\u001b[37m\u001b[0m \u001b[1m2s\u001b[0m 7ms/step - accuracy: 0.7463 - loss: 0.5808 - val_accuracy: 0.8111 - val_loss: 0.4461\n",
      "Epoch 3/300\n",
      "\u001b[1m241/241\u001b[0m \u001b[32m━━━━━━━━━━━━━━━━━━━━\u001b[0m\u001b[37m\u001b[0m \u001b[1m2s\u001b[0m 7ms/step - accuracy: 0.8218 - loss: 0.4229 - val_accuracy: 0.8137 - val_loss: 0.4492\n",
      "Epoch 4/300\n",
      "\u001b[1m241/241\u001b[0m \u001b[32m━━━━━━━━━━━━━━━━━━━━\u001b[0m\u001b[37m\u001b[0m \u001b[1m2s\u001b[0m 7ms/step - accuracy: 0.8798 - loss: 0.3097 - val_accuracy: 0.8651 - val_loss: 0.3310\n",
      "Epoch 5/300\n",
      "\u001b[1m241/241\u001b[0m \u001b[32m━━━━━━━━━━━━━━━━━━━━\u001b[0m\u001b[37m\u001b[0m \u001b[1m2s\u001b[0m 7ms/step - accuracy: 0.8995 - loss: 0.2473 - val_accuracy: 0.9019 - val_loss: 0.2429\n",
      "Epoch 6/300\n",
      "\u001b[1m241/241\u001b[0m \u001b[32m━━━━━━━━━━━━━━━━━━━━\u001b[0m\u001b[37m\u001b[0m \u001b[1m2s\u001b[0m 7ms/step - accuracy: 0.9173 - loss: 0.2139 - val_accuracy: 0.9118 - val_loss: 0.2211\n",
      "Epoch 7/300\n",
      "\u001b[1m241/241\u001b[0m \u001b[32m━━━━━━━━━━━━━━━━━━━━\u001b[0m\u001b[37m\u001b[0m \u001b[1m2s\u001b[0m 7ms/step - accuracy: 0.9383 - loss: 0.1649 - val_accuracy: 0.9445 - val_loss: 0.1478\n",
      "Epoch 8/300\n",
      "\u001b[1m241/241\u001b[0m \u001b[32m━━━━━━━━━━━━━━━━━━━━\u001b[0m\u001b[37m\u001b[0m \u001b[1m2s\u001b[0m 7ms/step - accuracy: 0.9537 - loss: 0.1241 - val_accuracy: 0.9465 - val_loss: 0.1476\n",
      "Epoch 9/300\n",
      "\u001b[1m241/241\u001b[0m \u001b[32m━━━━━━━━━━━━━━━━━━━━\u001b[0m\u001b[37m\u001b[0m \u001b[1m2s\u001b[0m 8ms/step - accuracy: 0.9636 - loss: 0.1020 - val_accuracy: 0.9517 - val_loss: 0.1237\n",
      "Epoch 10/300\n",
      "\u001b[1m241/241\u001b[0m \u001b[32m━━━━━━━━━━━━━━━━━━━━\u001b[0m\u001b[37m\u001b[0m \u001b[1m2s\u001b[0m 7ms/step - accuracy: 0.9665 - loss: 0.0959 - val_accuracy: 0.9388 - val_loss: 0.1577\n",
      "Epoch 11/300\n",
      "\u001b[1m241/241\u001b[0m \u001b[32m━━━━━━━━━━━━━━━━━━━━\u001b[0m\u001b[37m\u001b[0m \u001b[1m2s\u001b[0m 8ms/step - accuracy: 0.9707 - loss: 0.0855 - val_accuracy: 0.9735 - val_loss: 0.0826\n",
      "Epoch 12/300\n",
      "\u001b[1m241/241\u001b[0m \u001b[32m━━━━━━━━━━━━━━━━━━━━\u001b[0m\u001b[37m\u001b[0m \u001b[1m2s\u001b[0m 9ms/step - accuracy: 0.9811 - loss: 0.0544 - val_accuracy: 0.9746 - val_loss: 0.0795\n",
      "Epoch 13/300\n",
      "\u001b[1m241/241\u001b[0m \u001b[32m━━━━━━━━━━━━━━━━━━━━\u001b[0m\u001b[37m\u001b[0m \u001b[1m2s\u001b[0m 9ms/step - accuracy: 0.9837 - loss: 0.0486 - val_accuracy: 0.9725 - val_loss: 0.0799\n",
      "Epoch 14/300\n",
      "\u001b[1m241/241\u001b[0m \u001b[32m━━━━━━━━━━━━━━━━━━━━\u001b[0m\u001b[37m\u001b[0m \u001b[1m2s\u001b[0m 8ms/step - accuracy: 0.9835 - loss: 0.0528 - val_accuracy: 0.9694 - val_loss: 0.1015\n",
      "Epoch 15/300\n",
      "\u001b[1m241/241\u001b[0m \u001b[32m━━━━━━━━━━━━━━━━━━━━\u001b[0m\u001b[37m\u001b[0m \u001b[1m2s\u001b[0m 8ms/step - accuracy: 0.9767 - loss: 0.0599 - val_accuracy: 0.9647 - val_loss: 0.1041\n",
      "Epoch 16/300\n",
      "\u001b[1m241/241\u001b[0m \u001b[32m━━━━━━━━━━━━━━━━━━━━\u001b[0m\u001b[37m\u001b[0m \u001b[1m2s\u001b[0m 8ms/step - accuracy: 0.9879 - loss: 0.0419 - val_accuracy: 0.9803 - val_loss: 0.0682\n",
      "Epoch 17/300\n",
      "\u001b[1m241/241\u001b[0m \u001b[32m━━━━━━━━━━━━━━━━━━━━\u001b[0m\u001b[37m\u001b[0m \u001b[1m2s\u001b[0m 8ms/step - accuracy: 0.9803 - loss: 0.0609 - val_accuracy: 0.9704 - val_loss: 0.0781\n",
      "Epoch 18/300\n",
      "\u001b[1m241/241\u001b[0m \u001b[32m━━━━━━━━━━━━━━━━━━━━\u001b[0m\u001b[37m\u001b[0m \u001b[1m2s\u001b[0m 8ms/step - accuracy: 0.9851 - loss: 0.0370 - val_accuracy: 0.9772 - val_loss: 0.0745\n",
      "Epoch 19/300\n",
      "\u001b[1m241/241\u001b[0m \u001b[32m━━━━━━━━━━━━━━━━━━━━\u001b[0m\u001b[37m\u001b[0m \u001b[1m2s\u001b[0m 8ms/step - accuracy: 0.9816 - loss: 0.0521 - val_accuracy: 0.9580 - val_loss: 0.1070\n",
      "Epoch 20/300\n",
      "\u001b[1m241/241\u001b[0m \u001b[32m━━━━━━━━━━━━━━━━━━━━\u001b[0m\u001b[37m\u001b[0m \u001b[1m2s\u001b[0m 8ms/step - accuracy: 0.9810 - loss: 0.0518 - val_accuracy: 0.9730 - val_loss: 0.0752\n",
      "Epoch 21/300\n",
      "\u001b[1m241/241\u001b[0m \u001b[32m━━━━━━━━━━━━━━━━━━━━\u001b[0m\u001b[37m\u001b[0m \u001b[1m2s\u001b[0m 8ms/step - accuracy: 0.9917 - loss: 0.0264 - val_accuracy: 0.9865 - val_loss: 0.0450\n",
      "Epoch 22/300\n",
      "\u001b[1m241/241\u001b[0m \u001b[32m━━━━━━━━━━━━━━━━━━━━\u001b[0m\u001b[37m\u001b[0m \u001b[1m2s\u001b[0m 8ms/step - accuracy: 0.9942 - loss: 0.0184 - val_accuracy: 0.9844 - val_loss: 0.0495\n",
      "Epoch 23/300\n",
      "\u001b[1m241/241\u001b[0m \u001b[32m━━━━━━━━━━━━━━━━━━━━\u001b[0m\u001b[37m\u001b[0m \u001b[1m2s\u001b[0m 8ms/step - accuracy: 0.9852 - loss: 0.0518 - val_accuracy: 0.9533 - val_loss: 0.1273\n",
      "Epoch 24/300\n",
      "\u001b[1m241/241\u001b[0m \u001b[32m━━━━━━━━━━━━━━━━━━━━\u001b[0m\u001b[37m\u001b[0m \u001b[1m2s\u001b[0m 8ms/step - accuracy: 0.9850 - loss: 0.0495 - val_accuracy: 0.9792 - val_loss: 0.0634\n",
      "Epoch 25/300\n",
      "\u001b[1m241/241\u001b[0m \u001b[32m━━━━━━━━━━━━━━━━━━━━\u001b[0m\u001b[37m\u001b[0m \u001b[1m2s\u001b[0m 8ms/step - accuracy: 0.9899 - loss: 0.0296 - val_accuracy: 0.9772 - val_loss: 0.0643\n",
      "Epoch 26/300\n",
      "\u001b[1m241/241\u001b[0m \u001b[32m━━━━━━━━━━━━━━━━━━━━\u001b[0m\u001b[37m\u001b[0m \u001b[1m2s\u001b[0m 8ms/step - accuracy: 0.9902 - loss: 0.0255 - val_accuracy: 0.9907 - val_loss: 0.0315\n",
      "Epoch 27/300\n",
      "\u001b[1m241/241\u001b[0m \u001b[32m━━━━━━━━━━━━━━━━━━━━\u001b[0m\u001b[37m\u001b[0m \u001b[1m2s\u001b[0m 8ms/step - accuracy: 0.9990 - loss: 0.0048 - val_accuracy: 0.9746 - val_loss: 0.0952\n",
      "Epoch 28/300\n",
      "\u001b[1m241/241\u001b[0m \u001b[32m━━━━━━━━━━━━━━━━━━━━\u001b[0m\u001b[37m\u001b[0m \u001b[1m2s\u001b[0m 8ms/step - accuracy: 0.9790 - loss: 0.0586 - val_accuracy: 0.9725 - val_loss: 0.1022\n",
      "Epoch 29/300\n",
      "\u001b[1m241/241\u001b[0m \u001b[32m━━━━━━━━━━━━━━━━━━━━\u001b[0m\u001b[37m\u001b[0m \u001b[1m2s\u001b[0m 8ms/step - accuracy: 0.9869 - loss: 0.0410 - val_accuracy: 0.9803 - val_loss: 0.0601\n",
      "Epoch 30/300\n",
      "\u001b[1m241/241\u001b[0m \u001b[32m━━━━━━━━━━━━━━━━━━━━\u001b[0m\u001b[37m\u001b[0m \u001b[1m2s\u001b[0m 8ms/step - accuracy: 0.9870 - loss: 0.0414 - val_accuracy: 0.9860 - val_loss: 0.0451\n",
      "Epoch 31/300\n",
      "\u001b[1m241/241\u001b[0m \u001b[32m━━━━━━━━━━━━━━━━━━━━\u001b[0m\u001b[37m\u001b[0m \u001b[1m2s\u001b[0m 8ms/step - accuracy: 0.9960 - loss: 0.0146 - val_accuracy: 0.9870 - val_loss: 0.0464\n",
      "Epoch 32/300\n",
      "\u001b[1m241/241\u001b[0m \u001b[32m━━━━━━━━━━━━━━━━━━━━\u001b[0m\u001b[37m\u001b[0m \u001b[1m2s\u001b[0m 8ms/step - accuracy: 0.9974 - loss: 0.0098 - val_accuracy: 0.9922 - val_loss: 0.0300\n",
      "Epoch 33/300\n",
      "\u001b[1m241/241\u001b[0m \u001b[32m━━━━━━━━━━━━━━━━━━━━\u001b[0m\u001b[37m\u001b[0m \u001b[1m2s\u001b[0m 8ms/step - accuracy: 0.9967 - loss: 0.0135 - val_accuracy: 0.9782 - val_loss: 0.0689\n",
      "Epoch 34/300\n",
      "\u001b[1m241/241\u001b[0m \u001b[32m━━━━━━━━━━━━━━━━━━━━\u001b[0m\u001b[37m\u001b[0m \u001b[1m2s\u001b[0m 8ms/step - accuracy: 0.9893 - loss: 0.0376 - val_accuracy: 0.9704 - val_loss: 0.0804\n",
      "Epoch 35/300\n",
      "\u001b[1m241/241\u001b[0m \u001b[32m━━━━━━━━━━━━━━━━━━━━\u001b[0m\u001b[37m\u001b[0m \u001b[1m2s\u001b[0m 8ms/step - accuracy: 0.9928 - loss: 0.0221 - val_accuracy: 0.9886 - val_loss: 0.0380\n",
      "Epoch 36/300\n",
      "\u001b[1m241/241\u001b[0m \u001b[32m━━━━━━━━━━━━━━━━━━━━\u001b[0m\u001b[37m\u001b[0m \u001b[1m2s\u001b[0m 8ms/step - accuracy: 0.9981 - loss: 0.0059 - val_accuracy: 0.9912 - val_loss: 0.0260\n",
      "Epoch 37/300\n",
      "\u001b[1m241/241\u001b[0m \u001b[32m━━━━━━━━━━━━━━━━━━━━\u001b[0m\u001b[37m\u001b[0m \u001b[1m2s\u001b[0m 9ms/step - accuracy: 0.9989 - loss: 0.0040 - val_accuracy: 0.9611 - val_loss: 0.1189\n",
      "Epoch 38/300\n",
      "\u001b[1m241/241\u001b[0m \u001b[32m━━━━━━━━━━━━━━━━━━━━\u001b[0m\u001b[37m\u001b[0m \u001b[1m2s\u001b[0m 10ms/step - accuracy: 0.9838 - loss: 0.0558 - val_accuracy: 0.9870 - val_loss: 0.0396\n",
      "Epoch 39/300\n",
      "\u001b[1m241/241\u001b[0m \u001b[32m━━━━━━━━━━━━━━━━━━━━\u001b[0m\u001b[37m\u001b[0m \u001b[1m2s\u001b[0m 10ms/step - accuracy: 0.9903 - loss: 0.0233 - val_accuracy: 0.9875 - val_loss: 0.0300\n",
      "Epoch 40/300\n",
      "\u001b[1m241/241\u001b[0m \u001b[32m━━━━━━━━━━━━━━━━━━━━\u001b[0m\u001b[37m\u001b[0m \u001b[1m2s\u001b[0m 10ms/step - accuracy: 0.9985 - loss: 0.0042 - val_accuracy: 0.9735 - val_loss: 0.0796\n",
      "Epoch 41/300\n",
      "\u001b[1m241/241\u001b[0m \u001b[32m━━━━━━━━━━━━━━━━━━━━\u001b[0m\u001b[37m\u001b[0m \u001b[1m3s\u001b[0m 11ms/step - accuracy: 0.9918 - loss: 0.0254 - val_accuracy: 0.9922 - val_loss: 0.0277\n",
      "Epoch 42/300\n",
      "\u001b[1m241/241\u001b[0m \u001b[32m━━━━━━━━━━━━━━━━━━━━\u001b[0m\u001b[37m\u001b[0m \u001b[1m2s\u001b[0m 10ms/step - accuracy: 0.9993 - loss: 0.0034 - val_accuracy: 0.9927 - val_loss: 0.0273\n",
      "Epoch 43/300\n",
      "\u001b[1m241/241\u001b[0m \u001b[32m━━━━━━━━━━━━━━━━━━━━\u001b[0m\u001b[37m\u001b[0m \u001b[1m2s\u001b[0m 9ms/step - accuracy: 1.0000 - loss: 6.7346e-04 - val_accuracy: 0.9912 - val_loss: 0.0320\n",
      "Epoch 44/300\n",
      "\u001b[1m241/241\u001b[0m \u001b[32m━━━━━━━━━━━━━━━━━━━━\u001b[0m\u001b[37m\u001b[0m \u001b[1m2s\u001b[0m 10ms/step - accuracy: 0.9988 - loss: 0.0042 - val_accuracy: 0.9927 - val_loss: 0.0285\n",
      "Epoch 45/300\n",
      "\u001b[1m241/241\u001b[0m \u001b[32m━━━━━━━━━━━━━━━━━━━━\u001b[0m\u001b[37m\u001b[0m \u001b[1m2s\u001b[0m 9ms/step - accuracy: 0.9815 - loss: 0.0603 - val_accuracy: 0.9803 - val_loss: 0.0509\n",
      "Epoch 46/300\n",
      "\u001b[1m241/241\u001b[0m \u001b[32m━━━━━━━━━━━━━━━━━━━━\u001b[0m\u001b[37m\u001b[0m \u001b[1m2s\u001b[0m 10ms/step - accuracy: 0.9923 - loss: 0.0231 - val_accuracy: 0.9813 - val_loss: 0.0582\n",
      "Epoch 47/300\n",
      "\u001b[1m241/241\u001b[0m \u001b[32m━━━━━━━━━━━━━━━━━━━━\u001b[0m\u001b[37m\u001b[0m \u001b[1m3s\u001b[0m 11ms/step - accuracy: 0.9963 - loss: 0.0110 - val_accuracy: 0.9850 - val_loss: 0.0556\n",
      "Epoch 48/300\n",
      "\u001b[1m241/241\u001b[0m \u001b[32m━━━━━━━━━━━━━━━━━━━━\u001b[0m\u001b[37m\u001b[0m \u001b[1m2s\u001b[0m 10ms/step - accuracy: 0.9907 - loss: 0.0257 - val_accuracy: 0.9886 - val_loss: 0.0410\n",
      "Epoch 49/300\n",
      "\u001b[1m241/241\u001b[0m \u001b[32m━━━━━━━━━━━━━━━━━━━━\u001b[0m\u001b[37m\u001b[0m \u001b[1m3s\u001b[0m 11ms/step - accuracy: 0.9929 - loss: 0.0208 - val_accuracy: 0.9844 - val_loss: 0.0492\n",
      "Epoch 50/300\n",
      "\u001b[1m241/241\u001b[0m \u001b[32m━━━━━━━━━━━━━━━━━━━━\u001b[0m\u001b[37m\u001b[0m \u001b[1m3s\u001b[0m 11ms/step - accuracy: 0.9977 - loss: 0.0077 - val_accuracy: 0.9647 - val_loss: 0.1551\n",
      "Epoch 51/300\n",
      "\u001b[1m241/241\u001b[0m \u001b[32m━━━━━━━━━━━━━━━━━━━━\u001b[0m\u001b[37m\u001b[0m \u001b[1m3s\u001b[0m 11ms/step - accuracy: 0.9883 - loss: 0.0410 - val_accuracy: 0.9855 - val_loss: 0.0411\n"
     ]
    }
   ],
   "source": [
    " # 모델 컴파일 및 학습\n",
    "model.compile(optimizer=Adam(learning_rate=0.001), loss=\"categorical_crossentropy\", metrics=[\"accuracy\"])\n",
    "es = EarlyStopping(monitor = 'val_loss', min_delta = 0, patience = 15, mode = 'auto', restore_best_weights=True)\n",
    "history = model.fit(X_train, y_train, validation_data=(X_val, y_val), epochs=300, batch_size=32, callbacks=es).history"
   ]
  },
  {
   "cell_type": "code",
   "execution_count": 21,
   "metadata": {},
   "outputs": [
    {
     "data": {
      "image/png": "[encoded data removed]",
      "text/plain": [
       "<Figure size 640x480 with 1 Axes>"
      ]
     },
     "metadata": {},
     "output_type": "display_data"
    }
   ],
   "source": [
    "plt.plot(history['loss'], label = 'train_err', marker = '.')\n",
    "plt.plot(history['val_loss'], label = 'val_err', marker = '.')\n",
    "plt.grid()\n",
    "plt.legend()\n",
    "plt.show()"
   ]
  },
  {
   "cell_type": "code",
   "execution_count": 22,
   "metadata": {
    "colab": {
     "base_uri": "https://localhost:8080/"
    },
    "executionInfo": {
     "elapsed": 547,
     "status": "ok",
     "timestamp": 1736498705187,
     "user": {
      "displayName": "신호용",
      "userId": "04424386186383145760"
     },
     "user_tz": -540
    },
    "id": "OCB8taP2yavC",
    "outputId": "c18c1b7b-de05-4ffb-a0c5-14ab56503bfa"
   },
   "outputs": [
    {
     "name": "stderr",
     "output_type": "stream",
     "text": [
      "WARNING:absl:You are saving your model as an HDF5 file via `model.save()` or `keras.saving.save_model(model)`. This file format is considered legacy. We recommend using instead the native Keras format, e.g. `model.save('my_model.keras')` or `keras.saving.save_model(model, 'my_model.keras')`. \n"
     ]
    }
   ],
   "source": [
    "# 모델 저장\n",
    "output_model = './Model/LSTM.h5'\n",
    "model.save(output_model)"
   ]
  },
  {
   "cell_type": "code",
   "execution_count": 23,
   "metadata": {
    "colab": {
     "base_uri": "https://localhost:8080/"
    },
    "executionInfo": {
     "elapsed": 407,
     "status": "ok",
     "timestamp": 1736817098363,
     "user": {
      "displayName": "신호용",
      "userId": "04424386186383145760"
     },
     "user_tz": -540
    },
    "id": "zWxhnnUcOYPs",
    "outputId": "de5babdf-b6f8-47a8-ec48-07c37aecb7a4"
   },
   "outputs": [
    {
     "name": "stdout",
     "output_type": "stream",
     "text": [
      "검증 데이터 정확도: 99.12%\n"
     ]
    }
   ],
   "source": [
    "# 학습된 모델 평가\n",
    "loss, accuracy = model.evaluate(X_val, y_val, verbose=0)\n",
    "print(f\"검증 데이터 정확도: {accuracy * 100:.2f}%\")"
   ]
  }
 ],
 "metadata": {
  "colab": {
   "provenance": []
  },
  "kernelspec": {
   "display_name": "action_recognition",
   "language": "python",
   "name": "python3"
  },
  "language_info": {
   "codemirror_mode": {
    "name": "ipython",
    "version": 3
   },
   "file_extension": ".py",
   "mimetype": "text/x-python",
   "name": "python",
   "nbconvert_exporter": "python",
   "pygments_lexer": "ipython3",
   "version": "3.12.8"
  }
 },
 "nbformat": 4,
 "nbformat_minor": 0
}
