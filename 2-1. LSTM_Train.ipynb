{
 "cells": [
  {
   "cell_type": "code",
   "execution_count": 91,
   "metadata": {
    "executionInfo": {
     "elapsed": 6344,
     "status": "ok",
     "timestamp": 1736816975834,
     "user": {
      "displayName": "신호용",
      "userId": "04424386186383145760"
     },
     "user_tz": -540
    },
    "id": "RcPpb0t6yau8"
   },
   "outputs": [],
   "source": [
    "import os\n",
    "import re\n",
    "import pandas as pd\n",
    "import numpy as np\n",
    "import matplotlib.pyplot as plt\n",
    "from keras.models import Sequential\n",
    "from keras.layers import LSTM, Dense\n",
    "from keras.utils import to_categorical\n",
    "from keras.optimizers import Adam\n",
    "from keras.callbacks import EarlyStopping\n",
    "from sklearn.model_selection import train_test_split"
   ]
  },
  {
   "cell_type": "code",
   "execution_count": 92,
   "metadata": {
    "executionInfo": {
     "elapsed": 948,
     "status": "ok",
     "timestamp": 1736816979723,
     "user": {
      "displayName": "신호용",
      "userId": "04424386186383145760"
     },
     "user_tz": -540
    },
    "id": "F56DvJR2yavA"
   },
   "outputs": [],
   "source": [
    "# LSTM_Live 폴더의 모든 CSV 파일 병합\n",
    "def LSTM_Live_Merge(folder_path):\n",
    "    \n",
    "    csv_files = []\n",
    "\n",
    "    # 하위 폴더까지 탐색\n",
    "    for root, _, files in os.walk(folder_path):\n",
    "        for file in files:\n",
    "            if file.endswith('.csv'):\n",
    "                csv_path = os.path.join(root, file)\n",
    "                \n",
    "                # CSV 불러오기\n",
    "                df = pd.read_csv(csv_path)\n",
    "                csv_files.append(df)\n",
    "\n",
    "    # 모든 CSV 파일 병합\n",
    "    if csv_files:\n",
    "        combined_df = pd.concat(csv_files, ignore_index=True)\n",
    "        print(f\"총 {len(csv_files)}개의 CSV 파일을 병합했습니다. 데이터 크기: {combined_df.shape}\")\n",
    "        return combined_df\n",
    "    else:\n",
    "        print(\"병합할 CSV 파일이 없습니다.\")\n",
    "        return pd.DataFrame()\n"
   ]
  },
  {
   "cell_type": "code",
   "execution_count": 93,
   "metadata": {},
   "outputs": [],
   "source": [
    "def natural_sort_key(s):\n",
    "    return [int(text) if text.isdigit() else text.lower() for text in re.split(r'(\\d+)', s)]\n",
    "\n",
    "# 폴더 내 CSV 파일 병합\n",
    "def LSTM_Capture_Merge(folder_path, sequence):\n",
    "    \n",
    "    csv_files = []\n",
    "\n",
    "    for root, _, files in sorted(os.walk(folder_path), key=lambda x: natural_sort_key(x[0])):\n",
    "        sorted_files = sorted([file for file in files if file.endswith('.csv')], key=natural_sort_key)\n",
    "        file_count = len(sorted_files)\n",
    "        \n",
    "        if file_count == 0:\n",
    "            continue  # CSV 파일이 없는 폴더는 건너뜀\n",
    "        \n",
    "        if file_count % sequence != 0:\n",
    "            print(f\"[제외] {root}: CSV 파일 수 {file_count}개는 {sequence}의 배수가 아닙니다.\")\n",
    "            continue  # sequence의 배수가 아니면 병합 제외\n",
    "\n",
    "        for file in sorted_files:\n",
    "            csv_path = os.path.join(root, file)\n",
    "            csv_files.append(csv_path)\n",
    "\n",
    "    if not csv_files:\n",
    "        print(\"병합할 CSV 파일이 없습니다.\")\n",
    "        return pd.DataFrame()\n",
    "    \n",
    "    # CSV 파일 병합 (float_precision 추가)\n",
    "    dataframes = [pd.read_csv(file, float_precision='round_trip') for file in csv_files]\n",
    "    combined_df = pd.concat(dataframes, ignore_index=True)\n",
    "    print(f\"총 {len(csv_files)}개의 CSV 파일을 병합했습니다. 데이터 크기: {combined_df.shape}\")\n",
    "    return combined_df"
   ]
  },
  {
   "cell_type": "code",
   "execution_count": 94,
   "metadata": {
    "executionInfo": {
     "elapsed": 2,
     "status": "ok",
     "timestamp": 1736816981402,
     "user": {
      "displayName": "신호용",
      "userId": "04424386186383145760"
     },
     "user_tz": -540
    },
    "id": "XCctZO0JEt3_"
   },
   "outputs": [],
   "source": [
    "# 데이터 시퀀스별로 변환\n",
    "def reshape_to_sequences(data, labels, seq_length):\n",
    "    sequences = []\n",
    "    sequence_labels = []\n",
    "    for i in range(len(data) - seq_length + 1):\n",
    "        sequences.append(data[i:i + seq_length])\n",
    "        sequence_labels.append(labels[i + seq_length - 1])  # 시퀀스의 마지막 레이블 사용\n",
    "    return np.array(sequences), np.array(sequence_labels)"
   ]
  },
  {
   "cell_type": "code",
   "execution_count": 97,
   "metadata": {},
   "outputs": [],
   "source": [
    "# 클래스 균등하게 정리\n",
    "def balance_classes(df, class_column, target_samples):\n",
    "\n",
    "    # 그룹화하여 각 클래스에서 샘플링\n",
    "    balanced_df = df.groupby(class_column).apply(\n",
    "        lambda x: x.sample(n=target_samples, random_state=42) if len(x) >= target_samples else x\n",
    "    )\n",
    "    \n",
    "    # 인덱스 초기화\n",
    "    balanced_df = balanced_df.reset_index(drop=True)\n",
    "    return balanced_df"
   ]
  },
  {
   "cell_type": "code",
   "execution_count": 101,
   "metadata": {
    "colab": {
     "base_uri": "https://localhost:8080/"
    },
    "executionInfo": {
     "elapsed": 7399,
     "status": "ok",
     "timestamp": 1736816993226,
     "user": {
      "displayName": "신호용",
      "userId": "04424386186383145760"
     },
     "user_tz": -540
    },
    "id": "v9lYaWtICsyN",
    "outputId": "5674cacd-ed53-49a6-8117-5ae8b539a54f"
   },
   "outputs": [
    {
     "name": "stdout",
     "output_type": "stream",
     "text": [
      "병합할 CSV 파일이 없습니다.\n",
      "총 3702개의 CSV 파일을 병합했습니다. 데이터 크기: (3702, 35)\n"
     ]
    }
   ],
   "source": [
    "# 데이터 불러오기 및 병합\n",
    "folder_path = './Data'  # 데이터 폴더 경로\n",
    "df_live = LSTM_Live_Merge(folder_path + '/LSTM_Live') # LSTM_Live 폴더 병합\n",
    "df_capture = LSTM_Capture_Merge(folder_path + '/LSTM_Capture', sequence=3) # LSTM_Capture 폴더 병합\n",
    "df= pd.concat([df_live, df_capture], ignore_index=True) # 전체 폴더 병합"
   ]
  },
  {
   "cell_type": "code",
   "execution_count": 102,
   "metadata": {},
   "outputs": [
    {
     "name": "stdout",
     "output_type": "stream",
     "text": [
      "action_class\n",
      "0    3051\n",
      "1     336\n",
      "2     126\n",
      "3     105\n",
      "4      84\n",
      "Name: count, dtype: int64\n"
     ]
    }
   ],
   "source": [
    "# 정리 전 클래스별 갯수 확인\n",
    "print(df['action_class'].value_counts())"
   ]
  },
  {
   "cell_type": "code",
   "execution_count": 103,
   "metadata": {},
   "outputs": [
    {
     "name": "stderr",
     "output_type": "stream",
     "text": [
      "C:\\Users\\Public\\Documents\\ESTsoft\\CreatorTemp\\ipykernel_41392\\2504395227.py:5: DeprecationWarning: DataFrameGroupBy.apply operated on the grouping columns. This behavior is deprecated, and in a future version of pandas the grouping columns will be excluded from the operation. Either pass `include_groups=False` to exclude the groupings or explicitly select the grouping columns after groupby to silence this warning.\n",
      "  balanced_df = df.groupby(class_column).apply(\n"
     ]
    }
   ],
   "source": [
    "# 클래스 균등하게 정리\n",
    "df = balance_classes(df, class_column='action_class', target_samples=126)"
   ]
  },
  {
   "cell_type": "code",
   "execution_count": 104,
   "metadata": {},
   "outputs": [
    {
     "name": "stdout",
     "output_type": "stream",
     "text": [
      "action_class\n",
      "0    126\n",
      "1    126\n",
      "2    126\n",
      "3    105\n",
      "4     84\n",
      "Name: count, dtype: int64\n"
     ]
    },
    {
     "data": {
      "text/html": [
       "<div>\n",
       "<style scoped>\n",
       "    .dataframe tbody tr th:only-of-type {\n",
       "        vertical-align: middle;\n",
       "    }\n",
       "\n",
       "    .dataframe tbody tr th {\n",
       "        vertical-align: top;\n",
       "    }\n",
       "\n",
       "    .dataframe thead th {\n",
       "        text-align: right;\n",
       "    }\n",
       "</style>\n",
       "<table border=\"1\" class=\"dataframe\">\n",
       "  <thead>\n",
       "    <tr style=\"text-align: right;\">\n",
       "      <th></th>\n",
       "      <th>kp0_x</th>\n",
       "      <th>kp0_y</th>\n",
       "      <th>kp1_x</th>\n",
       "      <th>kp1_y</th>\n",
       "      <th>kp2_x</th>\n",
       "      <th>kp2_y</th>\n",
       "      <th>kp3_x</th>\n",
       "      <th>kp3_y</th>\n",
       "      <th>kp4_x</th>\n",
       "      <th>kp4_y</th>\n",
       "      <th>...</th>\n",
       "      <th>kp12_y</th>\n",
       "      <th>kp13_x</th>\n",
       "      <th>kp13_y</th>\n",
       "      <th>kp14_x</th>\n",
       "      <th>kp14_y</th>\n",
       "      <th>kp15_x</th>\n",
       "      <th>kp15_y</th>\n",
       "      <th>kp16_x</th>\n",
       "      <th>kp16_y</th>\n",
       "      <th>action_class</th>\n",
       "    </tr>\n",
       "  </thead>\n",
       "  <tbody>\n",
       "    <tr>\n",
       "      <th>0</th>\n",
       "      <td>270.644043</td>\n",
       "      <td>98.446548</td>\n",
       "      <td>273.991882</td>\n",
       "      <td>95.654221</td>\n",
       "      <td>267.979370</td>\n",
       "      <td>94.232727</td>\n",
       "      <td>0.000000</td>\n",
       "      <td>0.000000</td>\n",
       "      <td>258.058289</td>\n",
       "      <td>87.380455</td>\n",
       "      <td>...</td>\n",
       "      <td>144.642242</td>\n",
       "      <td>0.000000</td>\n",
       "      <td>0.000000</td>\n",
       "      <td>0.000000</td>\n",
       "      <td>0.000000</td>\n",
       "      <td>0.000000</td>\n",
       "      <td>0.000000</td>\n",
       "      <td>0.000000</td>\n",
       "      <td>0.000000</td>\n",
       "      <td>0</td>\n",
       "    </tr>\n",
       "    <tr>\n",
       "      <th>1</th>\n",
       "      <td>197.262924</td>\n",
       "      <td>71.575928</td>\n",
       "      <td>198.394913</td>\n",
       "      <td>70.360977</td>\n",
       "      <td>196.678955</td>\n",
       "      <td>70.761635</td>\n",
       "      <td>201.921509</td>\n",
       "      <td>70.420486</td>\n",
       "      <td>0.000000</td>\n",
       "      <td>0.000000</td>\n",
       "      <td>...</td>\n",
       "      <td>100.137642</td>\n",
       "      <td>209.554565</td>\n",
       "      <td>115.216171</td>\n",
       "      <td>196.896378</td>\n",
       "      <td>117.181976</td>\n",
       "      <td>210.245483</td>\n",
       "      <td>131.477020</td>\n",
       "      <td>197.447998</td>\n",
       "      <td>133.056412</td>\n",
       "      <td>0</td>\n",
       "    </tr>\n",
       "    <tr>\n",
       "      <th>2</th>\n",
       "      <td>161.233276</td>\n",
       "      <td>54.908836</td>\n",
       "      <td>162.531403</td>\n",
       "      <td>52.925133</td>\n",
       "      <td>159.984970</td>\n",
       "      <td>53.843803</td>\n",
       "      <td>167.201080</td>\n",
       "      <td>52.855110</td>\n",
       "      <td>0.000000</td>\n",
       "      <td>0.000000</td>\n",
       "      <td>...</td>\n",
       "      <td>87.797180</td>\n",
       "      <td>182.101379</td>\n",
       "      <td>104.689667</td>\n",
       "      <td>176.904480</td>\n",
       "      <td>105.624474</td>\n",
       "      <td>185.710327</td>\n",
       "      <td>122.186707</td>\n",
       "      <td>183.632935</td>\n",
       "      <td>119.477089</td>\n",
       "      <td>0</td>\n",
       "    </tr>\n",
       "    <tr>\n",
       "      <th>3</th>\n",
       "      <td>0.000000</td>\n",
       "      <td>0.000000</td>\n",
       "      <td>0.000000</td>\n",
       "      <td>0.000000</td>\n",
       "      <td>0.000000</td>\n",
       "      <td>0.000000</td>\n",
       "      <td>0.000000</td>\n",
       "      <td>0.000000</td>\n",
       "      <td>0.000000</td>\n",
       "      <td>0.000000</td>\n",
       "      <td>...</td>\n",
       "      <td>150.798325</td>\n",
       "      <td>276.412354</td>\n",
       "      <td>159.807983</td>\n",
       "      <td>282.822693</td>\n",
       "      <td>160.209671</td>\n",
       "      <td>274.824707</td>\n",
       "      <td>169.956436</td>\n",
       "      <td>281.300232</td>\n",
       "      <td>170.647385</td>\n",
       "      <td>0</td>\n",
       "    </tr>\n",
       "    <tr>\n",
       "      <th>4</th>\n",
       "      <td>198.769669</td>\n",
       "      <td>60.223045</td>\n",
       "      <td>199.590622</td>\n",
       "      <td>58.928230</td>\n",
       "      <td>197.391144</td>\n",
       "      <td>59.166946</td>\n",
       "      <td>0.000000</td>\n",
       "      <td>0.000000</td>\n",
       "      <td>195.238739</td>\n",
       "      <td>59.581139</td>\n",
       "      <td>...</td>\n",
       "      <td>88.449585</td>\n",
       "      <td>208.854584</td>\n",
       "      <td>103.203575</td>\n",
       "      <td>198.051407</td>\n",
       "      <td>105.543419</td>\n",
       "      <td>210.987000</td>\n",
       "      <td>117.458099</td>\n",
       "      <td>198.947708</td>\n",
       "      <td>120.643379</td>\n",
       "      <td>0</td>\n",
       "    </tr>\n",
       "    <tr>\n",
       "      <th>...</th>\n",
       "      <td>...</td>\n",
       "      <td>...</td>\n",
       "      <td>...</td>\n",
       "      <td>...</td>\n",
       "      <td>...</td>\n",
       "      <td>...</td>\n",
       "      <td>...</td>\n",
       "      <td>...</td>\n",
       "      <td>...</td>\n",
       "      <td>...</td>\n",
       "      <td>...</td>\n",
       "      <td>...</td>\n",
       "      <td>...</td>\n",
       "      <td>...</td>\n",
       "      <td>...</td>\n",
       "      <td>...</td>\n",
       "      <td>...</td>\n",
       "      <td>...</td>\n",
       "      <td>...</td>\n",
       "      <td>...</td>\n",
       "      <td>...</td>\n",
       "    </tr>\n",
       "    <tr>\n",
       "      <th>562</th>\n",
       "      <td>390.292511</td>\n",
       "      <td>165.254135</td>\n",
       "      <td>399.619995</td>\n",
       "      <td>154.331985</td>\n",
       "      <td>378.587708</td>\n",
       "      <td>158.592682</td>\n",
       "      <td>419.849670</td>\n",
       "      <td>150.174194</td>\n",
       "      <td>368.184296</td>\n",
       "      <td>159.793457</td>\n",
       "      <td>...</td>\n",
       "      <td>312.955688</td>\n",
       "      <td>429.174927</td>\n",
       "      <td>365.112518</td>\n",
       "      <td>397.687988</td>\n",
       "      <td>394.607147</td>\n",
       "      <td>415.995819</td>\n",
       "      <td>419.354553</td>\n",
       "      <td>388.657440</td>\n",
       "      <td>454.828094</td>\n",
       "      <td>4</td>\n",
       "    </tr>\n",
       "    <tr>\n",
       "      <th>563</th>\n",
       "      <td>416.143738</td>\n",
       "      <td>155.864273</td>\n",
       "      <td>417.986725</td>\n",
       "      <td>144.564911</td>\n",
       "      <td>401.367188</td>\n",
       "      <td>151.310699</td>\n",
       "      <td>0.000000</td>\n",
       "      <td>0.000000</td>\n",
       "      <td>375.780701</td>\n",
       "      <td>161.888550</td>\n",
       "      <td>...</td>\n",
       "      <td>318.581451</td>\n",
       "      <td>429.225037</td>\n",
       "      <td>366.078461</td>\n",
       "      <td>396.260193</td>\n",
       "      <td>395.227356</td>\n",
       "      <td>412.993744</td>\n",
       "      <td>424.688660</td>\n",
       "      <td>388.216187</td>\n",
       "      <td>454.038788</td>\n",
       "      <td>4</td>\n",
       "    </tr>\n",
       "    <tr>\n",
       "      <th>564</th>\n",
       "      <td>0.000000</td>\n",
       "      <td>0.000000</td>\n",
       "      <td>0.000000</td>\n",
       "      <td>0.000000</td>\n",
       "      <td>0.000000</td>\n",
       "      <td>0.000000</td>\n",
       "      <td>0.000000</td>\n",
       "      <td>0.000000</td>\n",
       "      <td>384.757904</td>\n",
       "      <td>168.247681</td>\n",
       "      <td>...</td>\n",
       "      <td>322.249084</td>\n",
       "      <td>430.079834</td>\n",
       "      <td>367.219666</td>\n",
       "      <td>394.837341</td>\n",
       "      <td>393.478668</td>\n",
       "      <td>413.349854</td>\n",
       "      <td>423.541748</td>\n",
       "      <td>389.750397</td>\n",
       "      <td>451.897827</td>\n",
       "      <td>4</td>\n",
       "    </tr>\n",
       "    <tr>\n",
       "      <th>565</th>\n",
       "      <td>0.000000</td>\n",
       "      <td>0.000000</td>\n",
       "      <td>0.000000</td>\n",
       "      <td>0.000000</td>\n",
       "      <td>0.000000</td>\n",
       "      <td>0.000000</td>\n",
       "      <td>0.000000</td>\n",
       "      <td>0.000000</td>\n",
       "      <td>386.309235</td>\n",
       "      <td>170.316528</td>\n",
       "      <td>...</td>\n",
       "      <td>323.810455</td>\n",
       "      <td>430.822449</td>\n",
       "      <td>368.328613</td>\n",
       "      <td>395.818085</td>\n",
       "      <td>395.790497</td>\n",
       "      <td>413.806061</td>\n",
       "      <td>423.343231</td>\n",
       "      <td>390.579102</td>\n",
       "      <td>453.736694</td>\n",
       "      <td>4</td>\n",
       "    </tr>\n",
       "    <tr>\n",
       "      <th>566</th>\n",
       "      <td>409.424438</td>\n",
       "      <td>161.422134</td>\n",
       "      <td>415.591705</td>\n",
       "      <td>150.079025</td>\n",
       "      <td>395.441956</td>\n",
       "      <td>154.831985</td>\n",
       "      <td>0.000000</td>\n",
       "      <td>0.000000</td>\n",
       "      <td>376.183563</td>\n",
       "      <td>160.947464</td>\n",
       "      <td>...</td>\n",
       "      <td>322.721008</td>\n",
       "      <td>428.225220</td>\n",
       "      <td>367.590729</td>\n",
       "      <td>398.824402</td>\n",
       "      <td>397.889435</td>\n",
       "      <td>414.763885</td>\n",
       "      <td>421.750244</td>\n",
       "      <td>387.836487</td>\n",
       "      <td>455.930603</td>\n",
       "      <td>4</td>\n",
       "    </tr>\n",
       "  </tbody>\n",
       "</table>\n",
       "<p>567 rows × 35 columns</p>\n",
       "</div>"
      ],
      "text/plain": [
       "          kp0_x       kp0_y       kp1_x       kp1_y       kp2_x       kp2_y  \\\n",
       "0    270.644043   98.446548  273.991882   95.654221  267.979370   94.232727   \n",
       "1    197.262924   71.575928  198.394913   70.360977  196.678955   70.761635   \n",
       "2    161.233276   54.908836  162.531403   52.925133  159.984970   53.843803   \n",
       "3      0.000000    0.000000    0.000000    0.000000    0.000000    0.000000   \n",
       "4    198.769669   60.223045  199.590622   58.928230  197.391144   59.166946   \n",
       "..          ...         ...         ...         ...         ...         ...   \n",
       "562  390.292511  165.254135  399.619995  154.331985  378.587708  158.592682   \n",
       "563  416.143738  155.864273  417.986725  144.564911  401.367188  151.310699   \n",
       "564    0.000000    0.000000    0.000000    0.000000    0.000000    0.000000   \n",
       "565    0.000000    0.000000    0.000000    0.000000    0.000000    0.000000   \n",
       "566  409.424438  161.422134  415.591705  150.079025  395.441956  154.831985   \n",
       "\n",
       "          kp3_x       kp3_y       kp4_x       kp4_y  ...      kp12_y  \\\n",
       "0      0.000000    0.000000  258.058289   87.380455  ...  144.642242   \n",
       "1    201.921509   70.420486    0.000000    0.000000  ...  100.137642   \n",
       "2    167.201080   52.855110    0.000000    0.000000  ...   87.797180   \n",
       "3      0.000000    0.000000    0.000000    0.000000  ...  150.798325   \n",
       "4      0.000000    0.000000  195.238739   59.581139  ...   88.449585   \n",
       "..          ...         ...         ...         ...  ...         ...   \n",
       "562  419.849670  150.174194  368.184296  159.793457  ...  312.955688   \n",
       "563    0.000000    0.000000  375.780701  161.888550  ...  318.581451   \n",
       "564    0.000000    0.000000  384.757904  168.247681  ...  322.249084   \n",
       "565    0.000000    0.000000  386.309235  170.316528  ...  323.810455   \n",
       "566    0.000000    0.000000  376.183563  160.947464  ...  322.721008   \n",
       "\n",
       "         kp13_x      kp13_y      kp14_x      kp14_y      kp15_x      kp15_y  \\\n",
       "0      0.000000    0.000000    0.000000    0.000000    0.000000    0.000000   \n",
       "1    209.554565  115.216171  196.896378  117.181976  210.245483  131.477020   \n",
       "2    182.101379  104.689667  176.904480  105.624474  185.710327  122.186707   \n",
       "3    276.412354  159.807983  282.822693  160.209671  274.824707  169.956436   \n",
       "4    208.854584  103.203575  198.051407  105.543419  210.987000  117.458099   \n",
       "..          ...         ...         ...         ...         ...         ...   \n",
       "562  429.174927  365.112518  397.687988  394.607147  415.995819  419.354553   \n",
       "563  429.225037  366.078461  396.260193  395.227356  412.993744  424.688660   \n",
       "564  430.079834  367.219666  394.837341  393.478668  413.349854  423.541748   \n",
       "565  430.822449  368.328613  395.818085  395.790497  413.806061  423.343231   \n",
       "566  428.225220  367.590729  398.824402  397.889435  414.763885  421.750244   \n",
       "\n",
       "         kp16_x      kp16_y  action_class  \n",
       "0      0.000000    0.000000             0  \n",
       "1    197.447998  133.056412             0  \n",
       "2    183.632935  119.477089             0  \n",
       "3    281.300232  170.647385             0  \n",
       "4    198.947708  120.643379             0  \n",
       "..          ...         ...           ...  \n",
       "562  388.657440  454.828094             4  \n",
       "563  388.216187  454.038788             4  \n",
       "564  389.750397  451.897827             4  \n",
       "565  390.579102  453.736694             4  \n",
       "566  387.836487  455.930603             4  \n",
       "\n",
       "[567 rows x 35 columns]"
      ]
     },
     "execution_count": 104,
     "metadata": {},
     "output_type": "execute_result"
    }
   ],
   "source": [
    "# 데이터프레임 확인\n",
    "print(df['action_class'].value_counts())\n",
    "df"
   ]
  },
  {
   "cell_type": "code",
   "execution_count": 105,
   "metadata": {
    "executionInfo": {
     "elapsed": 428,
     "status": "ok",
     "timestamp": 1736817010142,
     "user": {
      "displayName": "신호용",
      "userId": "04424386186383145760"
     },
     "user_tz": -540
    },
    "id": "vbBXiHUyyavB"
   },
   "outputs": [],
   "source": [
    "# X, y 분리\n",
    "X = df.iloc[:, :-1].values # 키포인트\n",
    "y = df.iloc[:, -1].values # 클래스"
   ]
  },
  {
   "cell_type": "code",
   "execution_count": 106,
   "metadata": {},
   "outputs": [],
   "source": [
    "# 레이블 원-핫 인코딩\n",
    "y = to_categorical(y)"
   ]
  },
  {
   "cell_type": "code",
   "execution_count": 107,
   "metadata": {
    "executionInfo": {
     "elapsed": 419,
     "status": "ok",
     "timestamp": 1736817034025,
     "user": {
      "displayName": "신호용",
      "userId": "04424386186383145760"
     },
     "user_tz": -540
    },
    "id": "lX9vCsAb1ZHn"
   },
   "outputs": [],
   "source": [
    "# 데이터 시퀀스 길이 지정\n",
    "seq_length = 3  # 시퀀스 길이\n",
    "\n",
    "# 데이터를 시퀀스 형태로 변환\n",
    "X_seq, y_seq = reshape_to_sequences(X, y, seq_length)"
   ]
  },
  {
   "cell_type": "code",
   "execution_count": 108,
   "metadata": {
    "executionInfo": {
     "elapsed": 575,
     "status": "ok",
     "timestamp": 1736817040984,
     "user": {
      "displayName": "신호용",
      "userId": "04424386186383145760"
     },
     "user_tz": -540
    },
    "id": "0aLSjL8nyavB"
   },
   "outputs": [],
   "source": [
    "# 데이터 분할\n",
    "X_train, X_val, y_train, y_val = train_test_split(X_seq, y_seq, test_size=0.2, random_state=42)"
   ]
  },
  {
   "cell_type": "code",
   "execution_count": 109,
   "metadata": {
    "colab": {
     "base_uri": "https://localhost:8080/"
    },
    "executionInfo": {
     "elapsed": 410,
     "status": "ok",
     "timestamp": 1736817068598,
     "user": {
      "displayName": "신호용",
      "userId": "04424386186383145760"
     },
     "user_tz": -540
    },
    "id": "ddZ5tAf5yavC",
    "outputId": "54f66270-21d4-45c9-ee91-9470d50a51db"
   },
   "outputs": [
    {
     "name": "stderr",
     "output_type": "stream",
     "text": [
      "c:\\Users\\User\\anaconda3\\envs\\action_recognition\\Lib\\site-packages\\keras\\src\\layers\\rnn\\rnn.py:200: UserWarning: Do not pass an `input_shape`/`input_dim` argument to a layer. When using Sequential models, prefer using an `Input(shape)` object as the first layer in the model instead.\n",
      "  super().__init__(**kwargs)\n"
     ]
    }
   ],
   "source": [
    "# LSTM 모델 정의\n",
    "model = Sequential([\n",
    "    LSTM(128, input_shape=(seq_length, X_train.shape[2]), return_sequences=True),\n",
    "    LSTM(64),\n",
    "    Dense(32, activation=\"relu\"),\n",
    "    Dense(y_train.shape[1], activation=\"softmax\")\n",
    "    ])"
   ]
  },
  {
   "cell_type": "code",
   "execution_count": 111,
   "metadata": {
    "colab": {
     "base_uri": "https://localhost:8080/"
    },
    "executionInfo": {
     "elapsed": 14658,
     "status": "ok",
     "timestamp": 1736817088559,
     "user": {
      "displayName": "신호용",
      "userId": "04424386186383145760"
     },
     "user_tz": -540
    },
    "id": "DYMwh9xXyavC",
    "outputId": "e7df7203-1de3-450a-c62a-ce8337c8c321"
   },
   "outputs": [
    {
     "name": "stdout",
     "output_type": "stream",
     "text": [
      "Epoch 1/300\n",
      "\u001b[1m15/15\u001b[0m \u001b[32m━━━━━━━━━━━━━━━━━━━━\u001b[0m\u001b[37m\u001b[0m \u001b[1m5s\u001b[0m 55ms/step - accuracy: 0.7581 - loss: 0.7356 - val_accuracy: 0.7965 - val_loss: 0.6481\n",
      "Epoch 2/300\n",
      "\u001b[1m15/15\u001b[0m \u001b[32m━━━━━━━━━━━━━━━━━━━━\u001b[0m\u001b[37m\u001b[0m \u001b[1m0s\u001b[0m 16ms/step - accuracy: 0.8424 - loss: 0.5679 - val_accuracy: 0.8230 - val_loss: 0.5408\n",
      "Epoch 3/300\n",
      "\u001b[1m15/15\u001b[0m \u001b[32m━━━━━━━━━━━━━━━━━━━━\u001b[0m\u001b[37m\u001b[0m \u001b[1m0s\u001b[0m 18ms/step - accuracy: 0.8105 - loss: 0.5533 - val_accuracy: 0.7965 - val_loss: 0.5518\n",
      "Epoch 4/300\n",
      "\u001b[1m15/15\u001b[0m \u001b[32m━━━━━━━━━━━━━━━━━━━━\u001b[0m\u001b[37m\u001b[0m \u001b[1m0s\u001b[0m 18ms/step - accuracy: 0.8414 - loss: 0.4726 - val_accuracy: 0.8230 - val_loss: 0.5367\n",
      "Epoch 5/300\n",
      "\u001b[1m15/15\u001b[0m \u001b[32m━━━━━━━━━━━━━━━━━━━━\u001b[0m\u001b[37m\u001b[0m \u001b[1m0s\u001b[0m 17ms/step - accuracy: 0.8733 - loss: 0.3660 - val_accuracy: 0.8053 - val_loss: 0.4751\n",
      "Epoch 6/300\n",
      "\u001b[1m15/15\u001b[0m \u001b[32m━━━━━━━━━━━━━━━━━━━━\u001b[0m\u001b[37m\u001b[0m \u001b[1m0s\u001b[0m 18ms/step - accuracy: 0.9070 - loss: 0.3040 - val_accuracy: 0.8496 - val_loss: 0.4847\n",
      "Epoch 7/300\n",
      "\u001b[1m15/15\u001b[0m \u001b[32m━━━━━━━━━━━━━━━━━━━━\u001b[0m\u001b[37m\u001b[0m \u001b[1m0s\u001b[0m 19ms/step - accuracy: 0.9075 - loss: 0.3065 - val_accuracy: 0.8142 - val_loss: 0.5220\n",
      "Epoch 8/300\n",
      "\u001b[1m15/15\u001b[0m \u001b[32m━━━━━━━━━━━━━━━━━━━━\u001b[0m\u001b[37m\u001b[0m \u001b[1m0s\u001b[0m 21ms/step - accuracy: 0.9316 - loss: 0.2821 - val_accuracy: 0.8319 - val_loss: 0.4711\n",
      "Epoch 9/300\n",
      "\u001b[1m15/15\u001b[0m \u001b[32m━━━━━━━━━━━━━━━━━━━━\u001b[0m\u001b[37m\u001b[0m \u001b[1m0s\u001b[0m 22ms/step - accuracy: 0.9010 - loss: 0.2786 - val_accuracy: 0.8053 - val_loss: 0.5048\n",
      "Epoch 10/300\n",
      "\u001b[1m15/15\u001b[0m \u001b[32m━━━━━━━━━━━━━━━━━━━━\u001b[0m\u001b[37m\u001b[0m \u001b[1m0s\u001b[0m 19ms/step - accuracy: 0.9235 - loss: 0.2556 - val_accuracy: 0.8407 - val_loss: 0.4773\n",
      "Epoch 11/300\n",
      "\u001b[1m15/15\u001b[0m \u001b[32m━━━━━━━━━━━━━━━━━━━━\u001b[0m\u001b[37m\u001b[0m \u001b[1m0s\u001b[0m 21ms/step - accuracy: 0.8844 - loss: 0.3242 - val_accuracy: 0.8584 - val_loss: 0.4829\n",
      "Epoch 12/300\n",
      "\u001b[1m15/15\u001b[0m \u001b[32m━━━━━━━━━━━━━━━━━━━━\u001b[0m\u001b[37m\u001b[0m \u001b[1m0s\u001b[0m 22ms/step - accuracy: 0.8934 - loss: 0.2915 - val_accuracy: 0.7611 - val_loss: 0.5579\n",
      "Epoch 13/300\n",
      "\u001b[1m15/15\u001b[0m \u001b[32m━━━━━━━━━━━━━━━━━━━━\u001b[0m\u001b[37m\u001b[0m \u001b[1m0s\u001b[0m 20ms/step - accuracy: 0.8451 - loss: 0.4013 - val_accuracy: 0.8319 - val_loss: 0.5477\n",
      "Epoch 14/300\n",
      "\u001b[1m15/15\u001b[0m \u001b[32m━━━━━━━━━━━━━━━━━━━━\u001b[0m\u001b[37m\u001b[0m \u001b[1m0s\u001b[0m 19ms/step - accuracy: 0.8662 - loss: 0.3814 - val_accuracy: 0.7965 - val_loss: 0.5072\n",
      "Epoch 15/300\n",
      "\u001b[1m15/15\u001b[0m \u001b[32m━━━━━━━━━━━━━━━━━━━━\u001b[0m\u001b[37m\u001b[0m \u001b[1m0s\u001b[0m 17ms/step - accuracy: 0.8997 - loss: 0.3306 - val_accuracy: 0.8584 - val_loss: 0.4650\n",
      "Epoch 16/300\n",
      "\u001b[1m15/15\u001b[0m \u001b[32m━━━━━━━━━━━━━━━━━━━━\u001b[0m\u001b[37m\u001b[0m \u001b[1m0s\u001b[0m 18ms/step - accuracy: 0.9012 - loss: 0.3045 - val_accuracy: 0.8230 - val_loss: 0.5267\n",
      "Epoch 17/300\n",
      "\u001b[1m15/15\u001b[0m \u001b[32m━━━━━━━━━━━━━━━━━━━━\u001b[0m\u001b[37m\u001b[0m \u001b[1m0s\u001b[0m 20ms/step - accuracy: 0.8925 - loss: 0.3011 - val_accuracy: 0.8230 - val_loss: 0.5026\n",
      "Epoch 18/300\n",
      "\u001b[1m15/15\u001b[0m \u001b[32m━━━━━━━━━━━━━━━━━━━━\u001b[0m\u001b[37m\u001b[0m \u001b[1m0s\u001b[0m 19ms/step - accuracy: 0.9021 - loss: 0.3044 - val_accuracy: 0.7699 - val_loss: 0.5609\n",
      "Epoch 19/300\n",
      "\u001b[1m15/15\u001b[0m \u001b[32m━━━━━━━━━━━━━━━━━━━━\u001b[0m\u001b[37m\u001b[0m \u001b[1m0s\u001b[0m 18ms/step - accuracy: 0.8696 - loss: 0.3755 - val_accuracy: 0.8407 - val_loss: 0.5530\n",
      "Epoch 20/300\n",
      "\u001b[1m15/15\u001b[0m \u001b[32m━━━━━━━━━━━━━━━━━━━━\u001b[0m\u001b[37m\u001b[0m \u001b[1m0s\u001b[0m 18ms/step - accuracy: 0.9168 - loss: 0.2748 - val_accuracy: 0.8673 - val_loss: 0.4215\n",
      "Epoch 21/300\n",
      "\u001b[1m15/15\u001b[0m \u001b[32m━━━━━━━━━━━━━━━━━━━━\u001b[0m\u001b[37m\u001b[0m \u001b[1m0s\u001b[0m 16ms/step - accuracy: 0.8657 - loss: 0.3430 - val_accuracy: 0.8142 - val_loss: 0.5220\n",
      "Epoch 22/300\n",
      "\u001b[1m15/15\u001b[0m \u001b[32m━━━━━━━━━━━━━━━━━━━━\u001b[0m\u001b[37m\u001b[0m \u001b[1m0s\u001b[0m 16ms/step - accuracy: 0.8542 - loss: 0.3941 - val_accuracy: 0.8142 - val_loss: 0.5666\n",
      "Epoch 23/300\n",
      "\u001b[1m15/15\u001b[0m \u001b[32m━━━━━━━━━━━━━━━━━━━━\u001b[0m\u001b[37m\u001b[0m \u001b[1m0s\u001b[0m 16ms/step - accuracy: 0.9178 - loss: 0.3115 - val_accuracy: 0.8230 - val_loss: 0.4702\n",
      "Epoch 24/300\n",
      "\u001b[1m15/15\u001b[0m \u001b[32m━━━━━━━━━━━━━━━━━━━━\u001b[0m\u001b[37m\u001b[0m \u001b[1m0s\u001b[0m 17ms/step - accuracy: 0.9356 - loss: 0.2768 - val_accuracy: 0.8230 - val_loss: 0.5867\n",
      "Epoch 25/300\n",
      "\u001b[1m15/15\u001b[0m \u001b[32m━━━━━━━━━━━━━━━━━━━━\u001b[0m\u001b[37m\u001b[0m \u001b[1m0s\u001b[0m 17ms/step - accuracy: 0.9058 - loss: 0.2890 - val_accuracy: 0.8407 - val_loss: 0.4301\n",
      "Epoch 26/300\n",
      "\u001b[1m15/15\u001b[0m \u001b[32m━━━━━━━━━━━━━━━━━━━━\u001b[0m\u001b[37m\u001b[0m \u001b[1m0s\u001b[0m 22ms/step - accuracy: 0.8837 - loss: 0.3674 - val_accuracy: 0.8319 - val_loss: 0.4655\n",
      "Epoch 27/300\n",
      "\u001b[1m15/15\u001b[0m \u001b[32m━━━━━━━━━━━━━━━━━━━━\u001b[0m\u001b[37m\u001b[0m \u001b[1m0s\u001b[0m 20ms/step - accuracy: 0.8522 - loss: 0.3910 - val_accuracy: 0.8407 - val_loss: 0.5140\n",
      "Epoch 28/300\n",
      "\u001b[1m15/15\u001b[0m \u001b[32m━━━━━━━━━━━━━━━━━━━━\u001b[0m\u001b[37m\u001b[0m \u001b[1m0s\u001b[0m 18ms/step - accuracy: 0.8901 - loss: 0.3110 - val_accuracy: 0.8761 - val_loss: 0.4190\n",
      "Epoch 29/300\n",
      "\u001b[1m15/15\u001b[0m \u001b[32m━━━━━━━━━━━━━━━━━━━━\u001b[0m\u001b[37m\u001b[0m \u001b[1m0s\u001b[0m 17ms/step - accuracy: 0.8725 - loss: 0.3343 - val_accuracy: 0.8496 - val_loss: 0.4702\n",
      "Epoch 30/300\n",
      "\u001b[1m15/15\u001b[0m \u001b[32m━━━━━━━━━━━━━━━━━━━━\u001b[0m\u001b[37m\u001b[0m \u001b[1m0s\u001b[0m 18ms/step - accuracy: 0.9054 - loss: 0.2472 - val_accuracy: 0.8142 - val_loss: 0.6037\n",
      "Epoch 31/300\n",
      "\u001b[1m15/15\u001b[0m \u001b[32m━━━━━━━━━━━━━━━━━━━━\u001b[0m\u001b[37m\u001b[0m \u001b[1m0s\u001b[0m 20ms/step - accuracy: 0.9192 - loss: 0.2479 - val_accuracy: 0.8584 - val_loss: 0.5544\n",
      "Epoch 32/300\n",
      "\u001b[1m15/15\u001b[0m \u001b[32m━━━━━━━━━━━━━━━━━━━━\u001b[0m\u001b[37m\u001b[0m \u001b[1m0s\u001b[0m 20ms/step - accuracy: 0.9000 - loss: 0.2759 - val_accuracy: 0.8850 - val_loss: 0.4266\n",
      "Epoch 33/300\n",
      "\u001b[1m15/15\u001b[0m \u001b[32m━━━━━━━━━━━━━━━━━━━━\u001b[0m\u001b[37m\u001b[0m \u001b[1m0s\u001b[0m 18ms/step - accuracy: 0.9401 - loss: 0.2168 - val_accuracy: 0.8938 - val_loss: 0.4283\n",
      "Epoch 34/300\n",
      "\u001b[1m15/15\u001b[0m \u001b[32m━━━━━━━━━━━━━━━━━━━━\u001b[0m\u001b[37m\u001b[0m \u001b[1m0s\u001b[0m 17ms/step - accuracy: 0.9192 - loss: 0.2255 - val_accuracy: 0.8496 - val_loss: 0.4961\n",
      "Epoch 35/300\n",
      "\u001b[1m15/15\u001b[0m \u001b[32m━━━━━━━━━━━━━━━━━━━━\u001b[0m\u001b[37m\u001b[0m \u001b[1m0s\u001b[0m 17ms/step - accuracy: 0.9216 - loss: 0.2513 - val_accuracy: 0.8938 - val_loss: 0.4761\n",
      "Epoch 36/300\n",
      "\u001b[1m15/15\u001b[0m \u001b[32m━━━━━━━━━━━━━━━━━━━━\u001b[0m\u001b[37m\u001b[0m \u001b[1m0s\u001b[0m 17ms/step - accuracy: 0.8990 - loss: 0.2624 - val_accuracy: 0.8761 - val_loss: 0.4197\n",
      "Epoch 37/300\n",
      "\u001b[1m15/15\u001b[0m \u001b[32m━━━━━━━━━━━━━━━━━━━━\u001b[0m\u001b[37m\u001b[0m \u001b[1m0s\u001b[0m 19ms/step - accuracy: 0.9431 - loss: 0.2047 - val_accuracy: 0.8850 - val_loss: 0.4566\n",
      "Epoch 38/300\n",
      "\u001b[1m15/15\u001b[0m \u001b[32m━━━━━━━━━━━━━━━━━━━━\u001b[0m\u001b[37m\u001b[0m \u001b[1m0s\u001b[0m 18ms/step - accuracy: 0.9302 - loss: 0.1963 - val_accuracy: 0.8673 - val_loss: 0.4585\n",
      "Epoch 39/300\n",
      "\u001b[1m15/15\u001b[0m \u001b[32m━━━━━━━━━━━━━━━━━━━━\u001b[0m\u001b[37m\u001b[0m \u001b[1m0s\u001b[0m 18ms/step - accuracy: 0.9310 - loss: 0.1870 - val_accuracy: 0.8938 - val_loss: 0.4773\n",
      "Epoch 40/300\n",
      "\u001b[1m15/15\u001b[0m \u001b[32m━━━━━━━━━━━━━━━━━━━━\u001b[0m\u001b[37m\u001b[0m \u001b[1m0s\u001b[0m 17ms/step - accuracy: 0.9172 - loss: 0.1921 - val_accuracy: 0.8761 - val_loss: 0.3966\n",
      "Epoch 41/300\n",
      "\u001b[1m15/15\u001b[0m \u001b[32m━━━━━━━━━━━━━━━━━━━━\u001b[0m\u001b[37m\u001b[0m \u001b[1m0s\u001b[0m 16ms/step - accuracy: 0.9601 - loss: 0.1505 - val_accuracy: 0.8319 - val_loss: 0.4817\n",
      "Epoch 42/300\n",
      "\u001b[1m15/15\u001b[0m \u001b[32m━━━━━━━━━━━━━━━━━━━━\u001b[0m\u001b[37m\u001b[0m \u001b[1m0s\u001b[0m 16ms/step - accuracy: 0.8755 - loss: 0.2938 - val_accuracy: 0.7965 - val_loss: 0.6785\n",
      "Epoch 43/300\n",
      "\u001b[1m15/15\u001b[0m \u001b[32m━━━━━━━━━━━━━━━━━━━━\u001b[0m\u001b[37m\u001b[0m \u001b[1m0s\u001b[0m 18ms/step - accuracy: 0.8614 - loss: 0.3584 - val_accuracy: 0.8142 - val_loss: 0.5960\n",
      "Epoch 44/300\n",
      "\u001b[1m15/15\u001b[0m \u001b[32m━━━━━━━━━━━━━━━━━━━━\u001b[0m\u001b[37m\u001b[0m \u001b[1m0s\u001b[0m 18ms/step - accuracy: 0.9015 - loss: 0.2610 - val_accuracy: 0.8142 - val_loss: 0.5743\n",
      "Epoch 45/300\n",
      "\u001b[1m15/15\u001b[0m \u001b[32m━━━━━━━━━━━━━━━━━━━━\u001b[0m\u001b[37m\u001b[0m \u001b[1m0s\u001b[0m 26ms/step - accuracy: 0.8779 - loss: 0.2906 - val_accuracy: 0.8319 - val_loss: 0.4928\n",
      "Epoch 46/300\n",
      "\u001b[1m15/15\u001b[0m \u001b[32m━━━━━━━━━━━━━━━━━━━━\u001b[0m\u001b[37m\u001b[0m \u001b[1m0s\u001b[0m 18ms/step - accuracy: 0.8551 - loss: 0.3863 - val_accuracy: 0.7965 - val_loss: 0.6379\n",
      "Epoch 47/300\n",
      "\u001b[1m15/15\u001b[0m \u001b[32m━━━━━━━━━━━━━━━━━━━━\u001b[0m\u001b[37m\u001b[0m \u001b[1m0s\u001b[0m 16ms/step - accuracy: 0.8158 - loss: 0.4197 - val_accuracy: 0.8584 - val_loss: 0.5275\n",
      "Epoch 48/300\n",
      "\u001b[1m15/15\u001b[0m \u001b[32m━━━━━━━━━━━━━━━━━━━━\u001b[0m\u001b[37m\u001b[0m \u001b[1m0s\u001b[0m 15ms/step - accuracy: 0.8835 - loss: 0.2969 - val_accuracy: 0.8938 - val_loss: 0.4223\n",
      "Epoch 49/300\n",
      "\u001b[1m15/15\u001b[0m \u001b[32m━━━━━━━━━━━━━━━━━━━━\u001b[0m\u001b[37m\u001b[0m \u001b[1m0s\u001b[0m 17ms/step - accuracy: 0.8713 - loss: 0.2734 - val_accuracy: 0.8850 - val_loss: 0.3513\n",
      "Epoch 50/300\n",
      "\u001b[1m15/15\u001b[0m \u001b[32m━━━━━━━━━━━━━━━━━━━━\u001b[0m\u001b[37m\u001b[0m \u001b[1m0s\u001b[0m 18ms/step - accuracy: 0.9019 - loss: 0.2432 - val_accuracy: 0.9204 - val_loss: 0.3526\n",
      "Epoch 51/300\n",
      "\u001b[1m15/15\u001b[0m \u001b[32m━━━━━━━━━━━━━━━━━━━━\u001b[0m\u001b[37m\u001b[0m \u001b[1m0s\u001b[0m 16ms/step - accuracy: 0.9283 - loss: 0.2107 - val_accuracy: 0.9027 - val_loss: 0.4053\n",
      "Epoch 52/300\n",
      "\u001b[1m15/15\u001b[0m \u001b[32m━━━━━━━━━━━━━━━━━━━━\u001b[0m\u001b[37m\u001b[0m \u001b[1m0s\u001b[0m 19ms/step - accuracy: 0.9560 - loss: 0.1418 - val_accuracy: 0.9027 - val_loss: 0.4735\n",
      "Epoch 53/300\n",
      "\u001b[1m15/15\u001b[0m \u001b[32m━━━━━━━━━━━━━━━━━━━━\u001b[0m\u001b[37m\u001b[0m \u001b[1m0s\u001b[0m 17ms/step - accuracy: 0.9116 - loss: 0.2250 - val_accuracy: 0.8496 - val_loss: 0.5261\n",
      "Epoch 54/300\n",
      "\u001b[1m15/15\u001b[0m \u001b[32m━━━━━━━━━━━━━━━━━━━━\u001b[0m\u001b[37m\u001b[0m \u001b[1m0s\u001b[0m 17ms/step - accuracy: 0.9250 - loss: 0.1812 - val_accuracy: 0.9115 - val_loss: 0.4348\n",
      "Epoch 55/300\n",
      "\u001b[1m15/15\u001b[0m \u001b[32m━━━━━━━━━━━━━━━━━━━━\u001b[0m\u001b[37m\u001b[0m \u001b[1m0s\u001b[0m 17ms/step - accuracy: 0.9245 - loss: 0.1813 - val_accuracy: 0.8938 - val_loss: 0.4486\n",
      "Epoch 56/300\n",
      "\u001b[1m15/15\u001b[0m \u001b[32m━━━━━━━━━━━━━━━━━━━━\u001b[0m\u001b[37m\u001b[0m \u001b[1m0s\u001b[0m 18ms/step - accuracy: 0.9390 - loss: 0.1579 - val_accuracy: 0.9027 - val_loss: 0.3671\n",
      "Epoch 57/300\n",
      "\u001b[1m15/15\u001b[0m \u001b[32m━━━━━━━━━━━━━━━━━━━━\u001b[0m\u001b[37m\u001b[0m \u001b[1m0s\u001b[0m 18ms/step - accuracy: 0.9532 - loss: 0.1205 - val_accuracy: 0.9115 - val_loss: 0.3332\n",
      "Epoch 58/300\n",
      "\u001b[1m15/15\u001b[0m \u001b[32m━━━━━━━━━━━━━━━━━━━━\u001b[0m\u001b[37m\u001b[0m \u001b[1m0s\u001b[0m 17ms/step - accuracy: 0.9764 - loss: 0.0851 - val_accuracy: 0.9115 - val_loss: 0.3323\n",
      "Epoch 59/300\n",
      "\u001b[1m15/15\u001b[0m \u001b[32m━━━━━━━━━━━━━━━━━━━━\u001b[0m\u001b[37m\u001b[0m \u001b[1m0s\u001b[0m 20ms/step - accuracy: 0.9607 - loss: 0.0999 - val_accuracy: 0.9115 - val_loss: 0.3865\n",
      "Epoch 60/300\n",
      "\u001b[1m15/15\u001b[0m \u001b[32m━━━━━━━━━━━━━━━━━━━━\u001b[0m\u001b[37m\u001b[0m \u001b[1m0s\u001b[0m 15ms/step - accuracy: 0.9602 - loss: 0.1067 - val_accuracy: 0.9204 - val_loss: 0.3024\n",
      "Epoch 61/300\n",
      "\u001b[1m15/15\u001b[0m \u001b[32m━━━━━━━━━━━━━━━━━━━━\u001b[0m\u001b[37m\u001b[0m \u001b[1m0s\u001b[0m 14ms/step - accuracy: 0.9699 - loss: 0.1033 - val_accuracy: 0.8938 - val_loss: 0.3838\n",
      "Epoch 62/300\n",
      "\u001b[1m15/15\u001b[0m \u001b[32m━━━━━━━━━━━━━━━━━━━━\u001b[0m\u001b[37m\u001b[0m \u001b[1m0s\u001b[0m 14ms/step - accuracy: 0.9705 - loss: 0.0975 - val_accuracy: 0.9292 - val_loss: 0.3845\n",
      "Epoch 63/300\n",
      "\u001b[1m15/15\u001b[0m \u001b[32m━━━━━━━━━━━━━━━━━━━━\u001b[0m\u001b[37m\u001b[0m \u001b[1m0s\u001b[0m 15ms/step - accuracy: 0.8981 - loss: 0.2252 - val_accuracy: 0.8761 - val_loss: 0.4590\n",
      "Epoch 64/300\n",
      "\u001b[1m15/15\u001b[0m \u001b[32m━━━━━━━━━━━━━━━━━━━━\u001b[0m\u001b[37m\u001b[0m \u001b[1m0s\u001b[0m 14ms/step - accuracy: 0.9389 - loss: 0.1684 - val_accuracy: 0.8761 - val_loss: 0.4529\n",
      "Epoch 65/300\n",
      "\u001b[1m15/15\u001b[0m \u001b[32m━━━━━━━━━━━━━━━━━━━━\u001b[0m\u001b[37m\u001b[0m \u001b[1m0s\u001b[0m 15ms/step - accuracy: 0.8809 - loss: 0.2867 - val_accuracy: 0.8938 - val_loss: 0.5129\n",
      "Epoch 66/300\n",
      "\u001b[1m15/15\u001b[0m \u001b[32m━━━━━━━━━━━━━━━━━━━━\u001b[0m\u001b[37m\u001b[0m \u001b[1m0s\u001b[0m 14ms/step - accuracy: 0.8810 - loss: 0.3181 - val_accuracy: 0.8496 - val_loss: 0.4820\n",
      "Epoch 67/300\n",
      "\u001b[1m15/15\u001b[0m \u001b[32m━━━━━━━━━━━━━━━━━━━━\u001b[0m\u001b[37m\u001b[0m \u001b[1m0s\u001b[0m 14ms/step - accuracy: 0.8754 - loss: 0.3335 - val_accuracy: 0.8053 - val_loss: 0.4966\n",
      "Epoch 68/300\n",
      "\u001b[1m15/15\u001b[0m \u001b[32m━━━━━━━━━━━━━━━━━━━━\u001b[0m\u001b[37m\u001b[0m \u001b[1m0s\u001b[0m 14ms/step - accuracy: 0.8645 - loss: 0.3305 - val_accuracy: 0.8407 - val_loss: 0.7585\n",
      "Epoch 69/300\n",
      "\u001b[1m15/15\u001b[0m \u001b[32m━━━━━━━━━━━━━━━━━━━━\u001b[0m\u001b[37m\u001b[0m \u001b[1m0s\u001b[0m 14ms/step - accuracy: 0.8832 - loss: 0.3356 - val_accuracy: 0.8938 - val_loss: 0.4065\n",
      "Epoch 70/300\n",
      "\u001b[1m15/15\u001b[0m \u001b[32m━━━━━━━━━━━━━━━━━━━━\u001b[0m\u001b[37m\u001b[0m \u001b[1m0s\u001b[0m 14ms/step - accuracy: 0.9189 - loss: 0.2493 - val_accuracy: 0.9115 - val_loss: 0.3369\n",
      "Epoch 71/300\n",
      "\u001b[1m15/15\u001b[0m \u001b[32m━━━━━━━━━━━━━━━━━━━━\u001b[0m\u001b[37m\u001b[0m \u001b[1m0s\u001b[0m 15ms/step - accuracy: 0.9323 - loss: 0.2040 - val_accuracy: 0.8850 - val_loss: 0.4622\n",
      "Epoch 72/300\n",
      "\u001b[1m15/15\u001b[0m \u001b[32m━━━━━━━━━━━━━━━━━━━━\u001b[0m\u001b[37m\u001b[0m \u001b[1m0s\u001b[0m 14ms/step - accuracy: 0.8961 - loss: 0.2635 - val_accuracy: 0.8938 - val_loss: 0.3693\n",
      "Epoch 73/300\n",
      "\u001b[1m15/15\u001b[0m \u001b[32m━━━━━━━━━━━━━━━━━━━━\u001b[0m\u001b[37m\u001b[0m \u001b[1m0s\u001b[0m 14ms/step - accuracy: 0.9215 - loss: 0.1765 - val_accuracy: 0.9381 - val_loss: 0.3568\n",
      "Epoch 74/300\n",
      "\u001b[1m15/15\u001b[0m \u001b[32m━━━━━━━━━━━━━━━━━━━━\u001b[0m\u001b[37m\u001b[0m \u001b[1m0s\u001b[0m 13ms/step - accuracy: 0.9343 - loss: 0.1589 - val_accuracy: 0.8850 - val_loss: 0.3924\n",
      "Epoch 75/300\n",
      "\u001b[1m15/15\u001b[0m \u001b[32m━━━━━━━━━━━━━━━━━━━━\u001b[0m\u001b[37m\u001b[0m \u001b[1m0s\u001b[0m 13ms/step - accuracy: 0.9347 - loss: 0.1660 - val_accuracy: 0.9115 - val_loss: 0.3762\n",
      "Epoch 76/300\n",
      "\u001b[1m15/15\u001b[0m \u001b[32m━━━━━━━━━━━━━━━━━━━━\u001b[0m\u001b[37m\u001b[0m \u001b[1m0s\u001b[0m 13ms/step - accuracy: 0.9142 - loss: 0.2340 - val_accuracy: 0.8407 - val_loss: 0.4542\n",
      "Epoch 77/300\n",
      "\u001b[1m15/15\u001b[0m \u001b[32m━━━━━━━━━━━━━━━━━━━━\u001b[0m\u001b[37m\u001b[0m \u001b[1m0s\u001b[0m 15ms/step - accuracy: 0.8841 - loss: 0.2762 - val_accuracy: 0.9204 - val_loss: 0.3058\n",
      "Epoch 78/300\n",
      "\u001b[1m15/15\u001b[0m \u001b[32m━━━━━━━━━━━━━━━━━━━━\u001b[0m\u001b[37m\u001b[0m \u001b[1m0s\u001b[0m 14ms/step - accuracy: 0.9135 - loss: 0.2414 - val_accuracy: 0.8496 - val_loss: 0.4680\n",
      "Epoch 79/300\n",
      "\u001b[1m15/15\u001b[0m \u001b[32m━━━━━━━━━━━━━━━━━━━━\u001b[0m\u001b[37m\u001b[0m \u001b[1m0s\u001b[0m 14ms/step - accuracy: 0.8966 - loss: 0.2515 - val_accuracy: 0.8850 - val_loss: 0.4280\n",
      "Epoch 80/300\n",
      "\u001b[1m15/15\u001b[0m \u001b[32m━━━━━━━━━━━━━━━━━━━━\u001b[0m\u001b[37m\u001b[0m \u001b[1m0s\u001b[0m 14ms/step - accuracy: 0.9299 - loss: 0.2125 - val_accuracy: 0.8850 - val_loss: 0.3897\n"
     ]
    }
   ],
   "source": [
    " # 모델 컴파일 및 학습\n",
    "model.compile(optimizer=Adam(learning_rate=0.001), loss=\"categorical_crossentropy\", metrics=[\"accuracy\"])\n",
    "es = EarlyStopping(monitor = 'val_loss', min_delta = 0, patience = 20, mode = 'auto', restore_best_weights=True)\n",
    "history = model.fit(X_train, y_train, validation_data=(X_val, y_val), epochs=300, batch_size=32, callbacks=es).history"
   ]
  },
  {
   "cell_type": "code",
   "execution_count": 112,
   "metadata": {},
   "outputs": [
    {
     "data": {
      "image/png": "[encoded data removed]",
      "text/plain": [
       "<Figure size 640x480 with 1 Axes>"
      ]
     },
     "metadata": {},
     "output_type": "display_data"
    }
   ],
   "source": [
    "plt.plot(history['loss'], label = 'train_err', marker = '.')\n",
    "plt.plot(history['val_loss'], label = 'val_err', marker = '.')\n",
    "plt.grid()\n",
    "plt.legend()\n",
    "plt.show()"
   ]
  },
  {
   "cell_type": "code",
   "execution_count": 113,
   "metadata": {
    "colab": {
     "base_uri": "https://localhost:8080/"
    },
    "executionInfo": {
     "elapsed": 547,
     "status": "ok",
     "timestamp": 1736498705187,
     "user": {
      "displayName": "신호용",
      "userId": "04424386186383145760"
     },
     "user_tz": -540
    },
    "id": "OCB8taP2yavC",
    "outputId": "c18c1b7b-de05-4ffb-a0c5-14ab56503bfa"
   },
   "outputs": [
    {
     "name": "stderr",
     "output_type": "stream",
     "text": [
      "WARNING:absl:You are saving your model as an HDF5 file via `model.save()` or `keras.saving.save_model(model)`. This file format is considered legacy. We recommend using instead the native Keras format, e.g. `model.save('my_model.keras')` or `keras.saving.save_model(model, 'my_model.keras')`. \n"
     ]
    }
   ],
   "source": [
    "# 모델 저장\n",
    "output_model = './Model/LSTM.h5'\n",
    "model.save(output_model)"
   ]
  },
  {
   "cell_type": "code",
   "execution_count": 114,
   "metadata": {
    "colab": {
     "base_uri": "https://localhost:8080/"
    },
    "executionInfo": {
     "elapsed": 407,
     "status": "ok",
     "timestamp": 1736817098363,
     "user": {
      "displayName": "신호용",
      "userId": "04424386186383145760"
     },
     "user_tz": -540
    },
    "id": "zWxhnnUcOYPs",
    "outputId": "de5babdf-b6f8-47a8-ec48-07c37aecb7a4"
   },
   "outputs": [
    {
     "name": "stdout",
     "output_type": "stream",
     "text": [
      "검증 데이터 정확도: 92.04%\n"
     ]
    }
   ],
   "source": [
    "# 학습된 모델 평가\n",
    "loss, accuracy = model.evaluate(X_val, y_val, verbose=0)\n",
    "print(f\"검증 데이터 정확도: {accuracy * 100:.2f}%\")"
   ]
  }
 ],
 "metadata": {
  "colab": {
   "provenance": []
  },
  "kernelspec": {
   "display_name": "action_recognition",
   "language": "python",
   "name": "python3"
  },
  "language_info": {
   "codemirror_mode": {
    "name": "ipython",
    "version": 3
   },
   "file_extension": ".py",
   "mimetype": "text/x-python",
   "name": "python",
   "nbconvert_exporter": "python",
   "pygments_lexer": "ipython3",
   "version": "3.12.8"
  }
 },
 "nbformat": 4,
 "nbformat_minor": 0
}
