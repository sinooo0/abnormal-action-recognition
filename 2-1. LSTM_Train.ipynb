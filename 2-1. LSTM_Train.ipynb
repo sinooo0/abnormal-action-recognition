{
 "cells": [
  {
   "cell_type": "code",
   "execution_count": 68,
   "metadata": {
    "executionInfo": {
     "elapsed": 6344,
     "status": "ok",
     "timestamp": 1736816975834,
     "user": {
      "displayName": "신호용",
      "userId": "04424386186383145760"
     },
     "user_tz": -540
    },
    "id": "RcPpb0t6yau8"
   },
   "outputs": [],
   "source": [
    "import os\n",
    "import re\n",
    "import pandas as pd\n",
    "import numpy as np\n",
    "import matplotlib.pyplot as plt\n",
    "from keras.models import Sequential\n",
    "from keras.layers import LSTM, Dense\n",
    "from keras.utils import to_categorical\n",
    "from keras.optimizers import Adam\n",
    "from keras.callbacks import EarlyStopping\n",
    "from sklearn.model_selection import train_test_split"
   ]
  },
  {
   "cell_type": "code",
   "execution_count": 69,
   "metadata": {
    "executionInfo": {
     "elapsed": 948,
     "status": "ok",
     "timestamp": 1736816979723,
     "user": {
      "displayName": "신호용",
      "userId": "04424386186383145760"
     },
     "user_tz": -540
    },
    "id": "F56DvJR2yavA"
   },
   "outputs": [],
   "source": [
    "# LSTM_Live 폴더의 모든 CSV 파일 병합\n",
    "def LSTM_Live_Merge(folder_path):\n",
    "    \n",
    "    csv_files = []\n",
    "\n",
    "    # 하위 폴더까지 탐색\n",
    "    for root, _, files in os.walk(folder_path):\n",
    "        for file in files:\n",
    "            if file.endswith('.csv'):\n",
    "                csv_path = os.path.join(root, file)\n",
    "                \n",
    "                # CSV 불러오기\n",
    "                df = pd.read_csv(csv_path)\n",
    "                csv_files.append(df)\n",
    "\n",
    "    # 모든 CSV 파일 병합\n",
    "    if csv_files:\n",
    "        combined_df = pd.concat(csv_files, ignore_index=True)\n",
    "        print(f\"총 {len(csv_files)}개의 CSV 파일을 병합했습니다. 데이터 크기: {combined_df.shape}\")\n",
    "        return combined_df\n",
    "    else:\n",
    "        print(\"병합할 CSV 파일이 없습니다.\")\n",
    "        return pd.DataFrame()\n"
   ]
  },
  {
   "cell_type": "code",
   "execution_count": 71,
   "metadata": {},
   "outputs": [],
   "source": [
    "def natural_sort_key(s):\n",
    "    return [int(text) if text.isdigit() else text.lower() for text in re.split(r'(\\d+)', s)]\n",
    "\n",
    "# 폴더 내 CSV 파일 병합\n",
    "def LSTM_Capture_Merge(folder_path, sequence):\n",
    "    \n",
    "    csv_files = []\n",
    "\n",
    "    for root, _, files in sorted(os.walk(folder_path), key=lambda x: natural_sort_key(x[0])):\n",
    "        sorted_files = sorted([file for file in files if file.endswith('.csv')], key=natural_sort_key)\n",
    "        file_count = len(sorted_files)\n",
    "        \n",
    "        if file_count == 0:\n",
    "            continue  # CSV 파일이 없는 폴더는 건너뜀\n",
    "        \n",
    "        if file_count % sequence != 0:\n",
    "            print(f\"[제외] {root}: CSV 파일 수 {file_count}개는 {sequence}의 배수가 아닙니다.\")\n",
    "            continue  # sequence의 배수가 아니면 병합 제외\n",
    "\n",
    "        for file in sorted_files:\n",
    "            csv_path = os.path.join(root, file)\n",
    "            csv_files.append(csv_path)\n",
    "\n",
    "    if not csv_files:\n",
    "        print(\"병합할 CSV 파일이 없습니다.\")\n",
    "        return pd.DataFrame()\n",
    "    \n",
    "    # CSV 파일 병합 (float_precision 추가)\n",
    "    dataframes = [pd.read_csv(file, float_precision='round_trip') for file in csv_files]\n",
    "    combined_df = pd.concat(dataframes, ignore_index=True)\n",
    "    print(f\"총 {len(csv_files)}개의 CSV 파일을 병합했습니다. 데이터 크기: {combined_df.shape}\")\n",
    "    return combined_df"
   ]
  },
  {
   "cell_type": "code",
   "execution_count": 72,
   "metadata": {
    "executionInfo": {
     "elapsed": 2,
     "status": "ok",
     "timestamp": 1736816981402,
     "user": {
      "displayName": "신호용",
      "userId": "04424386186383145760"
     },
     "user_tz": -540
    },
    "id": "XCctZO0JEt3_"
   },
   "outputs": [],
   "source": [
    "# 데이터 시퀀스별로 변환\n",
    "def reshape_to_sequences(data, labels, seq_length):\n",
    "    sequences = []\n",
    "    sequence_labels = []\n",
    "    for i in range(len(data) - seq_length + 1):\n",
    "        sequences.append(data[i:i + seq_length])\n",
    "        sequence_labels.append(labels[i + seq_length - 1])  # 시퀀스의 마지막 레이블 사용\n",
    "    return np.array(sequences), np.array(sequence_labels)"
   ]
  },
  {
   "cell_type": "code",
   "execution_count": 74,
   "metadata": {
    "colab": {
     "base_uri": "https://localhost:8080/"
    },
    "executionInfo": {
     "elapsed": 7399,
     "status": "ok",
     "timestamp": 1736816993226,
     "user": {
      "displayName": "신호용",
      "userId": "04424386186383145760"
     },
     "user_tz": -540
    },
    "id": "v9lYaWtICsyN",
    "outputId": "5674cacd-ed53-49a6-8117-5ae8b539a54f"
   },
   "outputs": [
    {
     "name": "stdout",
     "output_type": "stream",
     "text": [
      "병합할 CSV 파일이 없습니다.\n",
      "총 3624개의 CSV 파일을 병합했습니다. 데이터 크기: (3624, 35)\n"
     ]
    }
   ],
   "source": [
    "# 데이터 불러오기 및 병합\n",
    "folder_path = './Data'  # 데이터 폴더 경로\n",
    "df_live = LSTM_Live_Merge(folder_path + '/LSTM_Live') # LSTM_Live 폴더 병합\n",
    "df_capture = LSTM_Capture_Merge(folder_path + '/LSTM_Capture', sequence=3) # LSTM_Capture 폴더 병합\n",
    "df= pd.concat([df_live, df_capture], ignore_index=True) # 전체 폴더 병합"
   ]
  },
  {
   "cell_type": "code",
   "execution_count": 75,
   "metadata": {},
   "outputs": [
    {
     "data": {
      "text/html": [
       "<div>\n",
       "<style scoped>\n",
       "    .dataframe tbody tr th:only-of-type {\n",
       "        vertical-align: middle;\n",
       "    }\n",
       "\n",
       "    .dataframe tbody tr th {\n",
       "        vertical-align: top;\n",
       "    }\n",
       "\n",
       "    .dataframe thead th {\n",
       "        text-align: right;\n",
       "    }\n",
       "</style>\n",
       "<table border=\"1\" class=\"dataframe\">\n",
       "  <thead>\n",
       "    <tr style=\"text-align: right;\">\n",
       "      <th></th>\n",
       "      <th>kp0_x</th>\n",
       "      <th>kp0_y</th>\n",
       "      <th>kp1_x</th>\n",
       "      <th>kp1_y</th>\n",
       "      <th>kp2_x</th>\n",
       "      <th>kp2_y</th>\n",
       "      <th>kp3_x</th>\n",
       "      <th>kp3_y</th>\n",
       "      <th>kp4_x</th>\n",
       "      <th>kp4_y</th>\n",
       "      <th>...</th>\n",
       "      <th>kp12_y</th>\n",
       "      <th>kp13_x</th>\n",
       "      <th>kp13_y</th>\n",
       "      <th>kp14_x</th>\n",
       "      <th>kp14_y</th>\n",
       "      <th>kp15_x</th>\n",
       "      <th>kp15_y</th>\n",
       "      <th>kp16_x</th>\n",
       "      <th>kp16_y</th>\n",
       "      <th>action_class</th>\n",
       "    </tr>\n",
       "  </thead>\n",
       "  <tbody>\n",
       "    <tr>\n",
       "      <th>0</th>\n",
       "      <td>0.000000</td>\n",
       "      <td>0.000000</td>\n",
       "      <td>0.000000</td>\n",
       "      <td>0.000000</td>\n",
       "      <td>0.000000</td>\n",
       "      <td>0.000000</td>\n",
       "      <td>0.000000</td>\n",
       "      <td>0.000000</td>\n",
       "      <td>186.562317</td>\n",
       "      <td>97.413239</td>\n",
       "      <td>...</td>\n",
       "      <td>189.882309</td>\n",
       "      <td>0.000000</td>\n",
       "      <td>0.000000</td>\n",
       "      <td>0.000000</td>\n",
       "      <td>0.000000</td>\n",
       "      <td>0.0</td>\n",
       "      <td>0.0</td>\n",
       "      <td>0.0</td>\n",
       "      <td>0.0</td>\n",
       "      <td>0</td>\n",
       "    </tr>\n",
       "    <tr>\n",
       "      <th>1</th>\n",
       "      <td>0.000000</td>\n",
       "      <td>0.000000</td>\n",
       "      <td>0.000000</td>\n",
       "      <td>0.000000</td>\n",
       "      <td>0.000000</td>\n",
       "      <td>0.000000</td>\n",
       "      <td>0.000000</td>\n",
       "      <td>0.000000</td>\n",
       "      <td>205.938446</td>\n",
       "      <td>107.939316</td>\n",
       "      <td>...</td>\n",
       "      <td>202.759811</td>\n",
       "      <td>0.000000</td>\n",
       "      <td>0.000000</td>\n",
       "      <td>0.000000</td>\n",
       "      <td>0.000000</td>\n",
       "      <td>0.0</td>\n",
       "      <td>0.0</td>\n",
       "      <td>0.0</td>\n",
       "      <td>0.0</td>\n",
       "      <td>0</td>\n",
       "    </tr>\n",
       "    <tr>\n",
       "      <th>2</th>\n",
       "      <td>0.000000</td>\n",
       "      <td>0.000000</td>\n",
       "      <td>0.000000</td>\n",
       "      <td>0.000000</td>\n",
       "      <td>0.000000</td>\n",
       "      <td>0.000000</td>\n",
       "      <td>0.000000</td>\n",
       "      <td>0.000000</td>\n",
       "      <td>203.495056</td>\n",
       "      <td>108.826836</td>\n",
       "      <td>...</td>\n",
       "      <td>202.612686</td>\n",
       "      <td>0.000000</td>\n",
       "      <td>0.000000</td>\n",
       "      <td>0.000000</td>\n",
       "      <td>0.000000</td>\n",
       "      <td>0.0</td>\n",
       "      <td>0.0</td>\n",
       "      <td>0.0</td>\n",
       "      <td>0.0</td>\n",
       "      <td>0</td>\n",
       "    </tr>\n",
       "    <tr>\n",
       "      <th>3</th>\n",
       "      <td>0.000000</td>\n",
       "      <td>0.000000</td>\n",
       "      <td>0.000000</td>\n",
       "      <td>0.000000</td>\n",
       "      <td>0.000000</td>\n",
       "      <td>0.000000</td>\n",
       "      <td>0.000000</td>\n",
       "      <td>0.000000</td>\n",
       "      <td>193.227295</td>\n",
       "      <td>108.078430</td>\n",
       "      <td>...</td>\n",
       "      <td>198.819366</td>\n",
       "      <td>0.000000</td>\n",
       "      <td>0.000000</td>\n",
       "      <td>0.000000</td>\n",
       "      <td>0.000000</td>\n",
       "      <td>0.0</td>\n",
       "      <td>0.0</td>\n",
       "      <td>0.0</td>\n",
       "      <td>0.0</td>\n",
       "      <td>0</td>\n",
       "    </tr>\n",
       "    <tr>\n",
       "      <th>4</th>\n",
       "      <td>0.000000</td>\n",
       "      <td>0.000000</td>\n",
       "      <td>0.000000</td>\n",
       "      <td>0.000000</td>\n",
       "      <td>0.000000</td>\n",
       "      <td>0.000000</td>\n",
       "      <td>0.000000</td>\n",
       "      <td>0.000000</td>\n",
       "      <td>187.580933</td>\n",
       "      <td>106.747070</td>\n",
       "      <td>...</td>\n",
       "      <td>199.130951</td>\n",
       "      <td>0.000000</td>\n",
       "      <td>0.000000</td>\n",
       "      <td>0.000000</td>\n",
       "      <td>0.000000</td>\n",
       "      <td>0.0</td>\n",
       "      <td>0.0</td>\n",
       "      <td>0.0</td>\n",
       "      <td>0.0</td>\n",
       "      <td>0</td>\n",
       "    </tr>\n",
       "    <tr>\n",
       "      <th>...</th>\n",
       "      <td>...</td>\n",
       "      <td>...</td>\n",
       "      <td>...</td>\n",
       "      <td>...</td>\n",
       "      <td>...</td>\n",
       "      <td>...</td>\n",
       "      <td>...</td>\n",
       "      <td>...</td>\n",
       "      <td>...</td>\n",
       "      <td>...</td>\n",
       "      <td>...</td>\n",
       "      <td>...</td>\n",
       "      <td>...</td>\n",
       "      <td>...</td>\n",
       "      <td>...</td>\n",
       "      <td>...</td>\n",
       "      <td>...</td>\n",
       "      <td>...</td>\n",
       "      <td>...</td>\n",
       "      <td>...</td>\n",
       "      <td>...</td>\n",
       "    </tr>\n",
       "    <tr>\n",
       "      <th>3619</th>\n",
       "      <td>201.846695</td>\n",
       "      <td>149.767776</td>\n",
       "      <td>205.054123</td>\n",
       "      <td>147.687546</td>\n",
       "      <td>200.026764</td>\n",
       "      <td>147.590378</td>\n",
       "      <td>211.117142</td>\n",
       "      <td>148.287674</td>\n",
       "      <td>198.476395</td>\n",
       "      <td>147.630188</td>\n",
       "      <td>...</td>\n",
       "      <td>200.290024</td>\n",
       "      <td>181.882629</td>\n",
       "      <td>235.131973</td>\n",
       "      <td>176.619385</td>\n",
       "      <td>230.295471</td>\n",
       "      <td>0.0</td>\n",
       "      <td>0.0</td>\n",
       "      <td>0.0</td>\n",
       "      <td>0.0</td>\n",
       "      <td>4</td>\n",
       "    </tr>\n",
       "    <tr>\n",
       "      <th>3620</th>\n",
       "      <td>207.829071</td>\n",
       "      <td>148.943146</td>\n",
       "      <td>210.760345</td>\n",
       "      <td>146.891525</td>\n",
       "      <td>205.216812</td>\n",
       "      <td>146.662842</td>\n",
       "      <td>215.577881</td>\n",
       "      <td>148.229828</td>\n",
       "      <td>201.599960</td>\n",
       "      <td>147.383255</td>\n",
       "      <td>...</td>\n",
       "      <td>204.139755</td>\n",
       "      <td>190.339355</td>\n",
       "      <td>239.447052</td>\n",
       "      <td>186.464508</td>\n",
       "      <td>237.257660</td>\n",
       "      <td>0.0</td>\n",
       "      <td>0.0</td>\n",
       "      <td>0.0</td>\n",
       "      <td>0.0</td>\n",
       "      <td>4</td>\n",
       "    </tr>\n",
       "    <tr>\n",
       "      <th>3621</th>\n",
       "      <td>198.767273</td>\n",
       "      <td>151.729233</td>\n",
       "      <td>202.542679</td>\n",
       "      <td>148.697769</td>\n",
       "      <td>198.372147</td>\n",
       "      <td>148.876968</td>\n",
       "      <td>212.771347</td>\n",
       "      <td>149.071030</td>\n",
       "      <td>0.000000</td>\n",
       "      <td>0.000000</td>\n",
       "      <td>...</td>\n",
       "      <td>211.829971</td>\n",
       "      <td>189.423233</td>\n",
       "      <td>250.263626</td>\n",
       "      <td>174.982971</td>\n",
       "      <td>243.225876</td>\n",
       "      <td>0.0</td>\n",
       "      <td>0.0</td>\n",
       "      <td>0.0</td>\n",
       "      <td>0.0</td>\n",
       "      <td>4</td>\n",
       "    </tr>\n",
       "    <tr>\n",
       "      <th>3622</th>\n",
       "      <td>195.412125</td>\n",
       "      <td>147.921295</td>\n",
       "      <td>199.790573</td>\n",
       "      <td>144.432999</td>\n",
       "      <td>195.537384</td>\n",
       "      <td>145.576797</td>\n",
       "      <td>210.806320</td>\n",
       "      <td>147.053711</td>\n",
       "      <td>0.000000</td>\n",
       "      <td>0.000000</td>\n",
       "      <td>...</td>\n",
       "      <td>220.371140</td>\n",
       "      <td>184.283051</td>\n",
       "      <td>256.564087</td>\n",
       "      <td>0.000000</td>\n",
       "      <td>0.000000</td>\n",
       "      <td>0.0</td>\n",
       "      <td>0.0</td>\n",
       "      <td>0.0</td>\n",
       "      <td>0.0</td>\n",
       "      <td>4</td>\n",
       "    </tr>\n",
       "    <tr>\n",
       "      <th>3623</th>\n",
       "      <td>196.160690</td>\n",
       "      <td>148.501328</td>\n",
       "      <td>198.190109</td>\n",
       "      <td>144.860382</td>\n",
       "      <td>0.000000</td>\n",
       "      <td>0.000000</td>\n",
       "      <td>205.176880</td>\n",
       "      <td>146.565384</td>\n",
       "      <td>0.000000</td>\n",
       "      <td>0.000000</td>\n",
       "      <td>...</td>\n",
       "      <td>219.178940</td>\n",
       "      <td>185.014450</td>\n",
       "      <td>250.699799</td>\n",
       "      <td>0.000000</td>\n",
       "      <td>0.000000</td>\n",
       "      <td>0.0</td>\n",
       "      <td>0.0</td>\n",
       "      <td>0.0</td>\n",
       "      <td>0.0</td>\n",
       "      <td>4</td>\n",
       "    </tr>\n",
       "  </tbody>\n",
       "</table>\n",
       "<p>3624 rows × 35 columns</p>\n",
       "</div>"
      ],
      "text/plain": [
       "           kp0_x       kp0_y       kp1_x       kp1_y       kp2_x       kp2_y  \\\n",
       "0       0.000000    0.000000    0.000000    0.000000    0.000000    0.000000   \n",
       "1       0.000000    0.000000    0.000000    0.000000    0.000000    0.000000   \n",
       "2       0.000000    0.000000    0.000000    0.000000    0.000000    0.000000   \n",
       "3       0.000000    0.000000    0.000000    0.000000    0.000000    0.000000   \n",
       "4       0.000000    0.000000    0.000000    0.000000    0.000000    0.000000   \n",
       "...          ...         ...         ...         ...         ...         ...   \n",
       "3619  201.846695  149.767776  205.054123  147.687546  200.026764  147.590378   \n",
       "3620  207.829071  148.943146  210.760345  146.891525  205.216812  146.662842   \n",
       "3621  198.767273  151.729233  202.542679  148.697769  198.372147  148.876968   \n",
       "3622  195.412125  147.921295  199.790573  144.432999  195.537384  145.576797   \n",
       "3623  196.160690  148.501328  198.190109  144.860382    0.000000    0.000000   \n",
       "\n",
       "           kp3_x       kp3_y       kp4_x       kp4_y  ...      kp12_y  \\\n",
       "0       0.000000    0.000000  186.562317   97.413239  ...  189.882309   \n",
       "1       0.000000    0.000000  205.938446  107.939316  ...  202.759811   \n",
       "2       0.000000    0.000000  203.495056  108.826836  ...  202.612686   \n",
       "3       0.000000    0.000000  193.227295  108.078430  ...  198.819366   \n",
       "4       0.000000    0.000000  187.580933  106.747070  ...  199.130951   \n",
       "...          ...         ...         ...         ...  ...         ...   \n",
       "3619  211.117142  148.287674  198.476395  147.630188  ...  200.290024   \n",
       "3620  215.577881  148.229828  201.599960  147.383255  ...  204.139755   \n",
       "3621  212.771347  149.071030    0.000000    0.000000  ...  211.829971   \n",
       "3622  210.806320  147.053711    0.000000    0.000000  ...  220.371140   \n",
       "3623  205.176880  146.565384    0.000000    0.000000  ...  219.178940   \n",
       "\n",
       "          kp13_x      kp13_y      kp14_x      kp14_y  kp15_x  kp15_y  kp16_x  \\\n",
       "0       0.000000    0.000000    0.000000    0.000000     0.0     0.0     0.0   \n",
       "1       0.000000    0.000000    0.000000    0.000000     0.0     0.0     0.0   \n",
       "2       0.000000    0.000000    0.000000    0.000000     0.0     0.0     0.0   \n",
       "3       0.000000    0.000000    0.000000    0.000000     0.0     0.0     0.0   \n",
       "4       0.000000    0.000000    0.000000    0.000000     0.0     0.0     0.0   \n",
       "...          ...         ...         ...         ...     ...     ...     ...   \n",
       "3619  181.882629  235.131973  176.619385  230.295471     0.0     0.0     0.0   \n",
       "3620  190.339355  239.447052  186.464508  237.257660     0.0     0.0     0.0   \n",
       "3621  189.423233  250.263626  174.982971  243.225876     0.0     0.0     0.0   \n",
       "3622  184.283051  256.564087    0.000000    0.000000     0.0     0.0     0.0   \n",
       "3623  185.014450  250.699799    0.000000    0.000000     0.0     0.0     0.0   \n",
       "\n",
       "      kp16_y  action_class  \n",
       "0        0.0             0  \n",
       "1        0.0             0  \n",
       "2        0.0             0  \n",
       "3        0.0             0  \n",
       "4        0.0             0  \n",
       "...      ...           ...  \n",
       "3619     0.0             4  \n",
       "3620     0.0             4  \n",
       "3621     0.0             4  \n",
       "3622     0.0             4  \n",
       "3623     0.0             4  \n",
       "\n",
       "[3624 rows x 35 columns]"
      ]
     },
     "execution_count": 75,
     "metadata": {},
     "output_type": "execute_result"
    }
   ],
   "source": [
    "# 데이터프레임 확인\n",
    "df"
   ]
  },
  {
   "cell_type": "code",
   "execution_count": 82,
   "metadata": {
    "executionInfo": {
     "elapsed": 428,
     "status": "ok",
     "timestamp": 1736817010142,
     "user": {
      "displayName": "신호용",
      "userId": "04424386186383145760"
     },
     "user_tz": -540
    },
    "id": "vbBXiHUyyavB"
   },
   "outputs": [],
   "source": [
    "# X, y 분리\n",
    "X = df.iloc[:, :-1].values # 키포인트\n",
    "y = df.iloc[:, -1].values # 클래스"
   ]
  },
  {
   "cell_type": "code",
   "execution_count": 83,
   "metadata": {},
   "outputs": [],
   "source": [
    "# 레이블 원-핫 인코딩\n",
    "y = to_categorical(y)"
   ]
  },
  {
   "cell_type": "code",
   "execution_count": 84,
   "metadata": {
    "executionInfo": {
     "elapsed": 419,
     "status": "ok",
     "timestamp": 1736817034025,
     "user": {
      "displayName": "신호용",
      "userId": "04424386186383145760"
     },
     "user_tz": -540
    },
    "id": "lX9vCsAb1ZHn"
   },
   "outputs": [],
   "source": [
    "# 데이터 시퀀스 길이 지정\n",
    "seq_length = 3  # 시퀀스 길이\n",
    "\n",
    "# 데이터를 시퀀스 형태로 변환\n",
    "X_seq, y_seq = reshape_to_sequences(X, y, seq_length)"
   ]
  },
  {
   "cell_type": "code",
   "execution_count": 85,
   "metadata": {
    "executionInfo": {
     "elapsed": 575,
     "status": "ok",
     "timestamp": 1736817040984,
     "user": {
      "displayName": "신호용",
      "userId": "04424386186383145760"
     },
     "user_tz": -540
    },
    "id": "0aLSjL8nyavB"
   },
   "outputs": [],
   "source": [
    "# 데이터 분할\n",
    "X_train, X_val, y_train, y_val = train_test_split(X_seq, y_seq, test_size=0.2, random_state=42)"
   ]
  },
  {
   "cell_type": "code",
   "execution_count": 86,
   "metadata": {
    "colab": {
     "base_uri": "https://localhost:8080/"
    },
    "executionInfo": {
     "elapsed": 410,
     "status": "ok",
     "timestamp": 1736817068598,
     "user": {
      "displayName": "신호용",
      "userId": "04424386186383145760"
     },
     "user_tz": -540
    },
    "id": "ddZ5tAf5yavC",
    "outputId": "54f66270-21d4-45c9-ee91-9470d50a51db"
   },
   "outputs": [
    {
     "name": "stderr",
     "output_type": "stream",
     "text": [
      "c:\\Users\\User\\anaconda3\\envs\\action_recognition\\Lib\\site-packages\\keras\\src\\layers\\rnn\\rnn.py:200: UserWarning: Do not pass an `input_shape`/`input_dim` argument to a layer. When using Sequential models, prefer using an `Input(shape)` object as the first layer in the model instead.\n",
      "  super().__init__(**kwargs)\n"
     ]
    }
   ],
   "source": [
    "# LSTM 모델 정의\n",
    "model = Sequential([\n",
    "    LSTM(128, input_shape=(seq_length, X_train.shape[2]), return_sequences=True),\n",
    "    LSTM(64),\n",
    "    Dense(32, activation=\"relu\"),\n",
    "    Dense(y_train.shape[1], activation=\"softmax\")\n",
    "    ])"
   ]
  },
  {
   "cell_type": "code",
   "execution_count": 87,
   "metadata": {
    "colab": {
     "base_uri": "https://localhost:8080/"
    },
    "executionInfo": {
     "elapsed": 14658,
     "status": "ok",
     "timestamp": 1736817088559,
     "user": {
      "displayName": "신호용",
      "userId": "04424386186383145760"
     },
     "user_tz": -540
    },
    "id": "DYMwh9xXyavC",
    "outputId": "e7df7203-1de3-450a-c62a-ce8337c8c321"
   },
   "outputs": [
    {
     "name": "stdout",
     "output_type": "stream",
     "text": [
      "Epoch 1/300\n",
      "\u001b[1m11/11\u001b[0m \u001b[32m━━━━━━━━━━━━━━━━━━━━\u001b[0m\u001b[37m\u001b[0m \u001b[1m7s\u001b[0m 104ms/step - accuracy: 0.2871 - loss: 1.5582 - val_accuracy: 0.5301 - val_loss: 1.3762\n",
      "Epoch 2/300\n",
      "\u001b[1m11/11\u001b[0m \u001b[32m━━━━━━━━━━━━━━━━━━━━\u001b[0m\u001b[37m\u001b[0m \u001b[1m0s\u001b[0m 32ms/step - accuracy: 0.5777 - loss: 1.3063 - val_accuracy: 0.6024 - val_loss: 1.1471\n",
      "Epoch 3/300\n",
      "\u001b[1m11/11\u001b[0m \u001b[32m━━━━━━━━━━━━━━━━━━━━\u001b[0m\u001b[37m\u001b[0m \u001b[1m0s\u001b[0m 29ms/step - accuracy: 0.7224 - loss: 1.0583 - val_accuracy: 0.6145 - val_loss: 0.9953\n",
      "Epoch 4/300\n",
      "\u001b[1m11/11\u001b[0m \u001b[32m━━━━━━━━━━━━━━━━━━━━\u001b[0m\u001b[37m\u001b[0m \u001b[1m0s\u001b[0m 25ms/step - accuracy: 0.7298 - loss: 0.8514 - val_accuracy: 0.6988 - val_loss: 0.7903\n",
      "Epoch 5/300\n",
      "\u001b[1m11/11\u001b[0m \u001b[32m━━━━━━━━━━━━━━━━━━━━\u001b[0m\u001b[37m\u001b[0m \u001b[1m0s\u001b[0m 27ms/step - accuracy: 0.7842 - loss: 0.6544 - val_accuracy: 0.7229 - val_loss: 0.6700\n",
      "Epoch 6/300\n",
      "\u001b[1m11/11\u001b[0m \u001b[32m━━━━━━━━━━━━━━━━━━━━\u001b[0m\u001b[37m\u001b[0m \u001b[1m0s\u001b[0m 25ms/step - accuracy: 0.8130 - loss: 0.5638 - val_accuracy: 0.7349 - val_loss: 0.6315\n",
      "Epoch 7/300\n",
      "\u001b[1m11/11\u001b[0m \u001b[32m━━━━━━━━━━━━━━━━━━━━\u001b[0m\u001b[37m\u001b[0m \u001b[1m0s\u001b[0m 24ms/step - accuracy: 0.8002 - loss: 0.5474 - val_accuracy: 0.7229 - val_loss: 0.5895\n",
      "Epoch 8/300\n",
      "\u001b[1m11/11\u001b[0m \u001b[32m━━━━━━━━━━━━━━━━━━━━\u001b[0m\u001b[37m\u001b[0m \u001b[1m0s\u001b[0m 26ms/step - accuracy: 0.8512 - loss: 0.4340 - val_accuracy: 0.7952 - val_loss: 0.5534\n",
      "Epoch 9/300\n",
      "\u001b[1m11/11\u001b[0m \u001b[32m━━━━━━━━━━━━━━━━━━━━\u001b[0m\u001b[37m\u001b[0m \u001b[1m0s\u001b[0m 24ms/step - accuracy: 0.8629 - loss: 0.4143 - val_accuracy: 0.8313 - val_loss: 0.4723\n",
      "Epoch 10/300\n",
      "\u001b[1m11/11\u001b[0m \u001b[32m━━━━━━━━━━━━━━━━━━━━\u001b[0m\u001b[37m\u001b[0m \u001b[1m0s\u001b[0m 24ms/step - accuracy: 0.8752 - loss: 0.3624 - val_accuracy: 0.8434 - val_loss: 0.4155\n",
      "Epoch 11/300\n",
      "\u001b[1m11/11\u001b[0m \u001b[32m━━━━━━━━━━━━━━━━━━━━\u001b[0m\u001b[37m\u001b[0m \u001b[1m0s\u001b[0m 29ms/step - accuracy: 0.8831 - loss: 0.3478 - val_accuracy: 0.8554 - val_loss: 0.3778\n",
      "Epoch 12/300\n",
      "\u001b[1m11/11\u001b[0m \u001b[32m━━━━━━━━━━━━━━━━━━━━\u001b[0m\u001b[37m\u001b[0m \u001b[1m0s\u001b[0m 29ms/step - accuracy: 0.9108 - loss: 0.2964 - val_accuracy: 0.8554 - val_loss: 0.3778\n",
      "Epoch 13/300\n",
      "\u001b[1m11/11\u001b[0m \u001b[32m━━━━━━━━━━━━━━━━━━━━\u001b[0m\u001b[37m\u001b[0m \u001b[1m0s\u001b[0m 25ms/step - accuracy: 0.8971 - loss: 0.3010 - val_accuracy: 0.8675 - val_loss: 0.3903\n",
      "Epoch 14/300\n",
      "\u001b[1m11/11\u001b[0m \u001b[32m━━━━━━━━━━━━━━━━━━━━\u001b[0m\u001b[37m\u001b[0m \u001b[1m0s\u001b[0m 38ms/step - accuracy: 0.9042 - loss: 0.2958 - val_accuracy: 0.8313 - val_loss: 0.4607\n",
      "Epoch 15/300\n",
      "\u001b[1m11/11\u001b[0m \u001b[32m━━━━━━━━━━━━━━━━━━━━\u001b[0m\u001b[37m\u001b[0m \u001b[1m1s\u001b[0m 59ms/step - accuracy: 0.9074 - loss: 0.2866 - val_accuracy: 0.8434 - val_loss: 0.4304\n",
      "Epoch 16/300\n",
      "\u001b[1m11/11\u001b[0m \u001b[32m━━━━━━━━━━━━━━━━━━━━\u001b[0m\u001b[37m\u001b[0m \u001b[1m0s\u001b[0m 32ms/step - accuracy: 0.9147 - loss: 0.2502 - val_accuracy: 0.7711 - val_loss: 0.4834\n",
      "Epoch 17/300\n",
      "\u001b[1m11/11\u001b[0m \u001b[32m━━━━━━━━━━━━━━━━━━━━\u001b[0m\u001b[37m\u001b[0m \u001b[1m1s\u001b[0m 42ms/step - accuracy: 0.9136 - loss: 0.2550 - val_accuracy: 0.8554 - val_loss: 0.3801\n",
      "Epoch 18/300\n",
      "\u001b[1m11/11\u001b[0m \u001b[32m━━━━━━━━━━━━━━━━━━━━\u001b[0m\u001b[37m\u001b[0m \u001b[1m0s\u001b[0m 31ms/step - accuracy: 0.9146 - loss: 0.2484 - val_accuracy: 0.8916 - val_loss: 0.2862\n",
      "Epoch 19/300\n",
      "\u001b[1m11/11\u001b[0m \u001b[32m━━━━━━━━━━━━━━━━━━━━\u001b[0m\u001b[37m\u001b[0m \u001b[1m0s\u001b[0m 36ms/step - accuracy: 0.9110 - loss: 0.2402 - val_accuracy: 0.8434 - val_loss: 0.3421\n",
      "Epoch 20/300\n",
      "\u001b[1m11/11\u001b[0m \u001b[32m━━━━━━━━━━━━━━━━━━━━\u001b[0m\u001b[37m\u001b[0m \u001b[1m0s\u001b[0m 29ms/step - accuracy: 0.9255 - loss: 0.1949 - val_accuracy: 0.8434 - val_loss: 0.3495\n",
      "Epoch 21/300\n",
      "\u001b[1m11/11\u001b[0m \u001b[32m━━━━━━━━━━━━━━━━━━━━\u001b[0m\u001b[37m\u001b[0m \u001b[1m0s\u001b[0m 24ms/step - accuracy: 0.8700 - loss: 0.2851 - val_accuracy: 0.8554 - val_loss: 0.3852\n",
      "Epoch 22/300\n",
      "\u001b[1m11/11\u001b[0m \u001b[32m━━━━━━━━━━━━━━━━━━━━\u001b[0m\u001b[37m\u001b[0m \u001b[1m0s\u001b[0m 23ms/step - accuracy: 0.9083 - loss: 0.2381 - val_accuracy: 0.8554 - val_loss: 0.3174\n",
      "Epoch 23/300\n",
      "\u001b[1m11/11\u001b[0m \u001b[32m━━━━━━━━━━━━━━━━━━━━\u001b[0m\u001b[37m\u001b[0m \u001b[1m0s\u001b[0m 26ms/step - accuracy: 0.9136 - loss: 0.2113 - val_accuracy: 0.8313 - val_loss: 0.3296\n",
      "Epoch 24/300\n",
      "\u001b[1m11/11\u001b[0m \u001b[32m━━━━━━━━━━━━━━━━━━━━\u001b[0m\u001b[37m\u001b[0m \u001b[1m0s\u001b[0m 24ms/step - accuracy: 0.9198 - loss: 0.2276 - val_accuracy: 0.8916 - val_loss: 0.2711\n",
      "Epoch 25/300\n",
      "\u001b[1m11/11\u001b[0m \u001b[32m━━━━━━━━━━━━━━━━━━━━\u001b[0m\u001b[37m\u001b[0m \u001b[1m0s\u001b[0m 30ms/step - accuracy: 0.9527 - loss: 0.1577 - val_accuracy: 0.8916 - val_loss: 0.2461\n",
      "Epoch 26/300\n",
      "\u001b[1m11/11\u001b[0m \u001b[32m━━━━━━━━━━━━━━━━━━━━\u001b[0m\u001b[37m\u001b[0m \u001b[1m0s\u001b[0m 30ms/step - accuracy: 0.8985 - loss: 0.2361 - val_accuracy: 0.8434 - val_loss: 0.3216\n",
      "Epoch 27/300\n",
      "\u001b[1m11/11\u001b[0m \u001b[32m━━━━━━━━━━━━━━━━━━━━\u001b[0m\u001b[37m\u001b[0m \u001b[1m0s\u001b[0m 29ms/step - accuracy: 0.9504 - loss: 0.1705 - val_accuracy: 0.8434 - val_loss: 0.4615\n",
      "Epoch 28/300\n",
      "\u001b[1m11/11\u001b[0m \u001b[32m━━━━━━━━━━━━━━━━━━━━\u001b[0m\u001b[37m\u001b[0m \u001b[1m0s\u001b[0m 24ms/step - accuracy: 0.9172 - loss: 0.2205 - val_accuracy: 0.8554 - val_loss: 0.3505\n",
      "Epoch 29/300\n",
      "\u001b[1m11/11\u001b[0m \u001b[32m━━━━━━━━━━━━━━━━━━━━\u001b[0m\u001b[37m\u001b[0m \u001b[1m0s\u001b[0m 25ms/step - accuracy: 0.9139 - loss: 0.2499 - val_accuracy: 0.8434 - val_loss: 0.3437\n",
      "Epoch 30/300\n",
      "\u001b[1m11/11\u001b[0m \u001b[32m━━━━━━━━━━━━━━━━━━━━\u001b[0m\u001b[37m\u001b[0m \u001b[1m0s\u001b[0m 24ms/step - accuracy: 0.9199 - loss: 0.2028 - val_accuracy: 0.8916 - val_loss: 0.2607\n",
      "Epoch 31/300\n",
      "\u001b[1m11/11\u001b[0m \u001b[32m━━━━━━━━━━━━━━━━━━━━\u001b[0m\u001b[37m\u001b[0m \u001b[1m0s\u001b[0m 26ms/step - accuracy: 0.9095 - loss: 0.2224 - val_accuracy: 0.8675 - val_loss: 0.3173\n",
      "Epoch 32/300\n",
      "\u001b[1m11/11\u001b[0m \u001b[32m━━━━━━━━━━━━━━━━━━━━\u001b[0m\u001b[37m\u001b[0m \u001b[1m0s\u001b[0m 36ms/step - accuracy: 0.9152 - loss: 0.2055 - val_accuracy: 0.8072 - val_loss: 0.4441\n",
      "Epoch 33/300\n",
      "\u001b[1m11/11\u001b[0m \u001b[32m━━━━━━━━━━━━━━━━━━━━\u001b[0m\u001b[37m\u001b[0m \u001b[1m0s\u001b[0m 31ms/step - accuracy: 0.8919 - loss: 0.2335 - val_accuracy: 0.8313 - val_loss: 0.4157\n",
      "Epoch 34/300\n",
      "\u001b[1m11/11\u001b[0m \u001b[32m━━━━━━━━━━━━━━━━━━━━\u001b[0m\u001b[37m\u001b[0m \u001b[1m0s\u001b[0m 25ms/step - accuracy: 0.9010 - loss: 0.2599 - val_accuracy: 0.8554 - val_loss: 0.3823\n",
      "Epoch 35/300\n",
      "\u001b[1m11/11\u001b[0m \u001b[32m━━━━━━━━━━━━━━━━━━━━\u001b[0m\u001b[37m\u001b[0m \u001b[1m0s\u001b[0m 27ms/step - accuracy: 0.9348 - loss: 0.1940 - val_accuracy: 0.9277 - val_loss: 0.2474\n",
      "Epoch 36/300\n",
      "\u001b[1m11/11\u001b[0m \u001b[32m━━━━━━━━━━━━━━━━━━━━\u001b[0m\u001b[37m\u001b[0m \u001b[1m0s\u001b[0m 25ms/step - accuracy: 0.9332 - loss: 0.1616 - val_accuracy: 0.8675 - val_loss: 0.2935\n",
      "Epoch 37/300\n",
      "\u001b[1m11/11\u001b[0m \u001b[32m━━━━━━━━━━━━━━━━━━━━\u001b[0m\u001b[37m\u001b[0m \u001b[1m0s\u001b[0m 23ms/step - accuracy: 0.9226 - loss: 0.2117 - val_accuracy: 0.8193 - val_loss: 0.4446\n",
      "Epoch 38/300\n",
      "\u001b[1m11/11\u001b[0m \u001b[32m━━━━━━━━━━━━━━━━━━━━\u001b[0m\u001b[37m\u001b[0m \u001b[1m0s\u001b[0m 24ms/step - accuracy: 0.9333 - loss: 0.1889 - val_accuracy: 0.8795 - val_loss: 0.3790\n",
      "Epoch 39/300\n",
      "\u001b[1m11/11\u001b[0m \u001b[32m━━━━━━━━━━━━━━━━━━━━\u001b[0m\u001b[37m\u001b[0m \u001b[1m0s\u001b[0m 24ms/step - accuracy: 0.9525 - loss: 0.1641 - val_accuracy: 0.8554 - val_loss: 0.3855\n",
      "Epoch 40/300\n",
      "\u001b[1m11/11\u001b[0m \u001b[32m━━━━━━━━━━━━━━━━━━━━\u001b[0m\u001b[37m\u001b[0m \u001b[1m0s\u001b[0m 24ms/step - accuracy: 0.9307 - loss: 0.1834 - val_accuracy: 0.8072 - val_loss: 0.4765\n",
      "Epoch 41/300\n",
      "\u001b[1m11/11\u001b[0m \u001b[32m━━━━━━━━━━━━━━━━━━━━\u001b[0m\u001b[37m\u001b[0m \u001b[1m0s\u001b[0m 26ms/step - accuracy: 0.8994 - loss: 0.2188 - val_accuracy: 0.8916 - val_loss: 0.3175\n",
      "Epoch 42/300\n",
      "\u001b[1m11/11\u001b[0m \u001b[32m━━━━━━━━━━━━━━━━━━━━\u001b[0m\u001b[37m\u001b[0m \u001b[1m0s\u001b[0m 27ms/step - accuracy: 0.9472 - loss: 0.1703 - val_accuracy: 0.7952 - val_loss: 0.4517\n",
      "Epoch 43/300\n",
      "\u001b[1m11/11\u001b[0m \u001b[32m━━━━━━━━━━━━━━━━━━━━\u001b[0m\u001b[37m\u001b[0m \u001b[1m0s\u001b[0m 28ms/step - accuracy: 0.9532 - loss: 0.1414 - val_accuracy: 0.8193 - val_loss: 0.4156\n",
      "Epoch 44/300\n",
      "\u001b[1m11/11\u001b[0m \u001b[32m━━━━━━━━━━━━━━━━━━━━\u001b[0m\u001b[37m\u001b[0m \u001b[1m0s\u001b[0m 27ms/step - accuracy: 0.9542 - loss: 0.1682 - val_accuracy: 0.8313 - val_loss: 0.3511\n",
      "Epoch 45/300\n",
      "\u001b[1m11/11\u001b[0m \u001b[32m━━━━━━━━━━━━━━━━━━━━\u001b[0m\u001b[37m\u001b[0m \u001b[1m0s\u001b[0m 26ms/step - accuracy: 0.9532 - loss: 0.1561 - val_accuracy: 0.8554 - val_loss: 0.3495\n"
     ]
    }
   ],
   "source": [
    " # 모델 컴파일 및 학습\n",
    "model.compile(optimizer=Adam(learning_rate=0.001), loss=\"categorical_crossentropy\", metrics=[\"accuracy\"])\n",
    "es = EarlyStopping(monitor = 'val_loss', min_delta = 0, patience = 20, mode = 'auto', restore_best_weights=True)\n",
    "# history = model.fit(X_train, y_train, validation_data=(X_val, y_val), epochs=300, batch_size=32).history\n",
    "history = model.fit(X_train, y_train, validation_data=(X_val, y_val), epochs=300, batch_size=32, callbacks=es).history"
   ]
  },
  {
   "cell_type": "code",
   "execution_count": 88,
   "metadata": {},
   "outputs": [
    {
     "data": {
      "image/png": "[encoded data removed]",
      "text/plain": [
       "<Figure size 640x480 with 1 Axes>"
      ]
     },
     "metadata": {},
     "output_type": "display_data"
    }
   ],
   "source": [
    "plt.plot(history['loss'], label = 'train_err', marker = '.')\n",
    "plt.plot(history['val_loss'], label = 'val_err', marker = '.')\n",
    "plt.grid()\n",
    "plt.legend()\n",
    "plt.show()"
   ]
  },
  {
   "cell_type": "code",
   "execution_count": 89,
   "metadata": {
    "colab": {
     "base_uri": "https://localhost:8080/"
    },
    "executionInfo": {
     "elapsed": 547,
     "status": "ok",
     "timestamp": 1736498705187,
     "user": {
      "displayName": "신호용",
      "userId": "04424386186383145760"
     },
     "user_tz": -540
    },
    "id": "OCB8taP2yavC",
    "outputId": "c18c1b7b-de05-4ffb-a0c5-14ab56503bfa"
   },
   "outputs": [
    {
     "name": "stderr",
     "output_type": "stream",
     "text": [
      "WARNING:absl:You are saving your model as an HDF5 file via `model.save()` or `keras.saving.save_model(model)`. This file format is considered legacy. We recommend using instead the native Keras format, e.g. `model.save('my_model.keras')` or `keras.saving.save_model(model, 'my_model.keras')`. \n"
     ]
    }
   ],
   "source": [
    "# 모델 저장\n",
    "output_model = './Model/LSTM.h5'\n",
    "model.save(output_model)"
   ]
  },
  {
   "cell_type": "code",
   "execution_count": 90,
   "metadata": {
    "colab": {
     "base_uri": "https://localhost:8080/"
    },
    "executionInfo": {
     "elapsed": 407,
     "status": "ok",
     "timestamp": 1736817098363,
     "user": {
      "displayName": "신호용",
      "userId": "04424386186383145760"
     },
     "user_tz": -540
    },
    "id": "zWxhnnUcOYPs",
    "outputId": "de5babdf-b6f8-47a8-ec48-07c37aecb7a4"
   },
   "outputs": [
    {
     "name": "stdout",
     "output_type": "stream",
     "text": [
      "검증 데이터 정확도: 89.16%\n"
     ]
    }
   ],
   "source": [
    "# 학습된 모델 평가\n",
    "loss, accuracy = model.evaluate(X_val, y_val, verbose=0)\n",
    "print(f\"검증 데이터 정확도: {accuracy * 100:.2f}%\")"
   ]
  }
 ],
 "metadata": {
  "colab": {
   "provenance": []
  },
  "kernelspec": {
   "display_name": "action_recognition",
   "language": "python",
   "name": "python3"
  },
  "language_info": {
   "codemirror_mode": {
    "name": "ipython",
    "version": 3
   },
   "file_extension": ".py",
   "mimetype": "text/x-python",
   "name": "python",
   "nbconvert_exporter": "python",
   "pygments_lexer": "ipython3",
   "version": "3.12.8"
  }
 },
 "nbformat": 4,
 "nbformat_minor": 0
}
