{
 "cells": [
  {
   "cell_type": "code",
   "execution_count": 1,
   "metadata": {
    "executionInfo": {
     "elapsed": 6344,
     "status": "ok",
     "timestamp": 1736816975834,
     "user": {
      "displayName": "신호용",
      "userId": "04424386186383145760"
     },
     "user_tz": -540
    },
    "id": "RcPpb0t6yau8"
   },
   "outputs": [],
   "source": [
    "import os\n",
    "import re\n",
    "import pandas as pd\n",
    "import numpy as np\n",
    "import matplotlib.pyplot as plt\n",
    "from keras.models import Sequential\n",
    "from keras.layers import LSTM, Dense\n",
    "from keras.utils import to_categorical\n",
    "from keras.optimizers import Adam\n",
    "from keras.callbacks import EarlyStopping\n",
    "from sklearn.model_selection import train_test_split"
   ]
  },
  {
   "cell_type": "code",
   "execution_count": 2,
   "metadata": {
    "executionInfo": {
     "elapsed": 948,
     "status": "ok",
     "timestamp": 1736816979723,
     "user": {
      "displayName": "신호용",
      "userId": "04424386186383145760"
     },
     "user_tz": -540
    },
    "id": "F56DvJR2yavA"
   },
   "outputs": [],
   "source": [
    "# LSTM_Live 폴더의 모든 CSV 파일 병합\n",
    "def LSTM_Live_Merge(folder_path):\n",
    "    \n",
    "    csv_files = []\n",
    "\n",
    "    # 하위 폴더까지 탐색\n",
    "    for root, _, files in os.walk(folder_path):\n",
    "        for file in files:\n",
    "            if file.endswith('.csv'):\n",
    "                csv_path = os.path.join(root, file)\n",
    "                \n",
    "                # CSV 불러오기\n",
    "                df = pd.read_csv(csv_path)\n",
    "                csv_files.append(df)\n",
    "\n",
    "    # 모든 CSV 파일 병합\n",
    "    if csv_files:\n",
    "        combined_df = pd.concat(csv_files, ignore_index=True)\n",
    "        print(f\"총 {len(csv_files)}개의 CSV 파일을 병합했습니다. 데이터 크기: {combined_df.shape}\")\n",
    "        return combined_df\n",
    "    else:\n",
    "        print(\"병합할 CSV 파일이 없습니다.\")\n",
    "        return pd.DataFrame()\n"
   ]
  },
  {
   "cell_type": "code",
   "execution_count": 3,
   "metadata": {},
   "outputs": [],
   "source": [
    "def natural_sort_key(s):\n",
    "    return [int(text) if text.isdigit() else text.lower() for text in re.split(r'(\\d+)', s)]\n",
    "\n",
    "# 폴더 내 CSV 파일 병합\n",
    "def LSTM_Capture_Merge(folder_path, sequence):\n",
    "    \n",
    "    csv_files = []\n",
    "\n",
    "    for root, _, files in sorted(os.walk(folder_path), key=lambda x: natural_sort_key(x[0])):\n",
    "        sorted_files = sorted([file for file in files if file.endswith('.csv')], key=natural_sort_key)\n",
    "        file_count = len(sorted_files)\n",
    "        \n",
    "        if file_count == 0:\n",
    "            continue  # CSV 파일이 없는 폴더는 건너뜀\n",
    "        \n",
    "        if file_count % sequence != 0:\n",
    "            print(f\"[제외] {root}: CSV 파일 수 {file_count}개는 {sequence}의 배수가 아닙니다.\")\n",
    "            continue  # sequence의 배수가 아니면 병합 제외\n",
    "\n",
    "        for file in sorted_files:\n",
    "            csv_path = os.path.join(root, file)\n",
    "            csv_files.append(csv_path)\n",
    "\n",
    "    if not csv_files:\n",
    "        print(\"병합할 CSV 파일이 없습니다.\")\n",
    "        return pd.DataFrame()\n",
    "    \n",
    "    # CSV 파일 병합 (float_precision 추가)\n",
    "    dataframes = [pd.read_csv(file, float_precision='round_trip') for file in csv_files]\n",
    "    combined_df = pd.concat(dataframes, ignore_index=True)\n",
    "    print(f\"총 {len(csv_files)}개의 CSV 파일을 병합했습니다. 데이터 크기: {combined_df.shape}\")\n",
    "    return combined_df"
   ]
  },
  {
   "cell_type": "code",
   "execution_count": 4,
   "metadata": {
    "executionInfo": {
     "elapsed": 2,
     "status": "ok",
     "timestamp": 1736816981402,
     "user": {
      "displayName": "신호용",
      "userId": "04424386186383145760"
     },
     "user_tz": -540
    },
    "id": "XCctZO0JEt3_"
   },
   "outputs": [],
   "source": [
    "# 데이터 시퀀스별로 변환\n",
    "def reshape_to_sequences(data, labels, seq_length):\n",
    "    sequences = []\n",
    "    sequence_labels = []\n",
    "    for i in range(len(data) - seq_length + 1):\n",
    "        sequences.append(data[i:i + seq_length])\n",
    "        sequence_labels.append(labels[i + seq_length - 1])  # 시퀀스의 마지막 레이블 사용\n",
    "    return np.array(sequences), np.array(sequence_labels)"
   ]
  },
  {
   "cell_type": "code",
   "execution_count": 5,
   "metadata": {},
   "outputs": [],
   "source": [
    "# 클래스 균등하게 정리\n",
    "def balance_classes(df, class_column, target_samples):\n",
    "\n",
    "    # 그룹화하여 각 클래스에서 샘플링\n",
    "    balanced_df = df.groupby(class_column).apply(\n",
    "        lambda x: x.sample(n=target_samples, random_state=42) if len(x) >= target_samples else x\n",
    "    )\n",
    "    \n",
    "    # 인덱스 초기화\n",
    "    balanced_df = balanced_df.reset_index(drop=True)\n",
    "    return balanced_df"
   ]
  },
  {
   "cell_type": "code",
   "execution_count": 9,
   "metadata": {
    "colab": {
     "base_uri": "https://localhost:8080/"
    },
    "executionInfo": {
     "elapsed": 7399,
     "status": "ok",
     "timestamp": 1736816993226,
     "user": {
      "displayName": "신호용",
      "userId": "04424386186383145760"
     },
     "user_tz": -540
    },
    "id": "v9lYaWtICsyN",
    "outputId": "5674cacd-ed53-49a6-8117-5ae8b539a54f"
   },
   "outputs": [
    {
     "name": "stdout",
     "output_type": "stream",
     "text": [
      "병합할 CSV 파일이 없습니다.\n",
      "총 618개의 CSV 파일을 병합했습니다. 데이터 크기: (618, 35)\n"
     ]
    }
   ],
   "source": [
    "# 데이터 불러오기 및 병합\n",
    "folder_path = './Data'  # 데이터 폴더 경로\n",
    "df_live = LSTM_Live_Merge(folder_path + '/LSTM_Live') # LSTM_Live 폴더 병합\n",
    "df_capture = LSTM_Capture_Merge(folder_path + '/LSTM_Capture', sequence=3) # LSTM_Capture 폴더 병합\n",
    "df= pd.concat([df_live, df_capture], ignore_index=True) # 전체 폴더 병합"
   ]
  },
  {
   "cell_type": "code",
   "execution_count": 10,
   "metadata": {},
   "outputs": [
    {
     "name": "stdout",
     "output_type": "stream",
     "text": [
      "action_class\n",
      "2    315\n",
      "1    207\n",
      "0     96\n",
      "Name: count, dtype: int64\n"
     ]
    }
   ],
   "source": [
    "# 정리 전 클래스별 갯수 확인\n",
    "print(df['action_class'].value_counts())"
   ]
  },
  {
   "cell_type": "code",
   "execution_count": 8,
   "metadata": {},
   "outputs": [
    {
     "name": "stderr",
     "output_type": "stream",
     "text": [
      "C:\\Users\\Public\\Documents\\ESTsoft\\CreatorTemp\\ipykernel_15796\\2504395227.py:5: DeprecationWarning: DataFrameGroupBy.apply operated on the grouping columns. This behavior is deprecated, and in a future version of pandas the grouping columns will be excluded from the operation. Either pass `include_groups=False` to exclude the groupings or explicitly select the grouping columns after groupby to silence this warning.\n",
      "  balanced_df = df.groupby(class_column).apply(\n"
     ]
    }
   ],
   "source": [
    "# 클래스 균등하게 정리\n",
    "df = balance_classes(df, class_column='action_class', target_samples=126)"
   ]
  },
  {
   "cell_type": "code",
   "execution_count": 9,
   "metadata": {},
   "outputs": [
    {
     "name": "stdout",
     "output_type": "stream",
     "text": [
      "action_class\n",
      "2    159\n",
      "1    156\n",
      "3    120\n",
      "0     96\n",
      "4     87\n",
      "Name: count, dtype: int64\n"
     ]
    },
    {
     "data": {
      "text/html": [
       "<div>\n",
       "<style scoped>\n",
       "    .dataframe tbody tr th:only-of-type {\n",
       "        vertical-align: middle;\n",
       "    }\n",
       "\n",
       "    .dataframe tbody tr th {\n",
       "        vertical-align: top;\n",
       "    }\n",
       "\n",
       "    .dataframe thead th {\n",
       "        text-align: right;\n",
       "    }\n",
       "</style>\n",
       "<table border=\"1\" class=\"dataframe\">\n",
       "  <thead>\n",
       "    <tr style=\"text-align: right;\">\n",
       "      <th></th>\n",
       "      <th>kp0_x</th>\n",
       "      <th>kp0_y</th>\n",
       "      <th>kp1_x</th>\n",
       "      <th>kp1_y</th>\n",
       "      <th>kp2_x</th>\n",
       "      <th>kp2_y</th>\n",
       "      <th>kp3_x</th>\n",
       "      <th>kp3_y</th>\n",
       "      <th>kp4_x</th>\n",
       "      <th>kp4_y</th>\n",
       "      <th>...</th>\n",
       "      <th>kp12_y</th>\n",
       "      <th>kp13_x</th>\n",
       "      <th>kp13_y</th>\n",
       "      <th>kp14_x</th>\n",
       "      <th>kp14_y</th>\n",
       "      <th>kp15_x</th>\n",
       "      <th>kp15_y</th>\n",
       "      <th>kp16_x</th>\n",
       "      <th>kp16_y</th>\n",
       "      <th>action_class</th>\n",
       "    </tr>\n",
       "  </thead>\n",
       "  <tbody>\n",
       "    <tr>\n",
       "      <th>0</th>\n",
       "      <td>0.619108</td>\n",
       "      <td>0.153473</td>\n",
       "      <td>0.671352</td>\n",
       "      <td>0.132504</td>\n",
       "      <td>0.552828</td>\n",
       "      <td>0.129848</td>\n",
       "      <td>-2.204969</td>\n",
       "      <td>-0.222527</td>\n",
       "      <td>0.434993</td>\n",
       "      <td>0.137411</td>\n",
       "      <td>...</td>\n",
       "      <td>0.548048</td>\n",
       "      <td>0.689017</td>\n",
       "      <td>0.733447</td>\n",
       "      <td>0.377482</td>\n",
       "      <td>0.741448</td>\n",
       "      <td>0.638528</td>\n",
       "      <td>0.881347</td>\n",
       "      <td>0.326132</td>\n",
       "      <td>0.884203</td>\n",
       "      <td>0</td>\n",
       "    </tr>\n",
       "    <tr>\n",
       "      <th>1</th>\n",
       "      <td>0.646697</td>\n",
       "      <td>0.163598</td>\n",
       "      <td>0.708872</td>\n",
       "      <td>0.138540</td>\n",
       "      <td>0.562228</td>\n",
       "      <td>0.137520</td>\n",
       "      <td>0.788843</td>\n",
       "      <td>0.137759</td>\n",
       "      <td>0.419266</td>\n",
       "      <td>0.139350</td>\n",
       "      <td>...</td>\n",
       "      <td>0.556965</td>\n",
       "      <td>0.780411</td>\n",
       "      <td>0.747178</td>\n",
       "      <td>0.393982</td>\n",
       "      <td>0.758135</td>\n",
       "      <td>0.800466</td>\n",
       "      <td>0.894322</td>\n",
       "      <td>0.410815</td>\n",
       "      <td>0.893541</td>\n",
       "      <td>0</td>\n",
       "    </tr>\n",
       "    <tr>\n",
       "      <th>2</th>\n",
       "      <td>0.472753</td>\n",
       "      <td>0.160226</td>\n",
       "      <td>0.537387</td>\n",
       "      <td>0.134876</td>\n",
       "      <td>0.403421</td>\n",
       "      <td>0.136496</td>\n",
       "      <td>0.651228</td>\n",
       "      <td>0.134320</td>\n",
       "      <td>0.314455</td>\n",
       "      <td>0.136958</td>\n",
       "      <td>...</td>\n",
       "      <td>0.548825</td>\n",
       "      <td>0.657804</td>\n",
       "      <td>0.745717</td>\n",
       "      <td>0.310967</td>\n",
       "      <td>0.745665</td>\n",
       "      <td>0.593995</td>\n",
       "      <td>0.886244</td>\n",
       "      <td>0.339651</td>\n",
       "      <td>0.896255</td>\n",
       "      <td>0</td>\n",
       "    </tr>\n",
       "    <tr>\n",
       "      <th>3</th>\n",
       "      <td>0.477675</td>\n",
       "      <td>0.155960</td>\n",
       "      <td>0.550299</td>\n",
       "      <td>0.132962</td>\n",
       "      <td>0.417055</td>\n",
       "      <td>0.129028</td>\n",
       "      <td>0.664314</td>\n",
       "      <td>0.135434</td>\n",
       "      <td>0.329754</td>\n",
       "      <td>0.124835</td>\n",
       "      <td>...</td>\n",
       "      <td>0.555528</td>\n",
       "      <td>0.635761</td>\n",
       "      <td>0.766941</td>\n",
       "      <td>0.320649</td>\n",
       "      <td>0.761124</td>\n",
       "      <td>0.587906</td>\n",
       "      <td>0.895615</td>\n",
       "      <td>0.422887</td>\n",
       "      <td>0.898624</td>\n",
       "      <td>0</td>\n",
       "    </tr>\n",
       "    <tr>\n",
       "      <th>4</th>\n",
       "      <td>0.485582</td>\n",
       "      <td>0.152856</td>\n",
       "      <td>0.558880</td>\n",
       "      <td>0.130384</td>\n",
       "      <td>0.421838</td>\n",
       "      <td>0.128274</td>\n",
       "      <td>0.678876</td>\n",
       "      <td>0.137752</td>\n",
       "      <td>0.334627</td>\n",
       "      <td>0.130701</td>\n",
       "      <td>...</td>\n",
       "      <td>0.554923</td>\n",
       "      <td>0.644739</td>\n",
       "      <td>0.768907</td>\n",
       "      <td>0.312909</td>\n",
       "      <td>0.760498</td>\n",
       "      <td>0.601461</td>\n",
       "      <td>0.897247</td>\n",
       "      <td>0.421875</td>\n",
       "      <td>0.899406</td>\n",
       "      <td>0</td>\n",
       "    </tr>\n",
       "    <tr>\n",
       "      <th>...</th>\n",
       "      <td>...</td>\n",
       "      <td>...</td>\n",
       "      <td>...</td>\n",
       "      <td>...</td>\n",
       "      <td>...</td>\n",
       "      <td>...</td>\n",
       "      <td>...</td>\n",
       "      <td>...</td>\n",
       "      <td>...</td>\n",
       "      <td>...</td>\n",
       "      <td>...</td>\n",
       "      <td>...</td>\n",
       "      <td>...</td>\n",
       "      <td>...</td>\n",
       "      <td>...</td>\n",
       "      <td>...</td>\n",
       "      <td>...</td>\n",
       "      <td>...</td>\n",
       "      <td>...</td>\n",
       "      <td>...</td>\n",
       "      <td>...</td>\n",
       "    </tr>\n",
       "    <tr>\n",
       "      <th>613</th>\n",
       "      <td>0.410511</td>\n",
       "      <td>0.165130</td>\n",
       "      <td>0.476197</td>\n",
       "      <td>0.136159</td>\n",
       "      <td>0.328082</td>\n",
       "      <td>0.147461</td>\n",
       "      <td>0.618660</td>\n",
       "      <td>0.125130</td>\n",
       "      <td>0.254819</td>\n",
       "      <td>0.150646</td>\n",
       "      <td>...</td>\n",
       "      <td>0.556912</td>\n",
       "      <td>0.684330</td>\n",
       "      <td>0.695259</td>\n",
       "      <td>0.462591</td>\n",
       "      <td>0.773494</td>\n",
       "      <td>0.591520</td>\n",
       "      <td>0.839137</td>\n",
       "      <td>0.398996</td>\n",
       "      <td>0.933231</td>\n",
       "      <td>4</td>\n",
       "    </tr>\n",
       "    <tr>\n",
       "      <th>614</th>\n",
       "      <td>0.608170</td>\n",
       "      <td>0.135638</td>\n",
       "      <td>0.621334</td>\n",
       "      <td>0.105506</td>\n",
       "      <td>0.502623</td>\n",
       "      <td>0.123495</td>\n",
       "      <td>-2.364286</td>\n",
       "      <td>-0.280000</td>\n",
       "      <td>0.319862</td>\n",
       "      <td>0.151703</td>\n",
       "      <td>...</td>\n",
       "      <td>0.569550</td>\n",
       "      <td>0.701607</td>\n",
       "      <td>0.696209</td>\n",
       "      <td>0.466144</td>\n",
       "      <td>0.773940</td>\n",
       "      <td>0.585670</td>\n",
       "      <td>0.852503</td>\n",
       "      <td>0.408687</td>\n",
       "      <td>0.930770</td>\n",
       "      <td>4</td>\n",
       "    </tr>\n",
       "    <tr>\n",
       "      <th>615</th>\n",
       "      <td>-2.416058</td>\n",
       "      <td>-0.283422</td>\n",
       "      <td>-2.416058</td>\n",
       "      <td>-0.283422</td>\n",
       "      <td>-2.416058</td>\n",
       "      <td>-0.283422</td>\n",
       "      <td>-2.416058</td>\n",
       "      <td>-0.283422</td>\n",
       "      <td>0.392393</td>\n",
       "      <td>0.166438</td>\n",
       "      <td>...</td>\n",
       "      <td>0.578206</td>\n",
       "      <td>0.723210</td>\n",
       "      <td>0.698448</td>\n",
       "      <td>0.465966</td>\n",
       "      <td>0.768660</td>\n",
       "      <td>0.601094</td>\n",
       "      <td>0.849042</td>\n",
       "      <td>0.428835</td>\n",
       "      <td>0.924860</td>\n",
       "      <td>4</td>\n",
       "    </tr>\n",
       "    <tr>\n",
       "      <th>616</th>\n",
       "      <td>-2.433824</td>\n",
       "      <td>-0.283422</td>\n",
       "      <td>-2.433824</td>\n",
       "      <td>-0.283422</td>\n",
       "      <td>-2.433824</td>\n",
       "      <td>-0.283422</td>\n",
       "      <td>-2.433824</td>\n",
       "      <td>-0.283422</td>\n",
       "      <td>0.406686</td>\n",
       "      <td>0.171969</td>\n",
       "      <td>...</td>\n",
       "      <td>0.582381</td>\n",
       "      <td>0.733989</td>\n",
       "      <td>0.701413</td>\n",
       "      <td>0.476604</td>\n",
       "      <td>0.774841</td>\n",
       "      <td>0.608868</td>\n",
       "      <td>0.848511</td>\n",
       "      <td>0.438082</td>\n",
       "      <td>0.929777</td>\n",
       "      <td>4</td>\n",
       "    </tr>\n",
       "    <tr>\n",
       "      <th>617</th>\n",
       "      <td>0.575759</td>\n",
       "      <td>0.145904</td>\n",
       "      <td>0.622837</td>\n",
       "      <td>0.115493</td>\n",
       "      <td>0.469023</td>\n",
       "      <td>0.128236</td>\n",
       "      <td>-2.549618</td>\n",
       "      <td>-0.286863</td>\n",
       "      <td>0.322012</td>\n",
       "      <td>0.144631</td>\n",
       "      <td>...</td>\n",
       "      <td>0.578341</td>\n",
       "      <td>0.719276</td>\n",
       "      <td>0.698635</td>\n",
       "      <td>0.494843</td>\n",
       "      <td>0.779864</td>\n",
       "      <td>0.616518</td>\n",
       "      <td>0.843834</td>\n",
       "      <td>0.410966</td>\n",
       "      <td>0.935471</td>\n",
       "      <td>4</td>\n",
       "    </tr>\n",
       "  </tbody>\n",
       "</table>\n",
       "<p>618 rows × 35 columns</p>\n",
       "</div>"
      ],
      "text/plain": [
       "        kp0_x     kp0_y     kp1_x     kp1_y     kp2_x     kp2_y     kp3_x  \\\n",
       "0    0.619108  0.153473  0.671352  0.132504  0.552828  0.129848 -2.204969   \n",
       "1    0.646697  0.163598  0.708872  0.138540  0.562228  0.137520  0.788843   \n",
       "2    0.472753  0.160226  0.537387  0.134876  0.403421  0.136496  0.651228   \n",
       "3    0.477675  0.155960  0.550299  0.132962  0.417055  0.129028  0.664314   \n",
       "4    0.485582  0.152856  0.558880  0.130384  0.421838  0.128274  0.678876   \n",
       "..        ...       ...       ...       ...       ...       ...       ...   \n",
       "613  0.410511  0.165130  0.476197  0.136159  0.328082  0.147461  0.618660   \n",
       "614  0.608170  0.135638  0.621334  0.105506  0.502623  0.123495 -2.364286   \n",
       "615 -2.416058 -0.283422 -2.416058 -0.283422 -2.416058 -0.283422 -2.416058   \n",
       "616 -2.433824 -0.283422 -2.433824 -0.283422 -2.433824 -0.283422 -2.433824   \n",
       "617  0.575759  0.145904  0.622837  0.115493  0.469023  0.128236 -2.549618   \n",
       "\n",
       "        kp3_y     kp4_x     kp4_y  ...    kp12_y    kp13_x    kp13_y  \\\n",
       "0   -0.222527  0.434993  0.137411  ...  0.548048  0.689017  0.733447   \n",
       "1    0.137759  0.419266  0.139350  ...  0.556965  0.780411  0.747178   \n",
       "2    0.134320  0.314455  0.136958  ...  0.548825  0.657804  0.745717   \n",
       "3    0.135434  0.329754  0.124835  ...  0.555528  0.635761  0.766941   \n",
       "4    0.137752  0.334627  0.130701  ...  0.554923  0.644739  0.768907   \n",
       "..        ...       ...       ...  ...       ...       ...       ...   \n",
       "613  0.125130  0.254819  0.150646  ...  0.556912  0.684330  0.695259   \n",
       "614 -0.280000  0.319862  0.151703  ...  0.569550  0.701607  0.696209   \n",
       "615 -0.283422  0.392393  0.166438  ...  0.578206  0.723210  0.698448   \n",
       "616 -0.283422  0.406686  0.171969  ...  0.582381  0.733989  0.701413   \n",
       "617 -0.286863  0.322012  0.144631  ...  0.578341  0.719276  0.698635   \n",
       "\n",
       "       kp14_x    kp14_y    kp15_x    kp15_y    kp16_x    kp16_y  action_class  \n",
       "0    0.377482  0.741448  0.638528  0.881347  0.326132  0.884203             0  \n",
       "1    0.393982  0.758135  0.800466  0.894322  0.410815  0.893541             0  \n",
       "2    0.310967  0.745665  0.593995  0.886244  0.339651  0.896255             0  \n",
       "3    0.320649  0.761124  0.587906  0.895615  0.422887  0.898624             0  \n",
       "4    0.312909  0.760498  0.601461  0.897247  0.421875  0.899406             0  \n",
       "..        ...       ...       ...       ...       ...       ...           ...  \n",
       "613  0.462591  0.773494  0.591520  0.839137  0.398996  0.933231             4  \n",
       "614  0.466144  0.773940  0.585670  0.852503  0.408687  0.930770             4  \n",
       "615  0.465966  0.768660  0.601094  0.849042  0.428835  0.924860             4  \n",
       "616  0.476604  0.774841  0.608868  0.848511  0.438082  0.929777             4  \n",
       "617  0.494843  0.779864  0.616518  0.843834  0.410966  0.935471             4  \n",
       "\n",
       "[618 rows x 35 columns]"
      ]
     },
     "execution_count": 9,
     "metadata": {},
     "output_type": "execute_result"
    }
   ],
   "source": [
    "# 데이터프레임 확인\n",
    "print(df['action_class'].value_counts())\n",
    "df"
   ]
  },
  {
   "cell_type": "code",
   "execution_count": 11,
   "metadata": {
    "executionInfo": {
     "elapsed": 428,
     "status": "ok",
     "timestamp": 1736817010142,
     "user": {
      "displayName": "신호용",
      "userId": "04424386186383145760"
     },
     "user_tz": -540
    },
    "id": "vbBXiHUyyavB"
   },
   "outputs": [],
   "source": [
    "# X, y 분리\n",
    "X = df.iloc[:, :-1].values # 키포인트\n",
    "y = df.iloc[:, -1].values # 클래스"
   ]
  },
  {
   "cell_type": "code",
   "execution_count": 12,
   "metadata": {},
   "outputs": [],
   "source": [
    "# 레이블 원-핫 인코딩\n",
    "y = to_categorical(y)"
   ]
  },
  {
   "cell_type": "code",
   "execution_count": 13,
   "metadata": {
    "executionInfo": {
     "elapsed": 419,
     "status": "ok",
     "timestamp": 1736817034025,
     "user": {
      "displayName": "신호용",
      "userId": "04424386186383145760"
     },
     "user_tz": -540
    },
    "id": "lX9vCsAb1ZHn"
   },
   "outputs": [],
   "source": [
    "# 데이터 시퀀스 길이 지정\n",
    "seq_length = 3  # 시퀀스 길이\n",
    "\n",
    "# 데이터를 시퀀스 형태로 변환\n",
    "X_seq, y_seq = reshape_to_sequences(X, y, seq_length)"
   ]
  },
  {
   "cell_type": "code",
   "execution_count": 14,
   "metadata": {
    "executionInfo": {
     "elapsed": 575,
     "status": "ok",
     "timestamp": 1736817040984,
     "user": {
      "displayName": "신호용",
      "userId": "04424386186383145760"
     },
     "user_tz": -540
    },
    "id": "0aLSjL8nyavB"
   },
   "outputs": [],
   "source": [
    "# 데이터 분할\n",
    "X_train, X_val, y_train, y_val = train_test_split(X_seq, y_seq, test_size=0.2, random_state=42)"
   ]
  },
  {
   "cell_type": "code",
   "execution_count": 15,
   "metadata": {
    "colab": {
     "base_uri": "https://localhost:8080/"
    },
    "executionInfo": {
     "elapsed": 410,
     "status": "ok",
     "timestamp": 1736817068598,
     "user": {
      "displayName": "신호용",
      "userId": "04424386186383145760"
     },
     "user_tz": -540
    },
    "id": "ddZ5tAf5yavC",
    "outputId": "54f66270-21d4-45c9-ee91-9470d50a51db"
   },
   "outputs": [
    {
     "name": "stderr",
     "output_type": "stream",
     "text": [
      "c:\\Users\\User\\anaconda3\\envs\\action_recognition\\Lib\\site-packages\\keras\\src\\layers\\rnn\\rnn.py:200: UserWarning: Do not pass an `input_shape`/`input_dim` argument to a layer. When using Sequential models, prefer using an `Input(shape)` object as the first layer in the model instead.\n",
      "  super().__init__(**kwargs)\n"
     ]
    }
   ],
   "source": [
    "# LSTM 모델 정의\n",
    "model = Sequential([\n",
    "    LSTM(128, input_shape=(seq_length, X_train.shape[2]), return_sequences=True),\n",
    "    LSTM(64),\n",
    "    Dense(32, activation=\"relu\"),\n",
    "    Dense(y_train.shape[1], activation=\"softmax\")\n",
    "    ])"
   ]
  },
  {
   "cell_type": "code",
   "execution_count": 16,
   "metadata": {
    "colab": {
     "base_uri": "https://localhost:8080/"
    },
    "executionInfo": {
     "elapsed": 14658,
     "status": "ok",
     "timestamp": 1736817088559,
     "user": {
      "displayName": "신호용",
      "userId": "04424386186383145760"
     },
     "user_tz": -540
    },
    "id": "DYMwh9xXyavC",
    "outputId": "e7df7203-1de3-450a-c62a-ce8337c8c321"
   },
   "outputs": [
    {
     "name": "stdout",
     "output_type": "stream",
     "text": [
      "Epoch 1/300\n",
      "\u001b[1m16/16\u001b[0m \u001b[32m━━━━━━━━━━━━━━━━━━━━\u001b[0m\u001b[37m\u001b[0m \u001b[1m4s\u001b[0m 41ms/step - accuracy: 0.5188 - loss: 1.0517 - val_accuracy: 0.5403 - val_loss: 0.9868\n",
      "Epoch 2/300\n",
      "\u001b[1m16/16\u001b[0m \u001b[32m━━━━━━━━━━━━━━━━━━━━\u001b[0m\u001b[37m\u001b[0m \u001b[1m1s\u001b[0m 10ms/step - accuracy: 0.6461 - loss: 0.8910 - val_accuracy: 0.5806 - val_loss: 0.9226\n",
      "Epoch 3/300\n",
      "\u001b[1m16/16\u001b[0m \u001b[32m━━━━━━━━━━━━━━━━━━━━\u001b[0m\u001b[37m\u001b[0m \u001b[1m0s\u001b[0m 9ms/step - accuracy: 0.6668 - loss: 0.8352 - val_accuracy: 0.6210 - val_loss: 0.8792\n",
      "Epoch 4/300\n",
      "\u001b[1m16/16\u001b[0m \u001b[32m━━━━━━━━━━━━━━━━━━━━\u001b[0m\u001b[37m\u001b[0m \u001b[1m0s\u001b[0m 10ms/step - accuracy: 0.6761 - loss: 0.7986 - val_accuracy: 0.6290 - val_loss: 0.8072\n",
      "Epoch 5/300\n",
      "\u001b[1m16/16\u001b[0m \u001b[32m━━━━━━━━━━━━━━━━━━━━\u001b[0m\u001b[37m\u001b[0m \u001b[1m0s\u001b[0m 10ms/step - accuracy: 0.6781 - loss: 0.7513 - val_accuracy: 0.6371 - val_loss: 0.7235\n",
      "Epoch 6/300\n",
      "\u001b[1m16/16\u001b[0m \u001b[32m━━━━━━━━━━━━━━━━━━━━\u001b[0m\u001b[37m\u001b[0m \u001b[1m0s\u001b[0m 9ms/step - accuracy: 0.6978 - loss: 0.6853 - val_accuracy: 0.7016 - val_loss: 0.6834\n",
      "Epoch 7/300\n",
      "\u001b[1m16/16\u001b[0m \u001b[32m━━━━━━━━━━━━━━━━━━━━\u001b[0m\u001b[37m\u001b[0m \u001b[1m0s\u001b[0m 10ms/step - accuracy: 0.7101 - loss: 0.6611 - val_accuracy: 0.7177 - val_loss: 0.6084\n",
      "Epoch 8/300\n",
      "\u001b[1m16/16\u001b[0m \u001b[32m━━━━━━━━━━━━━━━━━━━━\u001b[0m\u001b[37m\u001b[0m \u001b[1m0s\u001b[0m 9ms/step - accuracy: 0.7275 - loss: 0.5867 - val_accuracy: 0.7339 - val_loss: 0.5782\n",
      "Epoch 9/300\n",
      "\u001b[1m16/16\u001b[0m \u001b[32m━━━━━━━━━━━━━━━━━━━━\u001b[0m\u001b[37m\u001b[0m \u001b[1m0s\u001b[0m 9ms/step - accuracy: 0.7545 - loss: 0.5548 - val_accuracy: 0.7016 - val_loss: 0.5558\n",
      "Epoch 10/300\n",
      "\u001b[1m16/16\u001b[0m \u001b[32m━━━━━━━━━━━━━━━━━━━━\u001b[0m\u001b[37m\u001b[0m \u001b[1m0s\u001b[0m 9ms/step - accuracy: 0.7668 - loss: 0.4916 - val_accuracy: 0.8065 - val_loss: 0.5013\n",
      "Epoch 11/300\n",
      "\u001b[1m16/16\u001b[0m \u001b[32m━━━━━━━━━━━━━━━━━━━━\u001b[0m\u001b[37m\u001b[0m \u001b[1m0s\u001b[0m 9ms/step - accuracy: 0.7582 - loss: 0.4663 - val_accuracy: 0.7823 - val_loss: 0.5084\n",
      "Epoch 12/300\n",
      "\u001b[1m16/16\u001b[0m \u001b[32m━━━━━━━━━━━━━━━━━━━━\u001b[0m\u001b[37m\u001b[0m \u001b[1m0s\u001b[0m 10ms/step - accuracy: 0.7769 - loss: 0.4741 - val_accuracy: 0.7016 - val_loss: 0.6274\n",
      "Epoch 13/300\n",
      "\u001b[1m16/16\u001b[0m \u001b[32m━━━━━━━━━━━━━━━━━━━━\u001b[0m\u001b[37m\u001b[0m \u001b[1m0s\u001b[0m 10ms/step - accuracy: 0.8346 - loss: 0.3920 - val_accuracy: 0.7903 - val_loss: 0.4915\n",
      "Epoch 14/300\n",
      "\u001b[1m16/16\u001b[0m \u001b[32m━━━━━━━━━━━━━━━━━━━━\u001b[0m\u001b[37m\u001b[0m \u001b[1m0s\u001b[0m 9ms/step - accuracy: 0.8816 - loss: 0.3465 - val_accuracy: 0.7903 - val_loss: 0.4324\n",
      "Epoch 15/300\n",
      "\u001b[1m16/16\u001b[0m \u001b[32m━━━━━━━━━━━━━━━━━━━━\u001b[0m\u001b[37m\u001b[0m \u001b[1m0s\u001b[0m 11ms/step - accuracy: 0.8699 - loss: 0.3293 - val_accuracy: 0.8387 - val_loss: 0.4135\n",
      "Epoch 16/300\n",
      "\u001b[1m16/16\u001b[0m \u001b[32m━━━━━━━━━━━━━━━━━━━━\u001b[0m\u001b[37m\u001b[0m \u001b[1m0s\u001b[0m 9ms/step - accuracy: 0.8851 - loss: 0.2752 - val_accuracy: 0.8306 - val_loss: 0.3984\n",
      "Epoch 17/300\n",
      "\u001b[1m16/16\u001b[0m \u001b[32m━━━━━━━━━━━━━━━━━━━━\u001b[0m\u001b[37m\u001b[0m \u001b[1m0s\u001b[0m 10ms/step - accuracy: 0.8938 - loss: 0.2637 - val_accuracy: 0.8468 - val_loss: 0.4463\n",
      "Epoch 18/300\n",
      "\u001b[1m16/16\u001b[0m \u001b[32m━━━━━━━━━━━━━━━━━━━━\u001b[0m\u001b[37m\u001b[0m \u001b[1m0s\u001b[0m 9ms/step - accuracy: 0.8977 - loss: 0.2785 - val_accuracy: 0.8468 - val_loss: 0.4131\n",
      "Epoch 19/300\n",
      "\u001b[1m16/16\u001b[0m \u001b[32m━━━━━━━━━━━━━━━━━━━━\u001b[0m\u001b[37m\u001b[0m \u001b[1m0s\u001b[0m 10ms/step - accuracy: 0.8955 - loss: 0.2570 - val_accuracy: 0.8306 - val_loss: 0.4631\n",
      "Epoch 20/300\n",
      "\u001b[1m16/16\u001b[0m \u001b[32m━━━━━━━━━━━━━━━━━━━━\u001b[0m\u001b[37m\u001b[0m \u001b[1m0s\u001b[0m 10ms/step - accuracy: 0.9076 - loss: 0.2227 - val_accuracy: 0.8145 - val_loss: 0.5359\n",
      "Epoch 21/300\n",
      "\u001b[1m16/16\u001b[0m \u001b[32m━━━━━━━━━━━━━━━━━━━━\u001b[0m\u001b[37m\u001b[0m \u001b[1m0s\u001b[0m 10ms/step - accuracy: 0.9478 - loss: 0.1693 - val_accuracy: 0.8387 - val_loss: 0.4675\n",
      "Epoch 22/300\n",
      "\u001b[1m16/16\u001b[0m \u001b[32m━━━━━━━━━━━━━━━━━━━━\u001b[0m\u001b[37m\u001b[0m \u001b[1m0s\u001b[0m 10ms/step - accuracy: 0.9195 - loss: 0.1870 - val_accuracy: 0.8548 - val_loss: 0.4223\n",
      "Epoch 23/300\n",
      "\u001b[1m16/16\u001b[0m \u001b[32m━━━━━━━━━━━━━━━━━━━━\u001b[0m\u001b[37m\u001b[0m \u001b[1m0s\u001b[0m 10ms/step - accuracy: 0.9561 - loss: 0.1378 - val_accuracy: 0.8548 - val_loss: 0.4645\n",
      "Epoch 24/300\n",
      "\u001b[1m16/16\u001b[0m \u001b[32m━━━━━━━━━━━━━━━━━━━━\u001b[0m\u001b[37m\u001b[0m \u001b[1m0s\u001b[0m 10ms/step - accuracy: 0.9496 - loss: 0.1293 - val_accuracy: 0.8629 - val_loss: 0.3867\n",
      "Epoch 25/300\n",
      "\u001b[1m16/16\u001b[0m \u001b[32m━━━━━━━━━━━━━━━━━━━━\u001b[0m\u001b[37m\u001b[0m \u001b[1m0s\u001b[0m 10ms/step - accuracy: 0.9646 - loss: 0.1202 - val_accuracy: 0.8710 - val_loss: 0.3959\n",
      "Epoch 26/300\n",
      "\u001b[1m16/16\u001b[0m \u001b[32m━━━━━━━━━━━━━━━━━━━━\u001b[0m\u001b[37m\u001b[0m \u001b[1m0s\u001b[0m 10ms/step - accuracy: 0.9436 - loss: 0.1501 - val_accuracy: 0.8952 - val_loss: 0.3219\n",
      "Epoch 27/300\n",
      "\u001b[1m16/16\u001b[0m \u001b[32m━━━━━━━━━━━━━━━━━━━━\u001b[0m\u001b[37m\u001b[0m \u001b[1m0s\u001b[0m 10ms/step - accuracy: 0.9672 - loss: 0.1114 - val_accuracy: 0.8548 - val_loss: 0.4269\n",
      "Epoch 28/300\n",
      "\u001b[1m16/16\u001b[0m \u001b[32m━━━━━━━━━━━━━━━━━━━━\u001b[0m\u001b[37m\u001b[0m \u001b[1m0s\u001b[0m 11ms/step - accuracy: 0.9485 - loss: 0.1499 - val_accuracy: 0.8468 - val_loss: 0.4748\n",
      "Epoch 29/300\n",
      "\u001b[1m16/16\u001b[0m \u001b[32m━━━━━━━━━━━━━━━━━━━━\u001b[0m\u001b[37m\u001b[0m \u001b[1m0s\u001b[0m 10ms/step - accuracy: 0.9592 - loss: 0.0884 - val_accuracy: 0.8871 - val_loss: 0.3460\n",
      "Epoch 30/300\n",
      "\u001b[1m16/16\u001b[0m \u001b[32m━━━━━━━━━━━━━━━━━━━━\u001b[0m\u001b[37m\u001b[0m \u001b[1m0s\u001b[0m 10ms/step - accuracy: 0.9833 - loss: 0.0696 - val_accuracy: 0.9032 - val_loss: 0.2943\n",
      "Epoch 31/300\n",
      "\u001b[1m16/16\u001b[0m \u001b[32m━━━━━━━━━━━━━━━━━━━━\u001b[0m\u001b[37m\u001b[0m \u001b[1m0s\u001b[0m 14ms/step - accuracy: 0.9705 - loss: 0.0816 - val_accuracy: 0.9032 - val_loss: 0.2819\n",
      "Epoch 32/300\n",
      "\u001b[1m16/16\u001b[0m \u001b[32m━━━━━━━━━━━━━━━━━━━━\u001b[0m\u001b[37m\u001b[0m \u001b[1m0s\u001b[0m 10ms/step - accuracy: 0.9707 - loss: 0.0769 - val_accuracy: 0.8952 - val_loss: 0.3614\n",
      "Epoch 33/300\n",
      "\u001b[1m16/16\u001b[0m \u001b[32m━━━━━━━━━━━━━━━━━━━━\u001b[0m\u001b[37m\u001b[0m \u001b[1m0s\u001b[0m 9ms/step - accuracy: 0.9736 - loss: 0.0746 - val_accuracy: 0.8710 - val_loss: 0.4231\n",
      "Epoch 34/300\n",
      "\u001b[1m16/16\u001b[0m \u001b[32m━━━━━━━━━━━━━━━━━━━━\u001b[0m\u001b[37m\u001b[0m \u001b[1m0s\u001b[0m 10ms/step - accuracy: 0.9624 - loss: 0.0880 - val_accuracy: 0.8790 - val_loss: 0.4123\n",
      "Epoch 35/300\n",
      "\u001b[1m16/16\u001b[0m \u001b[32m━━━━━━━━━━━━━━━━━━━━\u001b[0m\u001b[37m\u001b[0m \u001b[1m0s\u001b[0m 10ms/step - accuracy: 0.9775 - loss: 0.0822 - val_accuracy: 0.8710 - val_loss: 0.3003\n",
      "Epoch 36/300\n",
      "\u001b[1m16/16\u001b[0m \u001b[32m━━━━━━━━━━━━━━━━━━━━\u001b[0m\u001b[37m\u001b[0m \u001b[1m0s\u001b[0m 10ms/step - accuracy: 0.9712 - loss: 0.0848 - val_accuracy: 0.9194 - val_loss: 0.2915\n",
      "Epoch 37/300\n",
      "\u001b[1m16/16\u001b[0m \u001b[32m━━━━━━━━━━━━━━━━━━━━\u001b[0m\u001b[37m\u001b[0m \u001b[1m0s\u001b[0m 10ms/step - accuracy: 0.9675 - loss: 0.0923 - val_accuracy: 0.8790 - val_loss: 0.3816\n",
      "Epoch 38/300\n",
      "\u001b[1m16/16\u001b[0m \u001b[32m━━━━━━━━━━━━━━━━━━━━\u001b[0m\u001b[37m\u001b[0m \u001b[1m0s\u001b[0m 10ms/step - accuracy: 0.9177 - loss: 0.1918 - val_accuracy: 0.8871 - val_loss: 0.3464\n",
      "Epoch 39/300\n",
      "\u001b[1m16/16\u001b[0m \u001b[32m━━━━━━━━━━━━━━━━━━━━\u001b[0m\u001b[37m\u001b[0m \u001b[1m0s\u001b[0m 10ms/step - accuracy: 0.9620 - loss: 0.0885 - val_accuracy: 0.8790 - val_loss: 0.4601\n",
      "Epoch 40/300\n",
      "\u001b[1m16/16\u001b[0m \u001b[32m━━━━━━━━━━━━━━━━━━━━\u001b[0m\u001b[37m\u001b[0m \u001b[1m0s\u001b[0m 12ms/step - accuracy: 0.9203 - loss: 0.2486 - val_accuracy: 0.7984 - val_loss: 0.6626\n",
      "Epoch 41/300\n",
      "\u001b[1m16/16\u001b[0m \u001b[32m━━━━━━━━━━━━━━━━━━━━\u001b[0m\u001b[37m\u001b[0m \u001b[1m0s\u001b[0m 10ms/step - accuracy: 0.8999 - loss: 0.3014 - val_accuracy: 0.8952 - val_loss: 0.3346\n",
      "Epoch 42/300\n",
      "\u001b[1m16/16\u001b[0m \u001b[32m━━━━━━━━━━━━━━━━━━━━\u001b[0m\u001b[37m\u001b[0m \u001b[1m0s\u001b[0m 11ms/step - accuracy: 0.9744 - loss: 0.1320 - val_accuracy: 0.8952 - val_loss: 0.2776\n",
      "Epoch 43/300\n",
      "\u001b[1m16/16\u001b[0m \u001b[32m━━━━━━━━━━━━━━━━━━━━\u001b[0m\u001b[37m\u001b[0m \u001b[1m0s\u001b[0m 10ms/step - accuracy: 0.9835 - loss: 0.0864 - val_accuracy: 0.8871 - val_loss: 0.3258\n",
      "Epoch 44/300\n",
      "\u001b[1m16/16\u001b[0m \u001b[32m━━━━━━━━━━━━━━━━━━━━\u001b[0m\u001b[37m\u001b[0m \u001b[1m0s\u001b[0m 10ms/step - accuracy: 0.9952 - loss: 0.0522 - val_accuracy: 0.9113 - val_loss: 0.2771\n",
      "Epoch 45/300\n",
      "\u001b[1m16/16\u001b[0m \u001b[32m━━━━━━━━━━━━━━━━━━━━\u001b[0m\u001b[37m\u001b[0m \u001b[1m0s\u001b[0m 10ms/step - accuracy: 0.9961 - loss: 0.0488 - val_accuracy: 0.9113 - val_loss: 0.3009\n",
      "Epoch 46/300\n",
      "\u001b[1m16/16\u001b[0m \u001b[32m━━━━━━━━━━━━━━━━━━━━\u001b[0m\u001b[37m\u001b[0m \u001b[1m0s\u001b[0m 10ms/step - accuracy: 0.9975 - loss: 0.0245 - val_accuracy: 0.9113 - val_loss: 0.3047\n",
      "Epoch 47/300\n",
      "\u001b[1m16/16\u001b[0m \u001b[32m━━━━━━━━━━━━━━━━━━━━\u001b[0m\u001b[37m\u001b[0m \u001b[1m0s\u001b[0m 10ms/step - accuracy: 0.9907 - loss: 0.0321 - val_accuracy: 0.9194 - val_loss: 0.3086\n",
      "Epoch 48/300\n",
      "\u001b[1m16/16\u001b[0m \u001b[32m━━━━━━━━━━━━━━━━━━━━\u001b[0m\u001b[37m\u001b[0m \u001b[1m0s\u001b[0m 11ms/step - accuracy: 0.9989 - loss: 0.0220 - val_accuracy: 0.9194 - val_loss: 0.3374\n",
      "Epoch 49/300\n",
      "\u001b[1m16/16\u001b[0m \u001b[32m━━━━━━━━━━━━━━━━━━━━\u001b[0m\u001b[37m\u001b[0m \u001b[1m0s\u001b[0m 10ms/step - accuracy: 0.9959 - loss: 0.0212 - val_accuracy: 0.9274 - val_loss: 0.3297\n",
      "Epoch 50/300\n",
      "\u001b[1m16/16\u001b[0m \u001b[32m━━━━━━━━━━━━━━━━━━━━\u001b[0m\u001b[37m\u001b[0m \u001b[1m0s\u001b[0m 10ms/step - accuracy: 1.0000 - loss: 0.0176 - val_accuracy: 0.9194 - val_loss: 0.3012\n",
      "Epoch 51/300\n",
      "\u001b[1m16/16\u001b[0m \u001b[32m━━━━━━━━━━━━━━━━━━━━\u001b[0m\u001b[37m\u001b[0m \u001b[1m0s\u001b[0m 10ms/step - accuracy: 0.9955 - loss: 0.0205 - val_accuracy: 0.9194 - val_loss: 0.3197\n",
      "Epoch 52/300\n",
      "\u001b[1m16/16\u001b[0m \u001b[32m━━━━━━━━━━━━━━━━━━━━\u001b[0m\u001b[37m\u001b[0m \u001b[1m0s\u001b[0m 10ms/step - accuracy: 1.0000 - loss: 0.0182 - val_accuracy: 0.9113 - val_loss: 0.3938\n",
      "Epoch 53/300\n",
      "\u001b[1m16/16\u001b[0m \u001b[32m━━━━━━━━━━━━━━━━━━━━\u001b[0m\u001b[37m\u001b[0m \u001b[1m0s\u001b[0m 11ms/step - accuracy: 0.9990 - loss: 0.0168 - val_accuracy: 0.9194 - val_loss: 0.3440\n",
      "Epoch 54/300\n",
      "\u001b[1m16/16\u001b[0m \u001b[32m━━━━━━━━━━━━━━━━━━━━\u001b[0m\u001b[37m\u001b[0m \u001b[1m0s\u001b[0m 12ms/step - accuracy: 0.9970 - loss: 0.0118 - val_accuracy: 0.9032 - val_loss: 0.4082\n",
      "Epoch 55/300\n",
      "\u001b[1m16/16\u001b[0m \u001b[32m━━━━━━━━━━━━━━━━━━━━\u001b[0m\u001b[37m\u001b[0m \u001b[1m0s\u001b[0m 11ms/step - accuracy: 1.0000 - loss: 0.0120 - val_accuracy: 0.9194 - val_loss: 0.3768\n",
      "Epoch 56/300\n",
      "\u001b[1m16/16\u001b[0m \u001b[32m━━━━━━━━━━━━━━━━━━━━\u001b[0m\u001b[37m\u001b[0m \u001b[1m0s\u001b[0m 10ms/step - accuracy: 1.0000 - loss: 0.0080 - val_accuracy: 0.9274 - val_loss: 0.3612\n",
      "Epoch 57/300\n",
      "\u001b[1m16/16\u001b[0m \u001b[32m━━━━━━━━━━━━━━━━━━━━\u001b[0m\u001b[37m\u001b[0m \u001b[1m0s\u001b[0m 10ms/step - accuracy: 1.0000 - loss: 0.0105 - val_accuracy: 0.9194 - val_loss: 0.3494\n",
      "Epoch 58/300\n",
      "\u001b[1m16/16\u001b[0m \u001b[32m━━━━━━━━━━━━━━━━━━━━\u001b[0m\u001b[37m\u001b[0m \u001b[1m0s\u001b[0m 11ms/step - accuracy: 1.0000 - loss: 0.0083 - val_accuracy: 0.9194 - val_loss: 0.3673\n",
      "Epoch 59/300\n",
      "\u001b[1m16/16\u001b[0m \u001b[32m━━━━━━━━━━━━━━━━━━━━\u001b[0m\u001b[37m\u001b[0m \u001b[1m0s\u001b[0m 10ms/step - accuracy: 1.0000 - loss: 0.0086 - val_accuracy: 0.9274 - val_loss: 0.3861\n"
     ]
    }
   ],
   "source": [
    " # 모델 컴파일 및 학습\n",
    "model.compile(optimizer=Adam(learning_rate=0.001), loss=\"categorical_crossentropy\", metrics=[\"accuracy\"])\n",
    "es = EarlyStopping(monitor = 'val_loss', min_delta = 0, patience = 15, mode = 'auto', restore_best_weights=True)\n",
    "history = model.fit(X_train, y_train, validation_data=(X_val, y_val), epochs=300, batch_size=32, callbacks=es).history"
   ]
  },
  {
   "cell_type": "code",
   "execution_count": 17,
   "metadata": {},
   "outputs": [
    {
     "data": {
      "image/png": "[encoded data removed]",
      "text/plain": [
       "<Figure size 640x480 with 1 Axes>"
      ]
     },
     "metadata": {},
     "output_type": "display_data"
    }
   ],
   "source": [
    "plt.plot(history['loss'], label = 'train_err', marker = '.')\n",
    "plt.plot(history['val_loss'], label = 'val_err', marker = '.')\n",
    "plt.grid()\n",
    "plt.legend()\n",
    "plt.show()"
   ]
  },
  {
   "cell_type": "code",
   "execution_count": 18,
   "metadata": {
    "colab": {
     "base_uri": "https://localhost:8080/"
    },
    "executionInfo": {
     "elapsed": 547,
     "status": "ok",
     "timestamp": 1736498705187,
     "user": {
      "displayName": "신호용",
      "userId": "04424386186383145760"
     },
     "user_tz": -540
    },
    "id": "OCB8taP2yavC",
    "outputId": "c18c1b7b-de05-4ffb-a0c5-14ab56503bfa"
   },
   "outputs": [
    {
     "name": "stderr",
     "output_type": "stream",
     "text": [
      "WARNING:absl:You are saving your model as an HDF5 file via `model.save()` or `keras.saving.save_model(model)`. This file format is considered legacy. We recommend using instead the native Keras format, e.g. `model.save('my_model.keras')` or `keras.saving.save_model(model, 'my_model.keras')`. \n"
     ]
    }
   ],
   "source": [
    "# 모델 저장\n",
    "output_model = './Model/LSTM.h5'\n",
    "model.save(output_model)"
   ]
  },
  {
   "cell_type": "code",
   "execution_count": 19,
   "metadata": {
    "colab": {
     "base_uri": "https://localhost:8080/"
    },
    "executionInfo": {
     "elapsed": 407,
     "status": "ok",
     "timestamp": 1736817098363,
     "user": {
      "displayName": "신호용",
      "userId": "04424386186383145760"
     },
     "user_tz": -540
    },
    "id": "zWxhnnUcOYPs",
    "outputId": "de5babdf-b6f8-47a8-ec48-07c37aecb7a4"
   },
   "outputs": [
    {
     "name": "stdout",
     "output_type": "stream",
     "text": [
      "검증 데이터 정확도: 91.13%\n"
     ]
    }
   ],
   "source": [
    "# 학습된 모델 평가\n",
    "loss, accuracy = model.evaluate(X_val, y_val, verbose=0)\n",
    "print(f\"검증 데이터 정확도: {accuracy * 100:.2f}%\")"
   ]
  }
 ],
 "metadata": {
  "colab": {
   "provenance": []
  },
  "kernelspec": {
   "display_name": "action_recognition",
   "language": "python",
   "name": "python3"
  },
  "language_info": {
   "codemirror_mode": {
    "name": "ipython",
    "version": 3
   },
   "file_extension": ".py",
   "mimetype": "text/x-python",
   "name": "python",
   "nbconvert_exporter": "python",
   "pygments_lexer": "ipython3",
   "version": "3.12.8"
  }
 },
 "nbformat": 4,
 "nbformat_minor": 0
}
