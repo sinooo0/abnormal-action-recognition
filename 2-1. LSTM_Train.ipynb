{
 "cells": [
  {
   "cell_type": "code",
   "execution_count": 1,
   "metadata": {
    "executionInfo": {
     "elapsed": 6344,
     "status": "ok",
     "timestamp": 1736816975834,
     "user": {
      "displayName": "신호용",
      "userId": "04424386186383145760"
     },
     "user_tz": -540
    },
    "id": "RcPpb0t6yau8"
   },
   "outputs": [],
   "source": [
    "import os\n",
    "import re\n",
    "import pandas as pd\n",
    "import numpy as np\n",
    "import matplotlib.pyplot as plt\n",
    "from keras.models import Sequential\n",
    "from keras.layers import LSTM, Dense\n",
    "from keras.utils import to_categorical\n",
    "from keras.optimizers import Adam\n",
    "from keras.callbacks import EarlyStopping\n",
    "from sklearn.model_selection import train_test_split"
   ]
  },
  {
   "cell_type": "code",
   "execution_count": 2,
   "metadata": {
    "executionInfo": {
     "elapsed": 948,
     "status": "ok",
     "timestamp": 1736816979723,
     "user": {
      "displayName": "신호용",
      "userId": "04424386186383145760"
     },
     "user_tz": -540
    },
    "id": "F56DvJR2yavA"
   },
   "outputs": [],
   "source": [
    "# LSTM_Live 폴더의 모든 CSV 파일 병합\n",
    "def LSTM_Live_Merge(folder_path):\n",
    "    \n",
    "    csv_files = []\n",
    "\n",
    "    # 하위 폴더까지 탐색\n",
    "    for root, _, files in os.walk(folder_path):\n",
    "        for file in files:\n",
    "            if file.endswith('.csv'):\n",
    "                csv_path = os.path.join(root, file)\n",
    "                \n",
    "                # CSV 불러오기\n",
    "                df = pd.read_csv(csv_path)\n",
    "                csv_files.append(df)\n",
    "\n",
    "    # 모든 CSV 파일 병합\n",
    "    if csv_files:\n",
    "        combined_df = pd.concat(csv_files, ignore_index=True)\n",
    "        print(f\"총 {len(csv_files)}개의 CSV 파일을 병합했습니다. 데이터 크기: {combined_df.shape}\")\n",
    "        return combined_df\n",
    "    else:\n",
    "        print(\"병합할 CSV 파일이 없습니다.\")\n",
    "        return pd.DataFrame()\n"
   ]
  },
  {
   "cell_type": "code",
   "execution_count": 3,
   "metadata": {},
   "outputs": [],
   "source": [
    "def natural_sort_key(s):\n",
    "    return [int(text) if text.isdigit() else text.lower() for text in re.split(r'(\\d+)', s)]\n",
    "\n",
    "# 폴더 내 CSV 파일 병합\n",
    "def LSTM_Capture_Merge(folder_path, sequence):\n",
    "    \n",
    "    csv_files = []\n",
    "\n",
    "    for root, _, files in sorted(os.walk(folder_path), key=lambda x: natural_sort_key(x[0])):\n",
    "        sorted_files = sorted([file for file in files if file.endswith('.csv')], key=natural_sort_key)\n",
    "        file_count = len(sorted_files)\n",
    "        \n",
    "        if file_count == 0:\n",
    "            continue  # CSV 파일이 없는 폴더는 건너뜀\n",
    "        \n",
    "        if file_count % sequence != 0:\n",
    "            print(f\"[제외] {root}: CSV 파일 수 {file_count}개는 {sequence}의 배수가 아닙니다.\")\n",
    "            continue  # sequence의 배수가 아니면 병합 제외\n",
    "\n",
    "        for file in sorted_files:\n",
    "            csv_path = os.path.join(root, file)\n",
    "            csv_files.append(csv_path)\n",
    "\n",
    "    if not csv_files:\n",
    "        print(\"병합할 CSV 파일이 없습니다.\")\n",
    "        return pd.DataFrame()\n",
    "    \n",
    "    # CSV 파일 병합 (float_precision 추가)\n",
    "    dataframes = [pd.read_csv(file, float_precision='round_trip') for file in csv_files]\n",
    "    combined_df = pd.concat(dataframes, ignore_index=True)\n",
    "    print(f\"총 {len(csv_files)}개의 CSV 파일을 병합했습니다. 데이터 크기: {combined_df.shape}\")\n",
    "    return combined_df"
   ]
  },
  {
   "cell_type": "code",
   "execution_count": 4,
   "metadata": {
    "executionInfo": {
     "elapsed": 2,
     "status": "ok",
     "timestamp": 1736816981402,
     "user": {
      "displayName": "신호용",
      "userId": "04424386186383145760"
     },
     "user_tz": -540
    },
    "id": "XCctZO0JEt3_"
   },
   "outputs": [],
   "source": [
    "# 데이터 시퀀스별로 변환\n",
    "def reshape_to_sequences(data, labels, seq_length):\n",
    "    sequences = []\n",
    "    sequence_labels = []\n",
    "    for i in range(len(data) - seq_length + 1):\n",
    "        sequences.append(data[i:i + seq_length])\n",
    "        sequence_labels.append(labels[i + seq_length - 1])  # 시퀀스의 마지막 레이블 사용\n",
    "    return np.array(sequences), np.array(sequence_labels)"
   ]
  },
  {
   "cell_type": "code",
   "execution_count": 5,
   "metadata": {},
   "outputs": [],
   "source": [
    "# 클래스 균등하게 정리\n",
    "def balance_classes(df, class_column, target_samples):\n",
    "\n",
    "    # 그룹화하여 각 클래스에서 샘플링\n",
    "    balanced_df = df.groupby(class_column).apply(\n",
    "        lambda x: x.sample(n=target_samples, random_state=42) if len(x) >= target_samples else x\n",
    "    )\n",
    "    \n",
    "    # 인덱스 초기화\n",
    "    balanced_df = balanced_df.reset_index(drop=True)\n",
    "    return balanced_df"
   ]
  },
  {
   "cell_type": "code",
   "execution_count": 8,
   "metadata": {
    "colab": {
     "base_uri": "https://localhost:8080/"
    },
    "executionInfo": {
     "elapsed": 7399,
     "status": "ok",
     "timestamp": 1736816993226,
     "user": {
      "displayName": "신호용",
      "userId": "04424386186383145760"
     },
     "user_tz": -540
    },
    "id": "v9lYaWtICsyN",
    "outputId": "5674cacd-ed53-49a6-8117-5ae8b539a54f"
   },
   "outputs": [
    {
     "name": "stdout",
     "output_type": "stream",
     "text": [
      "병합할 CSV 파일이 없습니다.\n",
      "총 4674개의 CSV 파일을 병합했습니다. 데이터 크기: (4674, 35)\n"
     ]
    }
   ],
   "source": [
    "# 데이터 불러오기 및 병합\n",
    "folder_path = './Data'  # 데이터 폴더 경로\n",
    "df_live = LSTM_Live_Merge(folder_path + '/LSTM_Live') # LSTM_Live 폴더 병합\n",
    "df_capture = LSTM_Capture_Merge(folder_path + '/LSTM_Capture', sequence=3) # LSTM_Capture 폴더 병합\n",
    "df= pd.concat([df_live, df_capture], ignore_index=True) # 전체 폴더 병합"
   ]
  },
  {
   "cell_type": "code",
   "execution_count": 9,
   "metadata": {},
   "outputs": [
    {
     "name": "stdout",
     "output_type": "stream",
     "text": [
      "action_class\n",
      "2    1959\n",
      "1    1362\n",
      "0    1353\n",
      "Name: count, dtype: int64\n"
     ]
    }
   ],
   "source": [
    "# 정리 전 클래스별 갯수 확인\n",
    "print(df['action_class'].value_counts())"
   ]
  },
  {
   "cell_type": "code",
   "execution_count": null,
   "metadata": {},
   "outputs": [
    {
     "name": "stderr",
     "output_type": "stream",
     "text": [
      "C:\\Users\\Public\\Documents\\ESTsoft\\CreatorTemp\\ipykernel_15796\\2504395227.py:5: DeprecationWarning: DataFrameGroupBy.apply operated on the grouping columns. This behavior is deprecated, and in a future version of pandas the grouping columns will be excluded from the operation. Either pass `include_groups=False` to exclude the groupings or explicitly select the grouping columns after groupby to silence this warning.\n",
      "  balanced_df = df.groupby(class_column).apply(\n"
     ]
    }
   ],
   "source": [
    "# 클래스 균등하게 정리\n",
    "df = balance_classes(df, class_column='action_class', target_samples=96)"
   ]
  },
  {
   "cell_type": "code",
   "execution_count": 10,
   "metadata": {},
   "outputs": [
    {
     "name": "stdout",
     "output_type": "stream",
     "text": [
      "action_class\n",
      "2    1959\n",
      "1    1362\n",
      "0    1353\n",
      "Name: count, dtype: int64\n"
     ]
    },
    {
     "data": {
      "text/html": [
       "<div>\n",
       "<style scoped>\n",
       "    .dataframe tbody tr th:only-of-type {\n",
       "        vertical-align: middle;\n",
       "    }\n",
       "\n",
       "    .dataframe tbody tr th {\n",
       "        vertical-align: top;\n",
       "    }\n",
       "\n",
       "    .dataframe thead th {\n",
       "        text-align: right;\n",
       "    }\n",
       "</style>\n",
       "<table border=\"1\" class=\"dataframe\">\n",
       "  <thead>\n",
       "    <tr style=\"text-align: right;\">\n",
       "      <th></th>\n",
       "      <th>kp0_x</th>\n",
       "      <th>kp0_y</th>\n",
       "      <th>kp1_x</th>\n",
       "      <th>kp1_y</th>\n",
       "      <th>kp2_x</th>\n",
       "      <th>kp2_y</th>\n",
       "      <th>kp3_x</th>\n",
       "      <th>kp3_y</th>\n",
       "      <th>kp4_x</th>\n",
       "      <th>kp4_y</th>\n",
       "      <th>...</th>\n",
       "      <th>kp12_y</th>\n",
       "      <th>kp13_x</th>\n",
       "      <th>kp13_y</th>\n",
       "      <th>kp14_x</th>\n",
       "      <th>kp14_y</th>\n",
       "      <th>kp15_x</th>\n",
       "      <th>kp15_y</th>\n",
       "      <th>kp16_x</th>\n",
       "      <th>kp16_y</th>\n",
       "      <th>action_class</th>\n",
       "    </tr>\n",
       "  </thead>\n",
       "  <tbody>\n",
       "    <tr>\n",
       "      <th>0</th>\n",
       "      <td>0.619108</td>\n",
       "      <td>0.153473</td>\n",
       "      <td>0.671352</td>\n",
       "      <td>0.132504</td>\n",
       "      <td>0.552828</td>\n",
       "      <td>0.129848</td>\n",
       "      <td>-2.204969</td>\n",
       "      <td>-0.222527</td>\n",
       "      <td>0.434993</td>\n",
       "      <td>0.137411</td>\n",
       "      <td>...</td>\n",
       "      <td>0.548048</td>\n",
       "      <td>0.689017</td>\n",
       "      <td>0.733447</td>\n",
       "      <td>0.377482</td>\n",
       "      <td>0.741448</td>\n",
       "      <td>0.638528</td>\n",
       "      <td>0.881347</td>\n",
       "      <td>0.326132</td>\n",
       "      <td>0.884203</td>\n",
       "      <td>0</td>\n",
       "    </tr>\n",
       "    <tr>\n",
       "      <th>1</th>\n",
       "      <td>0.646697</td>\n",
       "      <td>0.163598</td>\n",
       "      <td>0.708872</td>\n",
       "      <td>0.138540</td>\n",
       "      <td>0.562228</td>\n",
       "      <td>0.137520</td>\n",
       "      <td>0.788843</td>\n",
       "      <td>0.137759</td>\n",
       "      <td>0.419266</td>\n",
       "      <td>0.139350</td>\n",
       "      <td>...</td>\n",
       "      <td>0.556965</td>\n",
       "      <td>0.780411</td>\n",
       "      <td>0.747178</td>\n",
       "      <td>0.393982</td>\n",
       "      <td>0.758135</td>\n",
       "      <td>0.800466</td>\n",
       "      <td>0.894322</td>\n",
       "      <td>0.410815</td>\n",
       "      <td>0.893541</td>\n",
       "      <td>0</td>\n",
       "    </tr>\n",
       "    <tr>\n",
       "      <th>2</th>\n",
       "      <td>0.472753</td>\n",
       "      <td>0.160226</td>\n",
       "      <td>0.537387</td>\n",
       "      <td>0.134876</td>\n",
       "      <td>0.403421</td>\n",
       "      <td>0.136496</td>\n",
       "      <td>0.651228</td>\n",
       "      <td>0.134320</td>\n",
       "      <td>0.314455</td>\n",
       "      <td>0.136958</td>\n",
       "      <td>...</td>\n",
       "      <td>0.548825</td>\n",
       "      <td>0.657804</td>\n",
       "      <td>0.745717</td>\n",
       "      <td>0.310967</td>\n",
       "      <td>0.745665</td>\n",
       "      <td>0.593995</td>\n",
       "      <td>0.886244</td>\n",
       "      <td>0.339651</td>\n",
       "      <td>0.896255</td>\n",
       "      <td>0</td>\n",
       "    </tr>\n",
       "    <tr>\n",
       "      <th>3</th>\n",
       "      <td>0.477675</td>\n",
       "      <td>0.155960</td>\n",
       "      <td>0.550299</td>\n",
       "      <td>0.132962</td>\n",
       "      <td>0.417055</td>\n",
       "      <td>0.129028</td>\n",
       "      <td>0.664314</td>\n",
       "      <td>0.135434</td>\n",
       "      <td>0.329754</td>\n",
       "      <td>0.124835</td>\n",
       "      <td>...</td>\n",
       "      <td>0.555528</td>\n",
       "      <td>0.635761</td>\n",
       "      <td>0.766941</td>\n",
       "      <td>0.320649</td>\n",
       "      <td>0.761124</td>\n",
       "      <td>0.587906</td>\n",
       "      <td>0.895615</td>\n",
       "      <td>0.422887</td>\n",
       "      <td>0.898624</td>\n",
       "      <td>0</td>\n",
       "    </tr>\n",
       "    <tr>\n",
       "      <th>4</th>\n",
       "      <td>0.485582</td>\n",
       "      <td>0.152856</td>\n",
       "      <td>0.558880</td>\n",
       "      <td>0.130384</td>\n",
       "      <td>0.421838</td>\n",
       "      <td>0.128274</td>\n",
       "      <td>0.678876</td>\n",
       "      <td>0.137752</td>\n",
       "      <td>0.334627</td>\n",
       "      <td>0.130701</td>\n",
       "      <td>...</td>\n",
       "      <td>0.554923</td>\n",
       "      <td>0.644739</td>\n",
       "      <td>0.768907</td>\n",
       "      <td>0.312909</td>\n",
       "      <td>0.760498</td>\n",
       "      <td>0.601461</td>\n",
       "      <td>0.897247</td>\n",
       "      <td>0.421875</td>\n",
       "      <td>0.899406</td>\n",
       "      <td>0</td>\n",
       "    </tr>\n",
       "    <tr>\n",
       "      <th>...</th>\n",
       "      <td>...</td>\n",
       "      <td>...</td>\n",
       "      <td>...</td>\n",
       "      <td>...</td>\n",
       "      <td>...</td>\n",
       "      <td>...</td>\n",
       "      <td>...</td>\n",
       "      <td>...</td>\n",
       "      <td>...</td>\n",
       "      <td>...</td>\n",
       "      <td>...</td>\n",
       "      <td>...</td>\n",
       "      <td>...</td>\n",
       "      <td>...</td>\n",
       "      <td>...</td>\n",
       "      <td>...</td>\n",
       "      <td>...</td>\n",
       "      <td>...</td>\n",
       "      <td>...</td>\n",
       "      <td>...</td>\n",
       "      <td>...</td>\n",
       "    </tr>\n",
       "    <tr>\n",
       "      <th>4669</th>\n",
       "      <td>0.587818</td>\n",
       "      <td>0.187804</td>\n",
       "      <td>0.662575</td>\n",
       "      <td>0.172892</td>\n",
       "      <td>0.564089</td>\n",
       "      <td>0.152314</td>\n",
       "      <td>0.788176</td>\n",
       "      <td>0.161725</td>\n",
       "      <td>-1.154639</td>\n",
       "      <td>-0.235294</td>\n",
       "      <td>...</td>\n",
       "      <td>0.455308</td>\n",
       "      <td>0.529604</td>\n",
       "      <td>0.697885</td>\n",
       "      <td>0.522542</td>\n",
       "      <td>0.580411</td>\n",
       "      <td>0.393116</td>\n",
       "      <td>0.861140</td>\n",
       "      <td>0.602422</td>\n",
       "      <td>0.741962</td>\n",
       "      <td>2</td>\n",
       "    </tr>\n",
       "    <tr>\n",
       "      <th>4670</th>\n",
       "      <td>0.811706</td>\n",
       "      <td>0.220952</td>\n",
       "      <td>0.856653</td>\n",
       "      <td>0.215300</td>\n",
       "      <td>0.808533</td>\n",
       "      <td>0.182615</td>\n",
       "      <td>0.903519</td>\n",
       "      <td>0.187876</td>\n",
       "      <td>0.761880</td>\n",
       "      <td>0.108996</td>\n",
       "      <td>...</td>\n",
       "      <td>0.440658</td>\n",
       "      <td>0.586922</td>\n",
       "      <td>0.742254</td>\n",
       "      <td>0.272392</td>\n",
       "      <td>0.627259</td>\n",
       "      <td>0.485270</td>\n",
       "      <td>0.885862</td>\n",
       "      <td>0.141560</td>\n",
       "      <td>0.799468</td>\n",
       "      <td>2</td>\n",
       "    </tr>\n",
       "    <tr>\n",
       "      <th>4671</th>\n",
       "      <td>0.816539</td>\n",
       "      <td>0.188145</td>\n",
       "      <td>0.863207</td>\n",
       "      <td>0.185062</td>\n",
       "      <td>0.816996</td>\n",
       "      <td>0.150374</td>\n",
       "      <td>0.898576</td>\n",
       "      <td>0.170328</td>\n",
       "      <td>0.773834</td>\n",
       "      <td>0.083931</td>\n",
       "      <td>...</td>\n",
       "      <td>0.426985</td>\n",
       "      <td>0.550309</td>\n",
       "      <td>0.738347</td>\n",
       "      <td>0.262129</td>\n",
       "      <td>0.646352</td>\n",
       "      <td>0.434548</td>\n",
       "      <td>0.909979</td>\n",
       "      <td>0.077227</td>\n",
       "      <td>0.858937</td>\n",
       "      <td>2</td>\n",
       "    </tr>\n",
       "    <tr>\n",
       "      <th>4672</th>\n",
       "      <td>0.436553</td>\n",
       "      <td>0.155960</td>\n",
       "      <td>0.514314</td>\n",
       "      <td>0.135759</td>\n",
       "      <td>0.437887</td>\n",
       "      <td>0.128296</td>\n",
       "      <td>0.732023</td>\n",
       "      <td>0.151393</td>\n",
       "      <td>-1.158824</td>\n",
       "      <td>-0.150617</td>\n",
       "      <td>...</td>\n",
       "      <td>0.549071</td>\n",
       "      <td>0.656974</td>\n",
       "      <td>0.767015</td>\n",
       "      <td>0.477603</td>\n",
       "      <td>0.679473</td>\n",
       "      <td>0.609097</td>\n",
       "      <td>0.883213</td>\n",
       "      <td>0.520258</td>\n",
       "      <td>0.748338</td>\n",
       "      <td>2</td>\n",
       "    </tr>\n",
       "    <tr>\n",
       "      <th>4673</th>\n",
       "      <td>0.266388</td>\n",
       "      <td>0.127958</td>\n",
       "      <td>0.321497</td>\n",
       "      <td>0.110029</td>\n",
       "      <td>-1.403973</td>\n",
       "      <td>-0.114833</td>\n",
       "      <td>0.514768</td>\n",
       "      <td>0.129789</td>\n",
       "      <td>-1.403973</td>\n",
       "      <td>-0.114833</td>\n",
       "      <td>...</td>\n",
       "      <td>0.532161</td>\n",
       "      <td>0.604531</td>\n",
       "      <td>0.747586</td>\n",
       "      <td>0.576384</td>\n",
       "      <td>0.701333</td>\n",
       "      <td>0.592434</td>\n",
       "      <td>0.919601</td>\n",
       "      <td>0.539668</td>\n",
       "      <td>0.841661</td>\n",
       "      <td>2</td>\n",
       "    </tr>\n",
       "  </tbody>\n",
       "</table>\n",
       "<p>4674 rows × 35 columns</p>\n",
       "</div>"
      ],
      "text/plain": [
       "         kp0_x     kp0_y     kp1_x     kp1_y     kp2_x     kp2_y     kp3_x  \\\n",
       "0     0.619108  0.153473  0.671352  0.132504  0.552828  0.129848 -2.204969   \n",
       "1     0.646697  0.163598  0.708872  0.138540  0.562228  0.137520  0.788843   \n",
       "2     0.472753  0.160226  0.537387  0.134876  0.403421  0.136496  0.651228   \n",
       "3     0.477675  0.155960  0.550299  0.132962  0.417055  0.129028  0.664314   \n",
       "4     0.485582  0.152856  0.558880  0.130384  0.421838  0.128274  0.678876   \n",
       "...        ...       ...       ...       ...       ...       ...       ...   \n",
       "4669  0.587818  0.187804  0.662575  0.172892  0.564089  0.152314  0.788176   \n",
       "4670  0.811706  0.220952  0.856653  0.215300  0.808533  0.182615  0.903519   \n",
       "4671  0.816539  0.188145  0.863207  0.185062  0.816996  0.150374  0.898576   \n",
       "4672  0.436553  0.155960  0.514314  0.135759  0.437887  0.128296  0.732023   \n",
       "4673  0.266388  0.127958  0.321497  0.110029 -1.403973 -0.114833  0.514768   \n",
       "\n",
       "         kp3_y     kp4_x     kp4_y  ...    kp12_y    kp13_x    kp13_y  \\\n",
       "0    -0.222527  0.434993  0.137411  ...  0.548048  0.689017  0.733447   \n",
       "1     0.137759  0.419266  0.139350  ...  0.556965  0.780411  0.747178   \n",
       "2     0.134320  0.314455  0.136958  ...  0.548825  0.657804  0.745717   \n",
       "3     0.135434  0.329754  0.124835  ...  0.555528  0.635761  0.766941   \n",
       "4     0.137752  0.334627  0.130701  ...  0.554923  0.644739  0.768907   \n",
       "...        ...       ...       ...  ...       ...       ...       ...   \n",
       "4669  0.161725 -1.154639 -0.235294  ...  0.455308  0.529604  0.697885   \n",
       "4670  0.187876  0.761880  0.108996  ...  0.440658  0.586922  0.742254   \n",
       "4671  0.170328  0.773834  0.083931  ...  0.426985  0.550309  0.738347   \n",
       "4672  0.151393 -1.158824 -0.150617  ...  0.549071  0.656974  0.767015   \n",
       "4673  0.129789 -1.403973 -0.114833  ...  0.532161  0.604531  0.747586   \n",
       "\n",
       "        kp14_x    kp14_y    kp15_x    kp15_y    kp16_x    kp16_y  action_class  \n",
       "0     0.377482  0.741448  0.638528  0.881347  0.326132  0.884203             0  \n",
       "1     0.393982  0.758135  0.800466  0.894322  0.410815  0.893541             0  \n",
       "2     0.310967  0.745665  0.593995  0.886244  0.339651  0.896255             0  \n",
       "3     0.320649  0.761124  0.587906  0.895615  0.422887  0.898624             0  \n",
       "4     0.312909  0.760498  0.601461  0.897247  0.421875  0.899406             0  \n",
       "...        ...       ...       ...       ...       ...       ...           ...  \n",
       "4669  0.522542  0.580411  0.393116  0.861140  0.602422  0.741962             2  \n",
       "4670  0.272392  0.627259  0.485270  0.885862  0.141560  0.799468             2  \n",
       "4671  0.262129  0.646352  0.434548  0.909979  0.077227  0.858937             2  \n",
       "4672  0.477603  0.679473  0.609097  0.883213  0.520258  0.748338             2  \n",
       "4673  0.576384  0.701333  0.592434  0.919601  0.539668  0.841661             2  \n",
       "\n",
       "[4674 rows x 35 columns]"
      ]
     },
     "execution_count": 10,
     "metadata": {},
     "output_type": "execute_result"
    }
   ],
   "source": [
    "# 데이터프레임 확인\n",
    "print(df['action_class'].value_counts())\n",
    "df"
   ]
  },
  {
   "cell_type": "code",
   "execution_count": 11,
   "metadata": {
    "executionInfo": {
     "elapsed": 428,
     "status": "ok",
     "timestamp": 1736817010142,
     "user": {
      "displayName": "신호용",
      "userId": "04424386186383145760"
     },
     "user_tz": -540
    },
    "id": "vbBXiHUyyavB"
   },
   "outputs": [],
   "source": [
    "# X, y 분리\n",
    "X = df.iloc[:, :-1].values # 키포인트\n",
    "y = df.iloc[:, -1].values # 클래스"
   ]
  },
  {
   "cell_type": "code",
   "execution_count": 12,
   "metadata": {},
   "outputs": [],
   "source": [
    "# 레이블 원-핫 인코딩\n",
    "y = to_categorical(y)"
   ]
  },
  {
   "cell_type": "code",
   "execution_count": 13,
   "metadata": {
    "executionInfo": {
     "elapsed": 419,
     "status": "ok",
     "timestamp": 1736817034025,
     "user": {
      "displayName": "신호용",
      "userId": "04424386186383145760"
     },
     "user_tz": -540
    },
    "id": "lX9vCsAb1ZHn"
   },
   "outputs": [],
   "source": [
    "# 데이터 시퀀스 길이 지정\n",
    "seq_length = 3  # 시퀀스 길이\n",
    "\n",
    "# 데이터를 시퀀스 형태로 변환\n",
    "X_seq, y_seq = reshape_to_sequences(X, y, seq_length)"
   ]
  },
  {
   "cell_type": "code",
   "execution_count": 14,
   "metadata": {
    "executionInfo": {
     "elapsed": 575,
     "status": "ok",
     "timestamp": 1736817040984,
     "user": {
      "displayName": "신호용",
      "userId": "04424386186383145760"
     },
     "user_tz": -540
    },
    "id": "0aLSjL8nyavB"
   },
   "outputs": [],
   "source": [
    "# 데이터 분할\n",
    "X_train, X_val, y_train, y_val = train_test_split(X_seq, y_seq, test_size=0.2, random_state=42)"
   ]
  },
  {
   "cell_type": "code",
   "execution_count": 15,
   "metadata": {
    "colab": {
     "base_uri": "https://localhost:8080/"
    },
    "executionInfo": {
     "elapsed": 410,
     "status": "ok",
     "timestamp": 1736817068598,
     "user": {
      "displayName": "신호용",
      "userId": "04424386186383145760"
     },
     "user_tz": -540
    },
    "id": "ddZ5tAf5yavC",
    "outputId": "54f66270-21d4-45c9-ee91-9470d50a51db"
   },
   "outputs": [
    {
     "name": "stderr",
     "output_type": "stream",
     "text": [
      "c:\\Users\\User\\anaconda3\\envs\\action_recognition\\Lib\\site-packages\\keras\\src\\layers\\rnn\\rnn.py:200: UserWarning: Do not pass an `input_shape`/`input_dim` argument to a layer. When using Sequential models, prefer using an `Input(shape)` object as the first layer in the model instead.\n",
      "  super().__init__(**kwargs)\n"
     ]
    }
   ],
   "source": [
    "# LSTM 모델 정의\n",
    "model = Sequential([\n",
    "    LSTM(128, input_shape=(seq_length, X_train.shape[2]), return_sequences=True),\n",
    "    LSTM(64),\n",
    "    Dense(32, activation=\"relu\"),\n",
    "    Dense(y_train.shape[1], activation=\"softmax\")\n",
    "    ])"
   ]
  },
  {
   "cell_type": "code",
   "execution_count": 16,
   "metadata": {
    "colab": {
     "base_uri": "https://localhost:8080/"
    },
    "executionInfo": {
     "elapsed": 14658,
     "status": "ok",
     "timestamp": 1736817088559,
     "user": {
      "displayName": "신호용",
      "userId": "04424386186383145760"
     },
     "user_tz": -540
    },
    "id": "DYMwh9xXyavC",
    "outputId": "e7df7203-1de3-450a-c62a-ce8337c8c321"
   },
   "outputs": [
    {
     "name": "stdout",
     "output_type": "stream",
     "text": [
      "Epoch 1/300\n",
      "\u001b[1m117/117\u001b[0m \u001b[32m━━━━━━━━━━━━━━━━━━━━\u001b[0m\u001b[37m\u001b[0m \u001b[1m4s\u001b[0m 10ms/step - accuracy: 0.4772 - loss: 1.0197 - val_accuracy: 0.5765 - val_loss: 0.8973\n",
      "Epoch 2/300\n",
      "\u001b[1m117/117\u001b[0m \u001b[32m━━━━━━━━━━━━━━━━━━━━\u001b[0m\u001b[37m\u001b[0m \u001b[1m1s\u001b[0m 6ms/step - accuracy: 0.6271 - loss: 0.8222 - val_accuracy: 0.6631 - val_loss: 0.7755\n",
      "Epoch 3/300\n",
      "\u001b[1m117/117\u001b[0m \u001b[32m━━━━━━━━━━━━━━━━━━━━\u001b[0m\u001b[37m\u001b[0m \u001b[1m1s\u001b[0m 7ms/step - accuracy: 0.6947 - loss: 0.7139 - val_accuracy: 0.6920 - val_loss: 0.7026\n",
      "Epoch 4/300\n",
      "\u001b[1m117/117\u001b[0m \u001b[32m━━━━━━━━━━━━━━━━━━━━\u001b[0m\u001b[37m\u001b[0m \u001b[1m1s\u001b[0m 6ms/step - accuracy: 0.7052 - loss: 0.6645 - val_accuracy: 0.6930 - val_loss: 0.6799\n",
      "Epoch 5/300\n",
      "\u001b[1m117/117\u001b[0m \u001b[32m━━━━━━━━━━━━━━━━━━━━\u001b[0m\u001b[37m\u001b[0m \u001b[1m1s\u001b[0m 6ms/step - accuracy: 0.7487 - loss: 0.5874 - val_accuracy: 0.7112 - val_loss: 0.6543\n",
      "Epoch 6/300\n",
      "\u001b[1m117/117\u001b[0m \u001b[32m━━━━━━━━━━━━━━━━━━━━\u001b[0m\u001b[37m\u001b[0m \u001b[1m1s\u001b[0m 6ms/step - accuracy: 0.7669 - loss: 0.5603 - val_accuracy: 0.7380 - val_loss: 0.6490\n",
      "Epoch 7/300\n",
      "\u001b[1m117/117\u001b[0m \u001b[32m━━━━━━━━━━━━━━━━━━━━\u001b[0m\u001b[37m\u001b[0m \u001b[1m1s\u001b[0m 8ms/step - accuracy: 0.7865 - loss: 0.5146 - val_accuracy: 0.7551 - val_loss: 0.5771\n",
      "Epoch 8/300\n",
      "\u001b[1m117/117\u001b[0m \u001b[32m━━━━━━━━━━━━━━━━━━━━\u001b[0m\u001b[37m\u001b[0m \u001b[1m1s\u001b[0m 7ms/step - accuracy: 0.8099 - loss: 0.4712 - val_accuracy: 0.7519 - val_loss: 0.5955\n",
      "Epoch 9/300\n",
      "\u001b[1m117/117\u001b[0m \u001b[32m━━━━━━━━━━━━━━━━━━━━\u001b[0m\u001b[37m\u001b[0m \u001b[1m1s\u001b[0m 7ms/step - accuracy: 0.8081 - loss: 0.4852 - val_accuracy: 0.7925 - val_loss: 0.5322\n",
      "Epoch 10/300\n",
      "\u001b[1m117/117\u001b[0m \u001b[32m━━━━━━━━━━━━━━━━━━━━\u001b[0m\u001b[37m\u001b[0m \u001b[1m1s\u001b[0m 7ms/step - accuracy: 0.8363 - loss: 0.4232 - val_accuracy: 0.7807 - val_loss: 0.5398\n",
      "Epoch 11/300\n",
      "\u001b[1m117/117\u001b[0m \u001b[32m━━━━━━━━━━━━━━━━━━━━\u001b[0m\u001b[37m\u001b[0m \u001b[1m1s\u001b[0m 6ms/step - accuracy: 0.8319 - loss: 0.4183 - val_accuracy: 0.7786 - val_loss: 0.5508\n",
      "Epoch 12/300\n",
      "\u001b[1m117/117\u001b[0m \u001b[32m━━━━━━━━━━━━━━━━━━━━\u001b[0m\u001b[37m\u001b[0m \u001b[1m1s\u001b[0m 7ms/step - accuracy: 0.8434 - loss: 0.3847 - val_accuracy: 0.7679 - val_loss: 0.5458\n",
      "Epoch 13/300\n",
      "\u001b[1m117/117\u001b[0m \u001b[32m━━━━━━━━━━━━━━━━━━━━\u001b[0m\u001b[37m\u001b[0m \u001b[1m1s\u001b[0m 10ms/step - accuracy: 0.8545 - loss: 0.3715 - val_accuracy: 0.8107 - val_loss: 0.4784\n",
      "Epoch 14/300\n",
      "\u001b[1m117/117\u001b[0m \u001b[32m━━━━━━━━━━━━━━━━━━━━\u001b[0m\u001b[37m\u001b[0m \u001b[1m1s\u001b[0m 7ms/step - accuracy: 0.8620 - loss: 0.3478 - val_accuracy: 0.7947 - val_loss: 0.5026\n",
      "Epoch 15/300\n",
      "\u001b[1m117/117\u001b[0m \u001b[32m━━━━━━━━━━━━━━━━━━━━\u001b[0m\u001b[37m\u001b[0m \u001b[1m1s\u001b[0m 6ms/step - accuracy: 0.8743 - loss: 0.3198 - val_accuracy: 0.8332 - val_loss: 0.4419\n",
      "Epoch 16/300\n",
      "\u001b[1m117/117\u001b[0m \u001b[32m━━━━━━━━━━━━━━━━━━━━\u001b[0m\u001b[37m\u001b[0m \u001b[1m1s\u001b[0m 8ms/step - accuracy: 0.8835 - loss: 0.3145 - val_accuracy: 0.8139 - val_loss: 0.4875\n",
      "Epoch 17/300\n",
      "\u001b[1m117/117\u001b[0m \u001b[32m━━━━━━━━━━━━━━━━━━━━\u001b[0m\u001b[37m\u001b[0m \u001b[1m1s\u001b[0m 7ms/step - accuracy: 0.8823 - loss: 0.2924 - val_accuracy: 0.8396 - val_loss: 0.4486\n",
      "Epoch 18/300\n",
      "\u001b[1m117/117\u001b[0m \u001b[32m━━━━━━━━━━━━━━━━━━━━\u001b[0m\u001b[37m\u001b[0m \u001b[1m1s\u001b[0m 8ms/step - accuracy: 0.9009 - loss: 0.2606 - val_accuracy: 0.8374 - val_loss: 0.4221\n",
      "Epoch 19/300\n",
      "\u001b[1m117/117\u001b[0m \u001b[32m━━━━━━━━━━━━━━━━━━━━\u001b[0m\u001b[37m\u001b[0m \u001b[1m1s\u001b[0m 9ms/step - accuracy: 0.9059 - loss: 0.2529 - val_accuracy: 0.8267 - val_loss: 0.4782\n",
      "Epoch 20/300\n",
      "\u001b[1m117/117\u001b[0m \u001b[32m━━━━━━━━━━━━━━━━━━━━\u001b[0m\u001b[37m\u001b[0m \u001b[1m1s\u001b[0m 9ms/step - accuracy: 0.8991 - loss: 0.2472 - val_accuracy: 0.8246 - val_loss: 0.4769\n",
      "Epoch 21/300\n",
      "\u001b[1m117/117\u001b[0m \u001b[32m━━━━━━━━━━━━━━━━━━━━\u001b[0m\u001b[37m\u001b[0m \u001b[1m1s\u001b[0m 9ms/step - accuracy: 0.9139 - loss: 0.2257 - val_accuracy: 0.8364 - val_loss: 0.4551\n",
      "Epoch 22/300\n",
      "\u001b[1m117/117\u001b[0m \u001b[32m━━━━━━━━━━━━━━━━━━━━\u001b[0m\u001b[37m\u001b[0m \u001b[1m1s\u001b[0m 9ms/step - accuracy: 0.9209 - loss: 0.2219 - val_accuracy: 0.8406 - val_loss: 0.4196\n",
      "Epoch 23/300\n",
      "\u001b[1m117/117\u001b[0m \u001b[32m━━━━━━━━━━━━━━━━━━━━\u001b[0m\u001b[37m\u001b[0m \u001b[1m1s\u001b[0m 8ms/step - accuracy: 0.9155 - loss: 0.2136 - val_accuracy: 0.8545 - val_loss: 0.4111\n",
      "Epoch 24/300\n",
      "\u001b[1m117/117\u001b[0m \u001b[32m━━━━━━━━━━━━━━━━━━━━\u001b[0m\u001b[37m\u001b[0m \u001b[1m1s\u001b[0m 9ms/step - accuracy: 0.9226 - loss: 0.1902 - val_accuracy: 0.8481 - val_loss: 0.4372\n",
      "Epoch 25/300\n",
      "\u001b[1m117/117\u001b[0m \u001b[32m━━━━━━━━━━━━━━━━━━━━\u001b[0m\u001b[37m\u001b[0m \u001b[1m1s\u001b[0m 8ms/step - accuracy: 0.9360 - loss: 0.1776 - val_accuracy: 0.8535 - val_loss: 0.4093\n",
      "Epoch 26/300\n",
      "\u001b[1m117/117\u001b[0m \u001b[32m━━━━━━━━━━━━━━━━━━━━\u001b[0m\u001b[37m\u001b[0m \u001b[1m1s\u001b[0m 9ms/step - accuracy: 0.9349 - loss: 0.1733 - val_accuracy: 0.8396 - val_loss: 0.4289\n",
      "Epoch 27/300\n",
      "\u001b[1m117/117\u001b[0m \u001b[32m━━━━━━━━━━━━━━━━━━━━\u001b[0m\u001b[37m\u001b[0m \u001b[1m1s\u001b[0m 9ms/step - accuracy: 0.9251 - loss: 0.1713 - val_accuracy: 0.8578 - val_loss: 0.4138\n",
      "Epoch 28/300\n",
      "\u001b[1m117/117\u001b[0m \u001b[32m━━━━━━━━━━━━━━━━━━━━\u001b[0m\u001b[37m\u001b[0m \u001b[1m1s\u001b[0m 10ms/step - accuracy: 0.9331 - loss: 0.1765 - val_accuracy: 0.8674 - val_loss: 0.4239\n",
      "Epoch 29/300\n",
      "\u001b[1m117/117\u001b[0m \u001b[32m━━━━━━━━━━━━━━━━━━━━\u001b[0m\u001b[37m\u001b[0m \u001b[1m1s\u001b[0m 11ms/step - accuracy: 0.9546 - loss: 0.1293 - val_accuracy: 0.8781 - val_loss: 0.3865\n",
      "Epoch 30/300\n",
      "\u001b[1m117/117\u001b[0m \u001b[32m━━━━━━━━━━━━━━━━━━━━\u001b[0m\u001b[37m\u001b[0m \u001b[1m1s\u001b[0m 11ms/step - accuracy: 0.9526 - loss: 0.1306 - val_accuracy: 0.8674 - val_loss: 0.4139\n",
      "Epoch 31/300\n",
      "\u001b[1m117/117\u001b[0m \u001b[32m━━━━━━━━━━━━━━━━━━━━\u001b[0m\u001b[37m\u001b[0m \u001b[1m1s\u001b[0m 10ms/step - accuracy: 0.9566 - loss: 0.1262 - val_accuracy: 0.8684 - val_loss: 0.4224\n",
      "Epoch 32/300\n",
      "\u001b[1m117/117\u001b[0m \u001b[32m━━━━━━━━━━━━━━━━━━━━\u001b[0m\u001b[37m\u001b[0m \u001b[1m1s\u001b[0m 11ms/step - accuracy: 0.9561 - loss: 0.1178 - val_accuracy: 0.8610 - val_loss: 0.4446\n",
      "Epoch 33/300\n",
      "\u001b[1m117/117\u001b[0m \u001b[32m━━━━━━━━━━━━━━━━━━━━\u001b[0m\u001b[37m\u001b[0m \u001b[1m1s\u001b[0m 11ms/step - accuracy: 0.9571 - loss: 0.1102 - val_accuracy: 0.8631 - val_loss: 0.4152\n",
      "Epoch 34/300\n",
      "\u001b[1m117/117\u001b[0m \u001b[32m━━━━━━━━━━━━━━━━━━━━\u001b[0m\u001b[37m\u001b[0m \u001b[1m2s\u001b[0m 14ms/step - accuracy: 0.9645 - loss: 0.0994 - val_accuracy: 0.8578 - val_loss: 0.4350\n",
      "Epoch 35/300\n",
      "\u001b[1m117/117\u001b[0m \u001b[32m━━━━━━━━━━━━━━━━━━━━\u001b[0m\u001b[37m\u001b[0m \u001b[1m1s\u001b[0m 12ms/step - accuracy: 0.9706 - loss: 0.0863 - val_accuracy: 0.8791 - val_loss: 0.3921\n",
      "Epoch 36/300\n",
      "\u001b[1m117/117\u001b[0m \u001b[32m━━━━━━━━━━━━━━━━━━━━\u001b[0m\u001b[37m\u001b[0m \u001b[1m1s\u001b[0m 11ms/step - accuracy: 0.9651 - loss: 0.0915 - val_accuracy: 0.8578 - val_loss: 0.4910\n",
      "Epoch 37/300\n",
      "\u001b[1m117/117\u001b[0m \u001b[32m━━━━━━━━━━━━━━━━━━━━\u001b[0m\u001b[37m\u001b[0m \u001b[1m1s\u001b[0m 12ms/step - accuracy: 0.9680 - loss: 0.0842 - val_accuracy: 0.8674 - val_loss: 0.4427\n",
      "Epoch 38/300\n",
      "\u001b[1m117/117\u001b[0m \u001b[32m━━━━━━━━━━━━━━━━━━━━\u001b[0m\u001b[37m\u001b[0m \u001b[1m1s\u001b[0m 12ms/step - accuracy: 0.9709 - loss: 0.0812 - val_accuracy: 0.8503 - val_loss: 0.5147\n",
      "Epoch 39/300\n",
      "\u001b[1m117/117\u001b[0m \u001b[32m━━━━━━━━━━━━━━━━━━━━\u001b[0m\u001b[37m\u001b[0m \u001b[1m1s\u001b[0m 11ms/step - accuracy: 0.9644 - loss: 0.1118 - val_accuracy: 0.8791 - val_loss: 0.3804\n",
      "Epoch 40/300\n",
      "\u001b[1m117/117\u001b[0m \u001b[32m━━━━━━━━━━━━━━━━━━━━\u001b[0m\u001b[37m\u001b[0m \u001b[1m1s\u001b[0m 9ms/step - accuracy: 0.9672 - loss: 0.0837 - val_accuracy: 0.8738 - val_loss: 0.4149\n",
      "Epoch 41/300\n",
      "\u001b[1m117/117\u001b[0m \u001b[32m━━━━━━━━━━━━━━━━━━━━\u001b[0m\u001b[37m\u001b[0m \u001b[1m1s\u001b[0m 10ms/step - accuracy: 0.9721 - loss: 0.0714 - val_accuracy: 0.8834 - val_loss: 0.3848\n",
      "Epoch 42/300\n",
      "\u001b[1m117/117\u001b[0m \u001b[32m━━━━━━━━━━━━━━━━━━━━\u001b[0m\u001b[37m\u001b[0m \u001b[1m1s\u001b[0m 11ms/step - accuracy: 0.9760 - loss: 0.0680 - val_accuracy: 0.8898 - val_loss: 0.3868\n",
      "Epoch 43/300\n",
      "\u001b[1m117/117\u001b[0m \u001b[32m━━━━━━━━━━━━━━━━━━━━\u001b[0m\u001b[37m\u001b[0m \u001b[1m1s\u001b[0m 9ms/step - accuracy: 0.9786 - loss: 0.0644 - val_accuracy: 0.8898 - val_loss: 0.4488\n",
      "Epoch 44/300\n",
      "\u001b[1m117/117\u001b[0m \u001b[32m━━━━━━━━━━━━━━━━━━━━\u001b[0m\u001b[37m\u001b[0m \u001b[1m1s\u001b[0m 9ms/step - accuracy: 0.9793 - loss: 0.0541 - val_accuracy: 0.8834 - val_loss: 0.3990\n",
      "Epoch 45/300\n",
      "\u001b[1m117/117\u001b[0m \u001b[32m━━━━━━━━━━━━━━━━━━━━\u001b[0m\u001b[37m\u001b[0m \u001b[1m1s\u001b[0m 8ms/step - accuracy: 0.9905 - loss: 0.0306 - val_accuracy: 0.8877 - val_loss: 0.4438\n",
      "Epoch 46/300\n",
      "\u001b[1m117/117\u001b[0m \u001b[32m━━━━━━━━━━━━━━━━━━━━\u001b[0m\u001b[37m\u001b[0m \u001b[1m1s\u001b[0m 9ms/step - accuracy: 0.9747 - loss: 0.0673 - val_accuracy: 0.8556 - val_loss: 0.6531\n",
      "Epoch 47/300\n",
      "\u001b[1m117/117\u001b[0m \u001b[32m━━━━━━━━━━━━━━━━━━━━\u001b[0m\u001b[37m\u001b[0m \u001b[1m1s\u001b[0m 8ms/step - accuracy: 0.9680 - loss: 0.0794 - val_accuracy: 0.8845 - val_loss: 0.4631\n",
      "Epoch 48/300\n",
      "\u001b[1m117/117\u001b[0m \u001b[32m━━━━━━━━━━━━━━━━━━━━\u001b[0m\u001b[37m\u001b[0m \u001b[1m1s\u001b[0m 8ms/step - accuracy: 0.9798 - loss: 0.0647 - val_accuracy: 0.8770 - val_loss: 0.4363\n",
      "Epoch 49/300\n",
      "\u001b[1m117/117\u001b[0m \u001b[32m━━━━━━━━━━━━━━━━━━━━\u001b[0m\u001b[37m\u001b[0m \u001b[1m1s\u001b[0m 10ms/step - accuracy: 0.9896 - loss: 0.0289 - val_accuracy: 0.8845 - val_loss: 0.4719\n",
      "Epoch 50/300\n",
      "\u001b[1m117/117\u001b[0m \u001b[32m━━━━━━━━━━━━━━━━━━━━\u001b[0m\u001b[37m\u001b[0m \u001b[1m1s\u001b[0m 10ms/step - accuracy: 0.9822 - loss: 0.0474 - val_accuracy: 0.8738 - val_loss: 0.5026\n",
      "Epoch 51/300\n",
      "\u001b[1m117/117\u001b[0m \u001b[32m━━━━━━━━━━━━━━━━━━━━\u001b[0m\u001b[37m\u001b[0m \u001b[1m1s\u001b[0m 10ms/step - accuracy: 0.9843 - loss: 0.0457 - val_accuracy: 0.8856 - val_loss: 0.4733\n",
      "Epoch 52/300\n",
      "\u001b[1m117/117\u001b[0m \u001b[32m━━━━━━━━━━━━━━━━━━━━\u001b[0m\u001b[37m\u001b[0m \u001b[1m1s\u001b[0m 9ms/step - accuracy: 0.9794 - loss: 0.0549 - val_accuracy: 0.8845 - val_loss: 0.4658\n",
      "Epoch 53/300\n",
      "\u001b[1m117/117\u001b[0m \u001b[32m━━━━━━━━━━━━━━━━━━━━\u001b[0m\u001b[37m\u001b[0m \u001b[1m1s\u001b[0m 8ms/step - accuracy: 0.9894 - loss: 0.0297 - val_accuracy: 0.8941 - val_loss: 0.4505\n",
      "Epoch 54/300\n",
      "\u001b[1m117/117\u001b[0m \u001b[32m━━━━━━━━━━━━━━━━━━━━\u001b[0m\u001b[37m\u001b[0m \u001b[1m1s\u001b[0m 8ms/step - accuracy: 0.9850 - loss: 0.0451 - val_accuracy: 0.8770 - val_loss: 0.4672\n"
     ]
    }
   ],
   "source": [
    " # 모델 컴파일 및 학습\n",
    "model.compile(optimizer=Adam(learning_rate=0.001), loss=\"categorical_crossentropy\", metrics=[\"accuracy\"])\n",
    "es = EarlyStopping(monitor = 'val_loss', min_delta = 0, patience = 15, mode = 'auto', restore_best_weights=True)\n",
    "history = model.fit(X_train, y_train, validation_data=(X_val, y_val), epochs=300, batch_size=32, callbacks=es).history"
   ]
  },
  {
   "cell_type": "code",
   "execution_count": 17,
   "metadata": {},
   "outputs": [
    {
     "data": {
      "image/png": "[encoded data removed]",
      "text/plain": [
       "<Figure size 640x480 with 1 Axes>"
      ]
     },
     "metadata": {},
     "output_type": "display_data"
    }
   ],
   "source": [
    "plt.plot(history['loss'], label = 'train_err', marker = '.')\n",
    "plt.plot(history['val_loss'], label = 'val_err', marker = '.')\n",
    "plt.grid()\n",
    "plt.legend()\n",
    "plt.show()"
   ]
  },
  {
   "cell_type": "code",
   "execution_count": 18,
   "metadata": {
    "colab": {
     "base_uri": "https://localhost:8080/"
    },
    "executionInfo": {
     "elapsed": 547,
     "status": "ok",
     "timestamp": 1736498705187,
     "user": {
      "displayName": "신호용",
      "userId": "04424386186383145760"
     },
     "user_tz": -540
    },
    "id": "OCB8taP2yavC",
    "outputId": "c18c1b7b-de05-4ffb-a0c5-14ab56503bfa"
   },
   "outputs": [
    {
     "name": "stderr",
     "output_type": "stream",
     "text": [
      "WARNING:absl:You are saving your model as an HDF5 file via `model.save()` or `keras.saving.save_model(model)`. This file format is considered legacy. We recommend using instead the native Keras format, e.g. `model.save('my_model.keras')` or `keras.saving.save_model(model, 'my_model.keras')`. \n"
     ]
    }
   ],
   "source": [
    "# 모델 저장\n",
    "output_model = './Model/LSTM.h5'\n",
    "model.save(output_model)"
   ]
  },
  {
   "cell_type": "code",
   "execution_count": 19,
   "metadata": {
    "colab": {
     "base_uri": "https://localhost:8080/"
    },
    "executionInfo": {
     "elapsed": 407,
     "status": "ok",
     "timestamp": 1736817098363,
     "user": {
      "displayName": "신호용",
      "userId": "04424386186383145760"
     },
     "user_tz": -540
    },
    "id": "zWxhnnUcOYPs",
    "outputId": "de5babdf-b6f8-47a8-ec48-07c37aecb7a4"
   },
   "outputs": [
    {
     "name": "stdout",
     "output_type": "stream",
     "text": [
      "검증 데이터 정확도: 87.91%\n"
     ]
    }
   ],
   "source": [
    "# 학습된 모델 평가\n",
    "loss, accuracy = model.evaluate(X_val, y_val, verbose=0)\n",
    "print(f\"검증 데이터 정확도: {accuracy * 100:.2f}%\")"
   ]
  }
 ],
 "metadata": {
  "colab": {
   "provenance": []
  },
  "kernelspec": {
   "display_name": "action_recognition",
   "language": "python",
   "name": "python3"
  },
  "language_info": {
   "codemirror_mode": {
    "name": "ipython",
    "version": 3
   },
   "file_extension": ".py",
   "mimetype": "text/x-python",
   "name": "python",
   "nbconvert_exporter": "python",
   "pygments_lexer": "ipython3",
   "version": "3.12.8"
  }
 },
 "nbformat": 4,
 "nbformat_minor": 0
}
